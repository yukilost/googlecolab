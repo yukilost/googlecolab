{
  "nbformat": 4,
  "nbformat_minor": 0,
  "metadata": {
    "colab": {
      "name": "shoes_price_prediction.ipynb",
      "provenance": [],
      "toc_visible": true,
      "authorship_tag": "ABX9TyOaE8SWhxq+gzUVWFxhjMeP",
      "include_colab_link": true
    },
    "kernelspec": {
      "name": "python3",
      "display_name": "Python 3"
    }
  },
  "cells": [
    {
      "cell_type": "markdown",
      "metadata": {
        "id": "view-in-github",
        "colab_type": "text"
      },
      "source": [
        "<a href=\"https://colab.research.google.com/github/yukilost/googlecolab/blob/main/shoes_price_prediction.ipynb\" target=\"_parent\"><img src=\"https://colab.research.google.com/assets/colab-badge.svg\" alt=\"Open In Colab\"/></a>"
      ]
    },
    {
      "cell_type": "markdown",
      "metadata": {
        "id": "mFTIabpJOaE7"
      },
      "source": [
        "<h1><strong>深層学習を用いたCG・画像処理</strong></h1>"
      ]
    },
    {
      "cell_type": "markdown",
      "metadata": {
        "id": "cXonqPGzzQWW"
      },
      "source": [
        "Google Driveのマウント"
      ]
    },
    {
      "cell_type": "code",
      "metadata": {
        "colab": {
          "base_uri": "https://localhost:8080/"
        },
        "id": "xjhAZxfGzVvU",
        "outputId": "26175f22-ecb7-4a98-b40f-9d3c912a002a"
      },
      "source": [
        "from google.colab import drive\n",
        "drive.mount('/content/drive')"
      ],
      "execution_count": null,
      "outputs": [
        {
          "output_type": "stream",
          "text": [
            "Mounted at /content/drive\n"
          ],
          "name": "stdout"
        }
      ]
    },
    {
      "cell_type": "markdown",
      "metadata": {
        "id": "6TzS2MdHStXr"
      },
      "source": [
        "モジュールのインポート"
      ]
    },
    {
      "cell_type": "code",
      "metadata": {
        "id": "cbeZGx0-Svv_"
      },
      "source": [
        "import numpy as np\n",
        "import torch\n",
        "import torch.nn as nn\n",
        "from torch.utils.data import Dataset, DataLoader\n",
        "import torchvision.transforms as transforms\n",
        "from PIL import Image\n",
        "import matplotlib.pyplot as plt\n",
        "import csv"
      ],
      "execution_count": null,
      "outputs": []
    },
    {
      "cell_type": "markdown",
      "metadata": {
        "id": "DxLwK8mZhsg_"
      },
      "source": [
        "使用するデバイスの指定"
      ]
    },
    {
      "cell_type": "code",
      "metadata": {
        "id": "tokHwfVfhuoU"
      },
      "source": [
        "device = torch.device(\"cuda\") if torch.cuda_is_available() else torch.device(\"cpu\")"
      ],
      "execution_count": null,
      "outputs": []
    },
    {
      "cell_type": "markdown",
      "metadata": {
        "id": "51UUOY66gWNR"
      },
      "source": [
        "# スクレイピング"
      ]
    },
    {
      "cell_type": "markdown",
      "metadata": {
        "id": "4gGg42WQv4HB"
      },
      "source": [
        "## scrape.py"
      ]
    },
    {
      "cell_type": "markdown",
      "metadata": {
        "id": "TUNAki-Tg5Ap"
      },
      "source": [
        "ZOZOから靴の画像、カテゴリ、ブランド、値段を取得する。  \n",
        "画像のURLを利用してデータが重複しないようにする。  \n",
        "Google Colaboratoryで実行すると混雑時のページに飛ばされてしまうためローカル環境で実行する必要がある。  \n",
        ">csvデータの形式  \n",
        ">[id, url, category, brand, price]"
      ]
    },
    {
      "cell_type": "code",
      "metadata": {
        "id": "V8DXGBwegaOJ"
      },
      "source": [
        "# scrape.py\n",
        "\n",
        "import requests\n",
        "from bs4 import BeautifulSoup\n",
        "import csv\n",
        "import time\n",
        "import re\n",
        "\n",
        "# 画像を保存するディレクトリ\n",
        "imgdir = \"./images/\"\n",
        "\n",
        "# 収集したデータの集合\n",
        "collected = set()\n",
        "\n",
        "# csvファイルから収集済みデータを読み込む\n",
        "file = open(\"shoes.csv\")\n",
        "reader = csv.reader(file)\n",
        "\n",
        "for row in reader:\n",
        "    collected.add(row[1])\n",
        "\n",
        "file.close()\n",
        "\n",
        "# データの追加\n",
        "file = open(\"shoes.csv\", \"a\", encoding=\"utf-8\", newline=\"\")\n",
        "writer = csv.writer(file)\n",
        "\n",
        "# 画像のファイル名に使用するid\n",
        "id = len(collected) + 1\n",
        "\n",
        "# 収集するページの範囲\n",
        "start = 1\n",
        "end = 17\n",
        "\n",
        "for pagenum in range(start, end):\n",
        "    # 進捗状況の表示\n",
        "    print(str((pagenum-start)/(end-start)*100) + \"%\")\n",
        "\n",
        "    # 取得したHTMLファイルから必要な要素を取り出す\n",
        "    url = \"https://zozo.jp/category/shoes/slip-on/?pno=\" + str(pagenum)\n",
        "    response = requests.get(url)\n",
        "    soup = BeautifulSoup(response.content, \"lxml\")\n",
        "    items = soup.find_all(\"div\", class_=\"catalog-item-container\") \n",
        "\n",
        "    for item in items:\n",
        "        discountrate = 0\n",
        "\n",
        "        content = item.find(\"img\", class_=\"catalog-img\")\n",
        "\n",
        "        # 稀にcontentがNoneTyepオブジェクトになるため\n",
        "        if not content:\n",
        "            continue\n",
        "\n",
        "        # 画像のソース\n",
        "        imgref = content[\"data-src\"]\n",
        "\n",
        "        # 収集済みであったらスキップ\n",
        "        if imgref in collected:\n",
        "            continue\n",
        "\n",
        "        img = requests.get(imgref)\n",
        "\n",
        "        # カテゴリ\n",
        "        # ナイキの「エアマックス（スニーカー）」のようになっているため正規表現によりカテゴリ部分のみを抽出する\n",
        "        category = re.match(\".*（(.*?)）\", content[\"alt\"]).group(1)\n",
        "\n",
        "        # 関係ないもの、扱いづらいものはスキップ\n",
        "        if category == \"その他シューズ\" or category == \"シューケア用品\" or category == \"シューズアクセサリー\" or category == \"インソール/シューズクッション\" or category == \"シューズ小物/雑貨\":\n",
        "            continue\n",
        "\n",
        "        # ブランド\n",
        "        brand = item.find(\"div\", class_=\"catalog-h\").text\n",
        "\n",
        "        # 割引率\n",
        "        sale = item.find(\"span\", class_=\"feed-tag -sale -discountrate\")\n",
        "        if sale:\n",
        "            discountrate = int(sale.text)\n",
        "\n",
        "        # 値段\n",
        "        # ￥10,000 のように表示されているため記号を取り除き、割引き前の値段に修正\n",
        "        price = int(item.find(\"div\", class_=\"catalog-price-amount\").text[1:].replace(\",\", \"\"))\n",
        "        if discountrate:\n",
        "            price = int(price * 100 / discountrate)\n",
        "\n",
        "        # 情報が欠けていたらスキップ\n",
        "        if not (imgref and category and brand and price and img):\n",
        "            continue\n",
        "\n",
        "        # 書き込み\n",
        "        writer.writerow([id, imgref, category, brand, price])\n",
        "        imgfile = open(imgdir + str(id) + \".jpg\", \"wb\")\n",
        "        imgfile.write(img.content)\n",
        "        imgfile.close()\n",
        "\n",
        "        # 商品に対して一意なimgrefをキーとして収集済みデータに登録する\n",
        "        collected.add(imgref)\n",
        "\n",
        "        id += 1\n",
        "\n",
        "        # 短時間に集中的にアクセスしないようにする\n",
        "        time.sleep(1)\n",
        "    \n",
        "    time.sleep(10)\n",
        "\n",
        "file.close()"
      ],
      "execution_count": null,
      "outputs": []
    },
    {
      "cell_type": "markdown",
      "metadata": {
        "id": "1WSQfveXv-GM"
      },
      "source": [
        "## processing.py"
      ]
    },
    {
      "cell_type": "markdown",
      "metadata": {
        "id": "8Mx8lF1ZueqO"
      },
      "source": [
        "収集したデータを加工する。  \n",
        "ブランド数が多すぎるため閾値を超えないブランドはその他とする。"
      ]
    },
    {
      "cell_type": "code",
      "metadata": {
        "id": "rMjZ6TZOufBV"
      },
      "source": [
        "# processing.py\n",
        "\n",
        "import csv\n",
        "\n",
        "# バックアップのためshoes.csvをコピーしたファイルを使用\n",
        "file = open(\"/content/drive/MyDrive/deep/copy.csv\")\n",
        "reader = csv.reader(file)\n",
        "\n",
        "# 特定のブランドの商品数をカウント\n",
        "count_brands = dict()\n",
        "\n",
        "for row in reader:\n",
        "    count_brands.setdefault(row[3], 0)\n",
        "    count_brands[row[3]] += 1\n",
        "\n",
        "# ポインタを先頭に戻す\n",
        "file.seek(0)\n",
        "reader = csv.reader(file)\n",
        "\n",
        "# 処理結果\n",
        "outfile = open(\"/content/drive/MyDrive/deep/processed.csv\", \"w\", encoding=\"utf-8\", newline=\"\")\n",
        "writer = csv.writer(outfile)\n",
        "\n",
        "# 閾値\n",
        "thresh = 100\n",
        "\n",
        "for row in reader:\n",
        "    if count_brands[row[3]] < thresh:\n",
        "        row[3] = \"その他\"\n",
        "    writer.writerow([row[0], row[1], row[2], row[3], row[4]])\n",
        "\n",
        "file.close()\n",
        "outfile.close()"
      ],
      "execution_count": null,
      "outputs": []
    },
    {
      "cell_type": "markdown",
      "metadata": {
        "id": "B_wa2vyMx917"
      },
      "source": [
        "## analyze.py"
      ]
    },
    {
      "cell_type": "markdown",
      "metadata": {
        "id": "R12TdDROyRse"
      },
      "source": [
        "csvファイルを解析する。"
      ]
    },
    {
      "cell_type": "code",
      "metadata": {
        "colab": {
          "base_uri": "https://localhost:8080/"
        },
        "id": "aFyxQlV3yNSg",
        "outputId": "1c5f5422-66e1-405e-f1aa-1bfc3fed48a3"
      },
      "source": [
        "# analyze.py\n",
        "\n",
        "import csv\n",
        "\n",
        "# 加工したcsvファイル\n",
        "file = open('/content/drive/MyDrive/deep/processed.csv')\n",
        "reader = csv.reader(file)\n",
        "\n",
        "# 全データ数\n",
        "size = sum(1 for row in reader)\n",
        "\n",
        "# ポインタを先頭へ戻す\n",
        "file.seek(0)\n",
        "reader = csv.reader(file)\n",
        "\n",
        "# カテゴリ、ブランドごとに商品数を数える\n",
        "count_categories = dict()\n",
        "count_brands = dict()\n",
        "\n",
        "# 値段の詳細情報\n",
        "minprice = 1000000\n",
        "maxprice = 0\n",
        "aveprice = 0\n",
        "\n",
        "for row in reader:\n",
        "    count_categories.setdefault(row[2], 0)\n",
        "    count_categories[row[2]] += 1\n",
        "    count_brands.setdefault(row[3], 0)\n",
        "    count_brands[row[3]] += 1\n",
        "    if minprice > int(row[4]):\n",
        "        minprice = int(row[4])\n",
        "    if maxprice < int(row[4]):\n",
        "        maxprice = int(row[4])\n",
        "    aveprice += int(row[4]) / size\n",
        "\n",
        "file.close()\n",
        "\n",
        "# 降順にソート\n",
        "sorted_categories = sorted(count_categories.items(), key=lambda x:x[1], reverse=True)\n",
        "sorted_brands = sorted(count_brands.items(), key=lambda x:x[1], reverse=True)\n",
        "\n",
        "print(\"data size : \" + str(size))\n",
        "print(\"\\n\")\n",
        "\n",
        "print(\"minprice : \" + str(minprice))\n",
        "print(\"maxprice : \" + str(maxprice))\n",
        "print(\"aveprice : \" + str(aveprice))\n",
        "print(\"\\n\")\n",
        "\n",
        "print(str(len(sorted_categories)) + \" categories\")\n",
        "for item in sorted_categories:\n",
        "    print(item[0] + \" : \" + str(item[1]))\n",
        "print(\"\\n\")\n",
        "\n",
        "print(str(len(sorted_brands)) + \" brands\")\n",
        "for item in sorted_brands:\n",
        "    print(item[0] + \" : \" + str(item[1]))"
      ],
      "execution_count": null,
      "outputs": [
        {
          "output_type": "stream",
          "text": [
            "data size : 16650\n",
            "\n",
            "\n",
            "minprice : 550\n",
            "maxprice : 566666\n",
            "aveprice : 13360.347567567305\n",
            "\n",
            "\n",
            "10 categories\n",
            "ドレスシューズ : 2143\n",
            "サンダル : 1832\n",
            "バレエシューズ : 1817\n",
            "ブーツ : 1669\n",
            "モカシン/デッキシューズ : 1662\n",
            "スリッポン : 1601\n",
            "スニーカー : 1578\n",
            "ローファー : 1511\n",
            "レインシューズ : 1459\n",
            "パンプス : 1378\n",
            "\n",
            "\n",
            "37 brands\n",
            "その他 : 9114\n",
            "menue : 576\n",
            "LibertyDoll : 499\n",
            "NIKE : 395\n",
            "SESTO : 389\n",
            "Minnetonka : 347\n",
            "AAA+ : 342\n",
            "adidas : 330\n",
            "EMU Australia : 282\n",
            "AmiAmi : 277\n",
            "Vivian : 275\n",
            "HUNTER : 270\n",
            "SVEC : 180\n",
            "MAMIAN : 179\n",
            "ORiental TRaffic : 178\n",
            "EVOL : 177\n",
            "New Balance : 176\n",
            "Dr.Martens : 172\n",
            "crocs : 166\n",
            "Shoes in Closet : 162\n",
            "NOFALL : 158\n",
            "SOROTTO : 156\n",
            "Odette e Odile : 150\n",
            "CONVERSE : 146\n",
            "CHARLES & KEITH : 146\n",
            "Reebok : 145\n",
            "KOBE LETTUCE : 135\n",
            "FREAK’S STORE : 134\n",
            "Fabby fabby : 127\n",
            "BIRKENSTOCK : 121\n",
            "JELLY BEANS : 119\n",
            "Columbia : 107\n",
            "UGG : 106\n",
            "Dedes : 106\n",
            "Fabio Rusconi : 104\n",
            "HARUTA : 103\n",
            "RANDA : 101\n"
          ],
          "name": "stdout"
        }
      ]
    },
    {
      "cell_type": "markdown",
      "metadata": {
        "id": "2DTDSJsr0kSy"
      },
      "source": [
        "## onehot.py"
      ]
    },
    {
      "cell_type": "markdown",
      "metadata": {
        "id": "5lUyrzKD0q5k"
      },
      "source": [
        "加工済みのデータprocessed.csvをone-hot表現に変換する。"
      ]
    },
    {
      "cell_type": "code",
      "metadata": {
        "id": "e7YG-rUN0jU1"
      },
      "source": [
        "# onehot.py\n",
        "\n",
        "import csv\n",
        "\n",
        "file = open(\"/content/drive/MyDrive/deep/processed.csv\")\n",
        "reader = csv.reader(file)\n",
        "\n",
        "# カテゴリ名、ブランド名\n",
        "categories = set()\n",
        "brands = set()\n",
        "\n",
        "category_list = []\n",
        "brand_list = []\n",
        "\n",
        "for row in reader:\n",
        "    categories.add(row[2])\n",
        "    brands.add(row[3])\n",
        "\n",
        "category_num = len(categories)\n",
        "brand_num = len(brands)\n",
        "\n",
        "for item in categories:\n",
        "    category_list.append(item)\n",
        "for item in brands:\n",
        "    brand_list.append(item)\n",
        "    \n",
        "category_list.sort()\n",
        "brand_list.sort()\n",
        "\n",
        "# one-hot表現への変換\n",
        "def make_category_onehot(category):\n",
        "    cv = [0] * category_num\n",
        "    for i in range(category_num):\n",
        "        if(category == category_list[i]):\n",
        "            cv[i] = 1\n",
        "            return cv\n",
        "\n",
        "def make_brand_onehot(brand):\n",
        "    bv = [0] * brand_num\n",
        "    for i in range(brand_num):\n",
        "        if(brand == brand_list[i]):\n",
        "            bv[i] = 1\n",
        "            return bv\n",
        "\n",
        "outfile = open(\"onehot.csv\", \"w\", encoding=\"utf-8\", newline=\"\")\n",
        "writer = csv.writer(outfile)\n",
        "\n",
        "file.seek(0)\n",
        "reader = csv.reader(file)\n",
        "\n",
        "for row in reader:\n",
        "    cv = make_category_onehot(row[2])\n",
        "    bv = make_brand_onehot(row[3])\n",
        "    write_list = [row[0]] + cv + bv + [row[4]]\n",
        "    writer.writerow(write_list)\n",
        "\n",
        "file.close()\n",
        "outfile.close()"
      ],
      "execution_count": null,
      "outputs": []
    },
    {
      "cell_type": "markdown",
      "metadata": {
        "id": "IluLhy7AOQ-m"
      },
      "source": [
        "#実行結果"
      ]
    },
    {
      "cell_type": "markdown",
      "metadata": {
        "id": "6ETOFW47_RC2"
      },
      "source": [
        "## データセット作成"
      ]
    },
    {
      "cell_type": "code",
      "metadata": {
        "colab": {
          "base_uri": "https://localhost:8080/"
        },
        "id": "K72Qhh3L_Tsu",
        "outputId": "f967586a-b407-4d06-a514-b3ebca34bbd2"
      },
      "source": [
        "class ShoesData(torch.utils.data.Dataset):\n",
        "  def __init__(self, img_path, csv_path):\n",
        "\n",
        "    self.img_path = img_path\n",
        "\n",
        "    category_onehot = list()\n",
        "    brand_onehot = list()\n",
        "    price = list()\n",
        "\n",
        "    # csvファイル読み込み\n",
        "    file = open(csv_path)\n",
        "    reader = csv.reader(file)\n",
        "    for row in reader:\n",
        "      # 数値データに変換\n",
        "      row_i = [int(elem) for elem in row]\n",
        "      category_onehot.append(row_i[1:11])\n",
        "      brand_onehot.append(row_i[11:48])\n",
        "      price.append(row_i[48])\n",
        "\n",
        "    self.data_size = len(category_onehot)\n",
        "    self.category_onehot = torch.Tensor(category_onehot)\n",
        "    self.brand_onehot = torch.Tensor(brand_onehot)\n",
        "    self.price = torch.Tensor(price)\n",
        "\n",
        "  def __len__(self):\n",
        "    return self.data_size\n",
        "\n",
        "  def __getitem__(self, idx):\n",
        "    transform = torchvision.transforms.Compose([\n",
        "      torchvision.transforms.Resize([256, 256]),\n",
        "      torchvision.transforms.ToTensor()                                              \n",
        "    ])\n",
        "    image = transform(Image.open(self.img_path + str(idx+1) + '.jpg').convert('RGB'))\n",
        "\n",
        "    return image, self.category_onehot[idx], self.brand_onehot[idx], self.price[idx]\n",
        "\n",
        "  # デバッグ用\n",
        "  def showData(self, idx):\n",
        "    transform = torchvision.transforms.Compose([\n",
        "      torchvision.transforms.Resize([256, 256])\n",
        "    ])\n",
        "    image = transform(Image.open(self.img_path + str(idx+1) + '.jpg').convert('RGB'))\n",
        "\n",
        "    print(self.category_onehot.shape)\n",
        "    print(self.brand_onehot.shape)\n",
        "    print(self.price.shape)\n",
        "\n",
        "    print(self.category_onehot[idx])\n",
        "    print(self.brand_onehot[idx])\n",
        "    print(self.price[idx])\n",
        "    plt.imshow(np.asarray(image))\n",
        "\n",
        "dataset = ShoesData('/content/drive/MyDrive/deep/images/', '/content/drive/MyDrive/deep/onehot.csv')\n",
        "dataset.showData(0)\n",
        "\n",
        "# データセットの分割\n",
        "data_size = len(dataset)\n",
        "train_size = int(data_size * 0.8)\n",
        "test_size = data_size - train_size\n",
        "\n",
        "# データ数に対して割り切れるように設定する\n",
        "train_batch_size = 155\n",
        "test_batch_size = 110\n",
        "\n",
        "train_data, test_data = torch.utils.data.random_split(dataset, [train_size, test_size])\n",
        "\n",
        "train_loader = torch.utils.data.DataLoader(dataset=train_data, batch_size=train_batch_size, shuffle=True)\n",
        "test_loader = torch.utils.data.DataLoader(dataset=test_data, batch_size=test_batch_size, shuffle=True)"
      ],
      "execution_count": null,
      "outputs": [
        {
          "output_type": "stream",
          "text": [
            "torch.Size([16650, 10])\n",
            "torch.Size([16650, 37])\n",
            "torch.Size([16650])\n",
            "tensor([0., 1., 0., 0., 0., 0., 0., 0., 0., 0.])\n",
            "tensor([0., 0., 0., 0., 0., 0., 0., 0., 0., 0., 0., 0., 0., 0., 0., 0., 0., 0.,\n",
            "        0., 0., 1., 0., 0., 0., 0., 0., 0., 0., 0., 0., 0., 0., 0., 0., 0., 0.,\n",
            "        0.])\n",
            "tensor(14300.)\n"
          ],
          "name": "stdout"
        },
        {
          "output_type": "display_data",
          "data": {
            "image/png": "[encoded data removed]",
            "text/plain": [
              "<Figure size 432x288 with 1 Axes>"
            ]
          },
          "metadata": {
            "tags": [],
            "needs_background": "light"
          }
        }
      ]
    },
    {
      "cell_type": "markdown",
      "metadata": {
        "id": "mex_Ib7q_rBv"
      },
      "source": [
        "## 学習"
      ]
    },
    {
      "cell_type": "markdown",
      "metadata": {
        "id": "XT4Z1u6R_k9Z"
      },
      "source": [
        "ネットワーク定義"
      ]
    },
    {
      "cell_type": "code",
      "metadata": {
        "id": "u6MdtBoV_nTi"
      },
      "source": [
        "activate = torch.nn.LeakyReLU()\n",
        "\n",
        "class CNN(torch.nn.Module):\n",
        "  def __init__(self):\n",
        "    super(CNN, self).__init__()\n",
        "\n",
        "    # (3, 256, 256)\n",
        "    self.conv11 = torch.nn.Conv2d(in_channels=3, out_channels=8, kernel_size=3, stride=1, padding=1)\n",
        "    self.conv12 = torch.nn.Conv2d(in_channels=8, out_channels=16, kernel_size=3, stride=1, padding=1)\n",
        "    self.pool1 = torch.nn.MaxPool2d(kernel_size=4, stride=4)\n",
        "\n",
        "    # (16, 64, 64)\n",
        "    self.conv21 = torch.nn.Conv2d(in_channels=16, out_channels=32, kernel_size=3, stride=1, padding=1)\n",
        "    self.conv22 = torch.nn.Conv2d(in_channels=32, out_channels=64, kernel_size=3, stride=1, padding=1)\n",
        "    self.pool2 = torch.nn.MaxPool2d(kernel_size=4, stride=4)\n",
        "\n",
        "    # (64, 16, 16)\n",
        "    self.fc1 = torch.nn.Linear(in_features=64*16*16, out_features=1024)\n",
        "    self.fc2 = torch.nn.Linear(in_features=1024, out_features=512)\n",
        "    self.fc3 = torch.nn.Linear(in_features=512, out_features=64)\n",
        "    self.fc4 = torch.nn.Linear(in_features=64, out_features=1)\n",
        "\n",
        "  def forward(self, x):\n",
        "    x = activate(self.conv11(x))\n",
        "    x = activate(self.conv12(x))\n",
        "    x = self.pool1(x)\n",
        "    x = activate(self.conv21(x))\n",
        "    x = activate(self.conv22(x))\n",
        "    x = self.pool2(x)\n",
        "    x = x.view(-1, 64*16*16)\n",
        "    x = activate(self.fc1(x))\n",
        "    x = activate(self.fc2(x))\n",
        "    x = activate(self.fc3(x))\n",
        "    x = activate(self.fc4(x))\n",
        "    return x[:,0]"
      ],
      "execution_count": null,
      "outputs": []
    },
    {
      "cell_type": "markdown",
      "metadata": {
        "id": "iu9JcRyT6_vH"
      },
      "source": [
        "学習"
      ]
    },
    {
      "cell_type": "code",
      "metadata": {
        "colab": {
          "base_uri": "https://localhost:8080/",
          "height": 1000
        },
        "id": "l9MB1E4o_sMs",
        "outputId": "085bf045-fa45-45d1-8495-0aa76681a5c9"
      },
      "source": [
        "model = CNN()\n",
        "criterion = torch.nn.MSELoss()\n",
        "optimizer = torch.optim.Adam(model.parameters())\n",
        "\n",
        "epoch_num = 10\n",
        "div_term = 100000\n",
        "train_loss = []\n",
        "test_loss = []\n",
        "\n",
        "for epoch in range(epoch_num):\n",
        "  print('-'*40)\n",
        "  print('epoch : ' + str(epoch+1) + '/' + str(epoch_num))\n",
        "\n",
        "  model.train()\n",
        "  count = 1\n",
        "  running_train_loss = 0\n",
        "  for image, category, brand, price in train_loader:\n",
        "    #print('batch : ' + str(count))\n",
        "    optimizer.zero_grad()\n",
        "    output = model(image)\n",
        "    loss = criterion(output, price/div_term)\n",
        "    running_train_loss += loss.item()\n",
        "    loss.backward()\n",
        "    optimizer.step()\n",
        "    count += 1\n",
        "  \n",
        "  train_loss.append(running_train_loss/math.sqrt(train_size))\n",
        "\n",
        "  model.eval()\n",
        "  running_test_loss = 0\n",
        "  with torch.no_grad():\n",
        "    for image, category, brand, price in test_loader:\n",
        "      output = model(image)\n",
        "      loss = criterion(output, price/div_term)\n",
        "      running_test_loss += loss.item()\n",
        "\n",
        "  test_loss.append(running_test_loss/math.sqrt(test_size))\n",
        "\n",
        "  print('train loss : {}'.format(running_train_loss/math.sqrt(train_size)))\n",
        "  print('test loss : {}'.format(running_test_loss/math.sqrt(test_size)))\n",
        "\n",
        "fig = plt.figure()\n",
        "ax = fig.add_subplot()\n",
        "ax.set_xlabel('epoch')\n",
        "ax.set_ylabel('loss')\n",
        "ax.plot(train_loss, label='train')\n",
        "ax.plot(test_loss, label='test')\n",
        "plt.show()"
      ],
      "execution_count": null,
      "outputs": [
        {
          "output_type": "stream",
          "text": [
            "----------------------------------------\n",
            "epoch : 1/10\n",
            "batch : 1\n",
            "batch : 2\n",
            "batch : 3\n",
            "batch : 4\n",
            "batch : 5\n",
            "batch : 6\n",
            "batch : 7\n",
            "batch : 8\n",
            "batch : 9\n",
            "batch : 10\n",
            "batch : 11\n",
            "batch : 12\n",
            "batch : 13\n",
            "batch : 14\n",
            "batch : 15\n",
            "batch : 16\n",
            "batch : 17\n",
            "batch : 18\n",
            "batch : 19\n",
            "batch : 20\n",
            "batch : 21\n",
            "batch : 22\n",
            "batch : 23\n",
            "batch : 24\n",
            "batch : 25\n",
            "batch : 26\n",
            "batch : 27\n",
            "batch : 28\n",
            "batch : 29\n",
            "batch : 30\n",
            "batch : 31\n",
            "batch : 32\n",
            "batch : 33\n",
            "batch : 34\n",
            "batch : 35\n",
            "batch : 36\n",
            "batch : 37\n",
            "batch : 38\n",
            "batch : 39\n",
            "batch : 40\n",
            "batch : 41\n",
            "batch : 42\n",
            "batch : 43\n",
            "batch : 44\n",
            "batch : 45\n",
            "batch : 46\n",
            "batch : 47\n",
            "batch : 48\n",
            "batch : 49\n",
            "batch : 50\n",
            "batch : 51\n",
            "batch : 52\n",
            "batch : 53\n",
            "batch : 54\n",
            "batch : 55\n",
            "batch : 56\n",
            "batch : 57\n",
            "batch : 58\n",
            "batch : 59\n",
            "batch : 60\n",
            "batch : 61\n",
            "batch : 62\n",
            "batch : 63\n",
            "batch : 64\n",
            "batch : 65\n",
            "batch : 66\n",
            "batch : 67\n",
            "batch : 68\n",
            "batch : 69\n",
            "batch : 70\n",
            "batch : 71\n",
            "batch : 72\n",
            "batch : 73\n",
            "batch : 74\n",
            "batch : 75\n",
            "batch : 76\n",
            "batch : 77\n",
            "batch : 78\n",
            "batch : 79\n",
            "batch : 80\n",
            "batch : 81\n",
            "batch : 82\n",
            "batch : 83\n",
            "batch : 84\n",
            "batch : 85\n",
            "batch : 86\n",
            "train loss : 0.024541641569257453\n",
            "test loss : 0.02768566153132241\n",
            "----------------------------------------\n",
            "epoch : 2/10\n",
            "batch : 1\n",
            "batch : 2\n",
            "batch : 3\n",
            "batch : 4\n",
            "batch : 5\n",
            "batch : 6\n",
            "batch : 7\n",
            "batch : 8\n",
            "batch : 9\n",
            "batch : 10\n",
            "batch : 11\n",
            "batch : 12\n",
            "batch : 13\n",
            "batch : 14\n",
            "batch : 15\n",
            "batch : 16\n",
            "batch : 17\n",
            "batch : 18\n",
            "batch : 19\n",
            "batch : 20\n",
            "batch : 21\n",
            "batch : 22\n",
            "batch : 23\n",
            "batch : 24\n",
            "batch : 25\n",
            "batch : 26\n",
            "batch : 27\n",
            "batch : 28\n",
            "batch : 29\n",
            "batch : 30\n",
            "batch : 31\n",
            "batch : 32\n",
            "batch : 33\n",
            "batch : 34\n",
            "batch : 35\n",
            "batch : 36\n",
            "batch : 37\n",
            "batch : 38\n",
            "batch : 39\n",
            "batch : 40\n",
            "batch : 41\n",
            "batch : 42\n",
            "batch : 43\n",
            "batch : 44\n",
            "batch : 45\n",
            "batch : 46\n",
            "batch : 47\n",
            "batch : 48\n",
            "batch : 49\n",
            "batch : 50\n",
            "batch : 51\n",
            "batch : 52\n",
            "batch : 53\n",
            "batch : 54\n",
            "batch : 55\n",
            "batch : 56\n",
            "batch : 57\n",
            "batch : 58\n",
            "batch : 59\n",
            "batch : 60\n",
            "batch : 61\n",
            "batch : 62\n",
            "batch : 63\n",
            "batch : 64\n",
            "batch : 65\n",
            "batch : 66\n",
            "batch : 67\n",
            "batch : 68\n",
            "batch : 69\n",
            "batch : 70\n",
            "batch : 71\n",
            "batch : 72\n",
            "batch : 73\n",
            "batch : 74\n",
            "batch : 75\n",
            "batch : 76\n",
            "batch : 77\n",
            "batch : 78\n",
            "batch : 79\n",
            "batch : 80\n",
            "batch : 81\n",
            "batch : 82\n",
            "batch : 83\n",
            "batch : 84\n",
            "batch : 85\n",
            "batch : 86\n",
            "train loss : 0.02350944354138954\n",
            "test loss : 0.027491990893313556\n",
            "----------------------------------------\n",
            "epoch : 3/10\n",
            "batch : 1\n",
            "batch : 2\n",
            "batch : 3\n",
            "batch : 4\n",
            "batch : 5\n",
            "batch : 6\n",
            "batch : 7\n",
            "batch : 8\n",
            "batch : 9\n",
            "batch : 10\n",
            "batch : 11\n",
            "batch : 12\n",
            "batch : 13\n",
            "batch : 14\n",
            "batch : 15\n",
            "batch : 16\n",
            "batch : 17\n",
            "batch : 18\n",
            "batch : 19\n",
            "batch : 20\n",
            "batch : 21\n",
            "batch : 22\n",
            "batch : 23\n",
            "batch : 24\n",
            "batch : 25\n",
            "batch : 26\n",
            "batch : 27\n",
            "batch : 28\n",
            "batch : 29\n",
            "batch : 30\n",
            "batch : 31\n",
            "batch : 32\n",
            "batch : 33\n",
            "batch : 34\n",
            "batch : 35\n",
            "batch : 36\n",
            "batch : 37\n",
            "batch : 38\n",
            "batch : 39\n",
            "batch : 40\n",
            "batch : 41\n",
            "batch : 42\n",
            "batch : 43\n",
            "batch : 44\n",
            "batch : 45\n",
            "batch : 46\n",
            "batch : 47\n",
            "batch : 48\n",
            "batch : 49\n",
            "batch : 50\n",
            "batch : 51\n",
            "batch : 52\n",
            "batch : 53\n",
            "batch : 54\n",
            "batch : 55\n",
            "batch : 56\n",
            "batch : 57\n",
            "batch : 58\n",
            "batch : 59\n",
            "batch : 60\n",
            "batch : 61\n",
            "batch : 62\n",
            "batch : 63\n",
            "batch : 64\n",
            "batch : 65\n",
            "batch : 66\n",
            "batch : 67\n",
            "batch : 68\n",
            "batch : 69\n",
            "batch : 70\n",
            "batch : 71\n",
            "batch : 72\n",
            "batch : 73\n",
            "batch : 74\n",
            "batch : 75\n",
            "batch : 76\n",
            "batch : 77\n",
            "batch : 78\n",
            "batch : 79\n",
            "batch : 80\n",
            "batch : 81\n",
            "batch : 82\n",
            "batch : 83\n",
            "batch : 84\n",
            "batch : 85\n",
            "batch : 86\n",
            "train loss : 0.023266690875779702\n",
            "test loss : 0.02688342890788448\n",
            "----------------------------------------\n",
            "epoch : 4/10\n",
            "batch : 1\n",
            "batch : 2\n",
            "batch : 3\n",
            "batch : 4\n",
            "batch : 5\n",
            "batch : 6\n",
            "batch : 7\n",
            "batch : 8\n",
            "batch : 9\n",
            "batch : 10\n",
            "batch : 11\n",
            "batch : 12\n",
            "batch : 13\n",
            "batch : 14\n",
            "batch : 15\n",
            "batch : 16\n",
            "batch : 17\n",
            "batch : 18\n",
            "batch : 19\n",
            "batch : 20\n",
            "batch : 21\n",
            "batch : 22\n",
            "batch : 23\n",
            "batch : 24\n",
            "batch : 25\n",
            "batch : 26\n",
            "batch : 27\n",
            "batch : 28\n",
            "batch : 29\n",
            "batch : 30\n",
            "batch : 31\n",
            "batch : 32\n",
            "batch : 33\n",
            "batch : 34\n",
            "batch : 35\n",
            "batch : 36\n",
            "batch : 37\n",
            "batch : 38\n",
            "batch : 39\n",
            "batch : 40\n",
            "batch : 41\n",
            "batch : 42\n",
            "batch : 43\n",
            "batch : 44\n",
            "batch : 45\n",
            "batch : 46\n",
            "batch : 47\n",
            "batch : 48\n",
            "batch : 49\n",
            "batch : 50\n",
            "batch : 51\n",
            "batch : 52\n",
            "batch : 53\n",
            "batch : 54\n",
            "batch : 55\n",
            "batch : 56\n",
            "batch : 57\n",
            "batch : 58\n",
            "batch : 59\n",
            "batch : 60\n",
            "batch : 61\n",
            "batch : 62\n",
            "batch : 63\n",
            "batch : 64\n",
            "batch : 65\n",
            "batch : 66\n",
            "batch : 67\n",
            "batch : 68\n",
            "batch : 69\n",
            "batch : 70\n",
            "batch : 71\n",
            "batch : 72\n",
            "batch : 73\n",
            "batch : 74\n",
            "batch : 75\n",
            "batch : 76\n",
            "batch : 77\n",
            "batch : 78\n",
            "batch : 79\n",
            "batch : 80\n",
            "batch : 81\n",
            "batch : 82\n",
            "batch : 83\n",
            "batch : 84\n",
            "batch : 85\n",
            "batch : 86\n",
            "train loss : 0.02298981964155204\n",
            "test loss : 0.026702209750014944\n",
            "----------------------------------------\n",
            "epoch : 5/10\n",
            "batch : 1\n",
            "batch : 2\n",
            "batch : 3\n",
            "batch : 4\n",
            "batch : 5\n",
            "batch : 6\n",
            "batch : 7\n",
            "batch : 8\n",
            "batch : 9\n",
            "batch : 10\n",
            "batch : 11\n",
            "batch : 12\n",
            "batch : 13\n",
            "batch : 14\n",
            "batch : 15\n",
            "batch : 16\n",
            "batch : 17\n",
            "batch : 18\n",
            "batch : 19\n",
            "batch : 20\n",
            "batch : 21\n",
            "batch : 22\n",
            "batch : 23\n",
            "batch : 24\n",
            "batch : 25\n",
            "batch : 26\n",
            "batch : 27\n",
            "batch : 28\n",
            "batch : 29\n",
            "batch : 30\n",
            "batch : 31\n",
            "batch : 32\n",
            "batch : 33\n",
            "batch : 34\n",
            "batch : 35\n",
            "batch : 36\n",
            "batch : 37\n",
            "batch : 38\n",
            "batch : 39\n",
            "batch : 40\n",
            "batch : 41\n",
            "batch : 42\n",
            "batch : 43\n",
            "batch : 44\n",
            "batch : 45\n",
            "batch : 46\n",
            "batch : 47\n",
            "batch : 48\n",
            "batch : 49\n",
            "batch : 50\n",
            "batch : 51\n",
            "batch : 52\n",
            "batch : 53\n",
            "batch : 54\n",
            "batch : 55\n",
            "batch : 56\n",
            "batch : 57\n",
            "batch : 58\n",
            "batch : 59\n",
            "batch : 60\n",
            "batch : 61\n",
            "batch : 62\n",
            "batch : 63\n",
            "batch : 64\n",
            "batch : 65\n",
            "batch : 66\n",
            "batch : 67\n",
            "batch : 68\n",
            "batch : 69\n",
            "batch : 70\n",
            "batch : 71\n",
            "batch : 72\n",
            "batch : 73\n",
            "batch : 74\n",
            "batch : 75\n",
            "batch : 76\n",
            "batch : 77\n",
            "batch : 78\n",
            "batch : 79\n",
            "batch : 80\n",
            "batch : 81\n",
            "batch : 82\n",
            "batch : 83\n",
            "batch : 84\n",
            "batch : 85\n",
            "batch : 86\n",
            "train loss : 0.02268264782996313\n",
            "test loss : 0.02692720171198911\n",
            "----------------------------------------\n",
            "epoch : 6/10\n",
            "batch : 1\n",
            "batch : 2\n",
            "batch : 3\n",
            "batch : 4\n",
            "batch : 5\n",
            "batch : 6\n",
            "batch : 7\n",
            "batch : 8\n",
            "batch : 9\n",
            "batch : 10\n",
            "batch : 11\n",
            "batch : 12\n",
            "batch : 13\n",
            "batch : 14\n",
            "batch : 15\n",
            "batch : 16\n",
            "batch : 17\n",
            "batch : 18\n",
            "batch : 19\n",
            "batch : 20\n",
            "batch : 21\n",
            "batch : 22\n",
            "batch : 23\n",
            "batch : 24\n",
            "batch : 25\n",
            "batch : 26\n",
            "batch : 27\n",
            "batch : 28\n",
            "batch : 29\n",
            "batch : 30\n",
            "batch : 31\n",
            "batch : 32\n",
            "batch : 33\n",
            "batch : 34\n",
            "batch : 35\n",
            "batch : 36\n",
            "batch : 37\n",
            "batch : 38\n",
            "batch : 39\n",
            "batch : 40\n",
            "batch : 41\n",
            "batch : 42\n",
            "batch : 43\n",
            "batch : 44\n",
            "batch : 45\n",
            "batch : 46\n",
            "batch : 47\n",
            "batch : 48\n",
            "batch : 49\n",
            "batch : 50\n",
            "batch : 51\n",
            "batch : 52\n",
            "batch : 53\n",
            "batch : 54\n",
            "batch : 55\n",
            "batch : 56\n",
            "batch : 57\n",
            "batch : 58\n",
            "batch : 59\n",
            "batch : 60\n",
            "batch : 61\n",
            "batch : 62\n",
            "batch : 63\n",
            "batch : 64\n",
            "batch : 65\n",
            "batch : 66\n",
            "batch : 67\n",
            "batch : 68\n",
            "batch : 69\n",
            "batch : 70\n",
            "batch : 71\n",
            "batch : 72\n",
            "batch : 73\n",
            "batch : 74\n",
            "batch : 75\n",
            "batch : 76\n",
            "batch : 77\n",
            "batch : 78\n",
            "batch : 79\n",
            "batch : 80\n",
            "batch : 81\n",
            "batch : 82\n",
            "batch : 83\n",
            "batch : 84\n",
            "batch : 85\n",
            "batch : 86\n",
            "train loss : 0.022058390834614573\n",
            "test loss : 0.027045942428709727\n",
            "----------------------------------------\n",
            "epoch : 7/10\n",
            "batch : 1\n",
            "batch : 2\n",
            "batch : 3\n",
            "batch : 4\n",
            "batch : 5\n",
            "batch : 6\n",
            "batch : 7\n",
            "batch : 8\n",
            "batch : 9\n",
            "batch : 10\n",
            "batch : 11\n",
            "batch : 12\n",
            "batch : 13\n",
            "batch : 14\n",
            "batch : 15\n",
            "batch : 16\n",
            "batch : 17\n",
            "batch : 18\n",
            "batch : 19\n",
            "batch : 20\n",
            "batch : 21\n",
            "batch : 22\n",
            "batch : 23\n",
            "batch : 24\n",
            "batch : 25\n",
            "batch : 26\n",
            "batch : 27\n",
            "batch : 28\n",
            "batch : 29\n",
            "batch : 30\n",
            "batch : 31\n",
            "batch : 32\n",
            "batch : 33\n",
            "batch : 34\n",
            "batch : 35\n",
            "batch : 36\n",
            "batch : 37\n",
            "batch : 38\n",
            "batch : 39\n",
            "batch : 40\n",
            "batch : 41\n",
            "batch : 42\n",
            "batch : 43\n",
            "batch : 44\n",
            "batch : 45\n",
            "batch : 46\n",
            "batch : 47\n",
            "batch : 48\n",
            "batch : 49\n",
            "batch : 50\n",
            "batch : 51\n",
            "batch : 52\n",
            "batch : 53\n",
            "batch : 54\n",
            "batch : 55\n",
            "batch : 56\n",
            "batch : 57\n",
            "batch : 58\n",
            "batch : 59\n",
            "batch : 60\n",
            "batch : 61\n",
            "batch : 62\n",
            "batch : 63\n",
            "batch : 64\n",
            "batch : 65\n",
            "batch : 66\n",
            "batch : 67\n",
            "batch : 68\n",
            "batch : 69\n",
            "batch : 70\n",
            "batch : 71\n",
            "batch : 72\n",
            "batch : 73\n",
            "batch : 74\n",
            "batch : 75\n",
            "batch : 76\n",
            "batch : 77\n",
            "batch : 78\n",
            "batch : 79\n",
            "batch : 80\n",
            "batch : 81\n",
            "batch : 82\n",
            "batch : 83\n",
            "batch : 84\n",
            "batch : 85\n",
            "batch : 86\n",
            "train loss : 0.02164978665652961\n",
            "test loss : 0.02773367283774568\n",
            "----------------------------------------\n",
            "epoch : 8/10\n",
            "batch : 1\n",
            "batch : 2\n",
            "batch : 3\n",
            "batch : 4\n",
            "batch : 5\n",
            "batch : 6\n",
            "batch : 7\n",
            "batch : 8\n",
            "batch : 9\n",
            "batch : 10\n",
            "batch : 11\n",
            "batch : 12\n",
            "batch : 13\n",
            "batch : 14\n",
            "batch : 15\n",
            "batch : 16\n",
            "batch : 17\n",
            "batch : 18\n",
            "batch : 19\n",
            "batch : 20\n",
            "batch : 21\n",
            "batch : 22\n",
            "batch : 23\n",
            "batch : 24\n",
            "batch : 25\n",
            "batch : 26\n",
            "batch : 27\n",
            "batch : 28\n",
            "batch : 29\n",
            "batch : 30\n",
            "batch : 31\n",
            "batch : 32\n",
            "batch : 33\n",
            "batch : 34\n",
            "batch : 35\n",
            "batch : 36\n",
            "batch : 37\n",
            "batch : 38\n",
            "batch : 39\n",
            "batch : 40\n",
            "batch : 41\n",
            "batch : 42\n",
            "batch : 43\n",
            "batch : 44\n",
            "batch : 45\n",
            "batch : 46\n",
            "batch : 47\n",
            "batch : 48\n",
            "batch : 49\n",
            "batch : 50\n",
            "batch : 51\n",
            "batch : 52\n",
            "batch : 53\n",
            "batch : 54\n",
            "batch : 55\n",
            "batch : 56\n",
            "batch : 57\n",
            "batch : 58\n",
            "batch : 59\n",
            "batch : 60\n",
            "batch : 61\n",
            "batch : 62\n",
            "batch : 63\n",
            "batch : 64\n",
            "batch : 65\n",
            "batch : 66\n",
            "batch : 67\n",
            "batch : 68\n",
            "batch : 69\n",
            "batch : 70\n",
            "batch : 71\n",
            "batch : 72\n",
            "batch : 73\n",
            "batch : 74\n",
            "batch : 75\n",
            "batch : 76\n",
            "batch : 77\n",
            "batch : 78\n",
            "batch : 79\n",
            "batch : 80\n",
            "batch : 81\n",
            "batch : 82\n",
            "batch : 83\n",
            "batch : 84\n",
            "batch : 85\n",
            "batch : 86\n",
            "train loss : 0.02065992775238498\n",
            "test loss : 0.02758570639643877\n",
            "----------------------------------------\n",
            "epoch : 9/10\n",
            "batch : 1\n",
            "batch : 2\n",
            "batch : 3\n",
            "batch : 4\n",
            "batch : 5\n",
            "batch : 6\n",
            "batch : 7\n",
            "batch : 8\n",
            "batch : 9\n",
            "batch : 10\n",
            "batch : 11\n",
            "batch : 12\n",
            "batch : 13\n",
            "batch : 14\n",
            "batch : 15\n",
            "batch : 16\n",
            "batch : 17\n",
            "batch : 18\n",
            "batch : 19\n",
            "batch : 20\n",
            "batch : 21\n",
            "batch : 22\n",
            "batch : 23\n",
            "batch : 24\n",
            "batch : 25\n",
            "batch : 26\n",
            "batch : 27\n",
            "batch : 28\n",
            "batch : 29\n",
            "batch : 30\n",
            "batch : 31\n",
            "batch : 32\n",
            "batch : 33\n",
            "batch : 34\n",
            "batch : 35\n",
            "batch : 36\n",
            "batch : 37\n",
            "batch : 38\n",
            "batch : 39\n",
            "batch : 40\n",
            "batch : 41\n",
            "batch : 42\n",
            "batch : 43\n",
            "batch : 44\n",
            "batch : 45\n",
            "batch : 46\n",
            "batch : 47\n",
            "batch : 48\n",
            "batch : 49\n",
            "batch : 50\n",
            "batch : 51\n",
            "batch : 52\n",
            "batch : 53\n",
            "batch : 54\n",
            "batch : 55\n",
            "batch : 56\n",
            "batch : 57\n",
            "batch : 58\n",
            "batch : 59\n",
            "batch : 60\n",
            "batch : 61\n",
            "batch : 62\n",
            "batch : 63\n",
            "batch : 64\n",
            "batch : 65\n",
            "batch : 66\n",
            "batch : 67\n",
            "batch : 68\n",
            "batch : 69\n",
            "batch : 70\n",
            "batch : 71\n",
            "batch : 72\n",
            "batch : 73\n",
            "batch : 74\n",
            "batch : 75\n",
            "batch : 76\n",
            "batch : 77\n",
            "batch : 78\n",
            "batch : 79\n",
            "batch : 80\n",
            "batch : 81\n",
            "batch : 82\n",
            "batch : 83\n",
            "batch : 84\n",
            "batch : 85\n",
            "batch : 86\n",
            "train loss : 0.019018772041817945\n",
            "test loss : 0.029271337807160427\n",
            "----------------------------------------\n",
            "epoch : 10/10\n",
            "batch : 1\n",
            "batch : 2\n",
            "batch : 3\n",
            "batch : 4\n",
            "batch : 5\n",
            "batch : 6\n",
            "batch : 7\n",
            "batch : 8\n",
            "batch : 9\n",
            "batch : 10\n",
            "batch : 11\n",
            "batch : 12\n",
            "batch : 13\n",
            "batch : 14\n",
            "batch : 15\n",
            "batch : 16\n",
            "batch : 17\n",
            "batch : 18\n",
            "batch : 19\n",
            "batch : 20\n",
            "batch : 21\n",
            "batch : 22\n",
            "batch : 23\n",
            "batch : 24\n",
            "batch : 25\n",
            "batch : 26\n",
            "batch : 27\n",
            "batch : 28\n",
            "batch : 29\n",
            "batch : 30\n",
            "batch : 31\n",
            "batch : 32\n",
            "batch : 33\n",
            "batch : 34\n",
            "batch : 35\n",
            "batch : 36\n",
            "batch : 37\n",
            "batch : 38\n",
            "batch : 39\n",
            "batch : 40\n",
            "batch : 41\n",
            "batch : 42\n",
            "batch : 43\n",
            "batch : 44\n",
            "batch : 45\n",
            "batch : 46\n",
            "batch : 47\n",
            "batch : 48\n",
            "batch : 49\n",
            "batch : 50\n",
            "batch : 51\n",
            "batch : 52\n",
            "batch : 53\n",
            "batch : 54\n",
            "batch : 55\n",
            "batch : 56\n",
            "batch : 57\n",
            "batch : 58\n",
            "batch : 59\n",
            "batch : 60\n",
            "batch : 61\n",
            "batch : 62\n",
            "batch : 63\n",
            "batch : 64\n",
            "batch : 65\n",
            "batch : 66\n",
            "batch : 67\n",
            "batch : 68\n",
            "batch : 69\n",
            "batch : 70\n",
            "batch : 71\n",
            "batch : 72\n",
            "batch : 73\n",
            "batch : 74\n",
            "batch : 75\n",
            "batch : 76\n",
            "batch : 77\n",
            "batch : 78\n",
            "batch : 79\n",
            "batch : 80\n",
            "batch : 81\n",
            "batch : 82\n",
            "batch : 83\n",
            "batch : 84\n",
            "batch : 85\n",
            "batch : 86\n",
            "train loss : 0.021668963682996503\n",
            "test loss : 0.02816161084932404\n"
          ],
          "name": "stdout"
        },
        {
          "output_type": "display_data",
          "data": {
            "image/png": "[encoded data removed]",
            "text/plain": [
              "<Figure size 432x288 with 1 Axes>"
            ]
          },
          "metadata": {
            "tags": [],
            "needs_background": "light"
          }
        }
      ]
    },
    {
      "cell_type": "code",
      "metadata": {
        "id": "a-4LE0dLTBqH"
      },
      "source": [
        "torch.save(model.state_dict(), '/content/drive/MyDrive/deep/params/model.pth')"
      ],
      "execution_count": null,
      "outputs": []
    },
    {
      "cell_type": "code",
      "metadata": {
        "colab": {
          "base_uri": "https://localhost:8080/"
        },
        "id": "wFXJ5J3oUWOn",
        "outputId": "49e9acc3-2f2b-47ac-9526-2ff1bafedafb"
      },
      "source": [
        "model.load_state_dict(torch.load('/content/drive/MyDrive/deep/params/model.pth'))\n",
        "\n",
        "\n",
        "model.eval()\n",
        "with torch.no_grad():\n",
        "  for image, category, brand, price in test_loader:\n",
        "    output = model(image)\n",
        "    predict = output * normalize_term\n",
        "    print('predict : ' + str(predict[0]) + ', price : ' + str(price[0]))\n"
      ],
      "execution_count": null,
      "outputs": [
        {
          "output_type": "stream",
          "text": [
            "predict : tensor(11579.4092), price : tensor(5544.)\n",
            "predict : tensor(11977.3135), price : tensor(2980.)\n",
            "predict : tensor(11451.1992), price : tensor(18700.)\n",
            "predict : tensor(12450.7588), price : tensor(14300.)\n",
            "predict : tensor(10763.0986), price : tensor(3951.)\n",
            "predict : tensor(11937.9521), price : tensor(2023.)\n",
            "predict : tensor(13464.2812), price : tensor(28233.)\n",
            "predict : tensor(13338.0156), price : tensor(29700.)\n",
            "predict : tensor(10715.4785), price : tensor(4290.)\n",
            "predict : tensor(11063.4180), price : tensor(1799.)\n",
            "predict : tensor(13480.6064), price : tensor(29920.)\n",
            "predict : tensor(11046.0430), price : tensor(21450.)\n",
            "predict : tensor(11044.6807), price : tensor(3960.)\n",
            "predict : tensor(11593.2568), price : tensor(4620.)\n",
            "predict : tensor(11030.4531), price : tensor(28600.)\n",
            "predict : tensor(11586.2129), price : tensor(5500.)\n",
            "predict : tensor(11954.7471), price : tensor(7150.)\n",
            "predict : tensor(11094.6436), price : tensor(5280.)\n",
            "predict : tensor(9894.2461), price : tensor(5280.)\n",
            "predict : tensor(10282.4014), price : tensor(14850.)\n",
            "predict : tensor(11429.9316), price : tensor(2480.)\n",
            "predict : tensor(11215.3525), price : tensor(1499.)\n",
            "predict : tensor(10201.5195), price : tensor(25666.)\n",
            "predict : tensor(9397.8037), price : tensor(16335.)\n",
            "predict : tensor(10879.5820), price : tensor(2990.)\n",
            "predict : tensor(12354.9268), price : tensor(17600.)\n",
            "predict : tensor(11369.8320), price : tensor(16500.)\n",
            "predict : tensor(10511.5508), price : tensor(3850.)\n",
            "predict : tensor(10703.6602), price : tensor(2434.)\n",
            "predict : tensor(11154.3037), price : tensor(2420.)\n",
            "predict : tensor(11021.2920), price : tensor(27280.)\n"
          ],
          "name": "stdout"
        }
      ]
    },
    {
      "cell_type": "markdown",
      "metadata": {
        "id": "inqLnvp0Dqt7"
      },
      "source": [
        "# マルチタスク学習"
      ]
    },
    {
      "cell_type": "markdown",
      "metadata": {
        "id": "RYyL8muQDwfn"
      },
      "source": [
        "Google Driveのマウント"
      ]
    },
    {
      "cell_type": "code",
      "metadata": {
        "colab": {
          "base_uri": "https://localhost:8080/"
        },
        "id": "ATCFiThmDwfo",
        "outputId": "b8ab2082-24cf-4ca1-8e38-7cabe0ea1d3d"
      },
      "source": [
        "from google.colab import drive\n",
        "drive.mount('/content/drive')"
      ],
      "execution_count": 3,
      "outputs": [
        {
          "output_type": "stream",
          "text": [
            "Drive already mounted at /content/drive; to attempt to forcibly remount, call drive.mount(\"/content/drive\", force_remount=True).\n"
          ],
          "name": "stdout"
        }
      ]
    },
    {
      "cell_type": "markdown",
      "metadata": {
        "id": "99Gah6n7Dwfp"
      },
      "source": [
        "モジュールのインポート"
      ]
    },
    {
      "cell_type": "code",
      "metadata": {
        "id": "IfJ7aS66Dwfp"
      },
      "source": [
        "import numpy as np\n",
        "import torch\n",
        "import torch.nn as nn\n",
        "from torch.utils.data import Dataset, DataLoader\n",
        "import torchvision.transforms as transforms\n",
        "from PIL import Image\n",
        "import matplotlib.pyplot as plt\n",
        "import pandas as pd"
      ],
      "execution_count": 2,
      "outputs": []
    },
    {
      "cell_type": "markdown",
      "metadata": {
        "id": "_7pDXAyeDwfp"
      },
      "source": [
        "使用するデバイスの指定"
      ]
    },
    {
      "cell_type": "code",
      "metadata": {
        "colab": {
          "base_uri": "https://localhost:8080/"
        },
        "id": "tkppWKb4Dwfq",
        "outputId": "4493970b-26a1-4e78-c703-2d69cfdeb6c5"
      },
      "source": [
        "device = torch.device(\"cuda\") if torch.cuda.is_available() else torch.device(\"cpu\")\n",
        "print(device)"
      ],
      "execution_count": 4,
      "outputs": [
        {
          "output_type": "stream",
          "text": [
            "cpu\n"
          ],
          "name": "stdout"
        }
      ]
    },
    {
      "cell_type": "markdown",
      "metadata": {
        "id": "ljcxtkCHeOLr"
      },
      "source": [
        "[id, price, category, brand]"
      ]
    },
    {
      "cell_type": "markdown",
      "metadata": {
        "id": "c64k5H8CHI_4"
      },
      "source": [
        "データのラベル付け　　\n",
        "*   カテゴリ数、ブランド数が変化しても対応できるように\n",
        "*   事前にラベル付けされていると何のカテゴリ、ブランドか分からなくなるため (ex. [id=3, price=1000, category_label=4, brand_label=2])\n",
        "*   ラベルの対応を結果表示時に使いたいため\n",
        "\n"
      ]
    },
    {
      "cell_type": "code",
      "metadata": {
        "colab": {
          "base_uri": "https://localhost:8080/"
        },
        "id": "xYc5bgcMt1vv",
        "outputId": "66c51bc6-9adb-4db1-dbe5-fc15ae3ffd99"
      },
      "source": [
        "tmp = pd.read_csv(\"/content/drive/MyDrive/deep/data.csv\", names=[\"id\", \"price\", \"category\", \"brand\"])\n",
        "label_to_category = np.sort(np.unique(tmp[\"category\"]))\n",
        "label_to_brand = np.sort(np.unique(tmp[\"brand\"]))\n",
        "\n",
        "for i in range(len(label_to_category)):\n",
        "  category_to_label[label_to_category[i]] = i\n",
        "for i in range(len(label_to_brand)):\n",
        "  brand_to_label[label_to_brand[i]] = i\n",
        "\n",
        "print(label_to_category)\n",
        "print(category_to_label)\n",
        "print(label_to_brand)\n",
        "print(brand_to_label)"
      ],
      "execution_count": 117,
      "outputs": [
        {
          "output_type": "stream",
          "text": [
            "['サンダル' 'スニーカー' 'スリッポン' 'ドレスシューズ' 'バレエシューズ' 'パンプス' 'ブーツ' 'モカシン/デッキシューズ'\n",
            " 'レインシューズ' 'ローファー']\n",
            "{'サンダル': 0, 'スニーカー': 1, 'スリッポン': 2, 'ドレスシューズ': 3, 'バレエシューズ': 4, 'パンプス': 5, 'ブーツ': 6, 'モカシン/デッキシューズ': 7, 'レインシューズ': 8, 'ローファー': 9}\n",
            "['AAA+' 'AmiAmi' 'BIRKENSTOCK' 'CHARLES & KEITH' 'CONVERSE' 'Columbia'\n",
            " 'Dedes' 'Dr.Martens' 'EMU Australia' 'EVOL' 'FREAK’S STORE' 'Fabby fabby'\n",
            " 'Fabio Rusconi' 'HARUTA' 'HUNTER' 'JELLY BEANS' 'KOBE LETTUCE'\n",
            " 'LibertyDoll' 'MAMIAN' 'Minnetonka' 'NIKE' 'NOFALL' 'New Balance'\n",
            " 'ORiental TRaffic' 'Odette e Odile' 'RANDA' 'Reebok' 'SESTO' 'SOROTTO'\n",
            " 'SVEC' 'Shoes in Closet' 'UGG' 'Vivian' 'adidas' 'crocs' 'menue' 'その他']\n",
            "{'AAA+': 0, 'AmiAmi': 1, 'BIRKENSTOCK': 2, 'CHARLES & KEITH': 3, 'CONVERSE': 4, 'Columbia': 5, 'Dedes': 6, 'Dr.Martens': 7, 'EMU Australia': 8, 'EVOL': 9, 'FREAK’S STORE': 10, 'Fabby fabby': 11, 'Fabio Rusconi': 12, 'HARUTA': 13, 'HUNTER': 14, 'JELLY BEANS': 15, 'KOBE LETTUCE': 16, 'LibertyDoll': 17, 'MAMIAN': 18, 'Minnetonka': 19, 'NIKE': 20, 'NOFALL': 21, 'New Balance': 22, 'ORiental TRaffic': 23, 'Odette e Odile': 24, 'RANDA': 25, 'Reebok': 26, 'SESTO': 27, 'SOROTTO': 28, 'SVEC': 29, 'Shoes in Closet': 30, 'UGG': 31, 'Vivian': 32, 'adidas': 33, 'crocs': 34, 'menue': 35, 'その他': 36}\n"
          ],
          "name": "stdout"
        }
      ]
    },
    {
      "cell_type": "markdown",
      "metadata": {
        "id": "D9RNZKpEforJ"
      },
      "source": [
        "ラベル付きデータ生成"
      ]
    },
    {
      "cell_type": "code",
      "metadata": {
        "id": "4CTjWueWfroO"
      },
      "source": [
        "file = open('/content/drive/MyDrive/deep/data.csv')\n",
        "reader = csv.reader(file)\n",
        "\n",
        "outfile = open(\"/content/drive/MyDrive/deep/generated.csv\", \"w\", encoding=\"utf-8\", newline=\"\")\n",
        "writer = csv.writer(outfile)\n",
        "\n",
        "for row in reader:\n",
        "  writer.writerow([row[0], row[1], category_to_label[row[2]], brand_to_label[row[3]]])"
      ],
      "execution_count": 118,
      "outputs": []
    },
    {
      "cell_type": "markdown",
      "metadata": {
        "id": "mas7d6mIhFse"
      },
      "source": [
        "チェック"
      ]
    },
    {
      "cell_type": "code",
      "metadata": {
        "colab": {
          "base_uri": "https://localhost:8080/"
        },
        "id": "e6nmbQ3gfoTy",
        "outputId": "2e8928a0-81a3-466c-b8fe-24f94c494ad0"
      },
      "source": [
        "file = open('/content/drive/MyDrive/deep/generated.csv')\n",
        "reader = csv.reader(file)\n",
        "\n",
        "count = 0\n",
        "\n",
        "for row in reader:\n",
        "  print(row)\n",
        "  count += 1\n",
        "  if count > 10:\n",
        "    break\n",
        "file.close()\n"
      ],
      "execution_count": 119,
      "outputs": [
        {
          "output_type": "stream",
          "text": [
            "['1', '14300', '1', '20']\n",
            "['2', '13200', '1', '20']\n",
            "['3', '13200', '0', '2']\n",
            "['4', '15400', '1', '20']\n",
            "['5', '13200', '1', '20']\n",
            "['6', '17600', '6', '36']\n",
            "['7', '17600', '6', '36']\n",
            "['8', '17600', '6', '36']\n",
            "['9', '17600', '6', '36']\n",
            "['10', '46200', '6', '36']\n",
            "['11', '46200', '6', '36']\n"
          ],
          "name": "stdout"
        }
      ]
    },
    {
      "cell_type": "markdown",
      "metadata": {
        "id": "N5XiXACYDadn"
      },
      "source": [
        "データの分析"
      ]
    },
    {
      "cell_type": "code",
      "metadata": {
        "colab": {
          "base_uri": "https://localhost:8080/",
          "height": 677
        },
        "id": "9rGKzW1FDcPO",
        "outputId": "9e006df6-7331-4733-9f85-6a00513ffcf2"
      },
      "source": [
        "import pandas as pd\n",
        "\n",
        "# size\n",
        "# max, min, ave\n",
        "# price ヒストグラム\n",
        "# category_size\n",
        "# brand_size\n",
        "\n",
        "df = pd.read_csv(\"/content/drive/MyDrive/deep/generated.csv\", names=[\"id\", \"price\", \"category_label\", \"brand_label\"])\n",
        "\n",
        "data_size = len(df)\n",
        "\n",
        "maxprice = np.max(df[\"price\"])\n",
        "minprice = np.min(df[\"price\"])\n",
        "aveprice = np.average(df[\"price\"])\n",
        "\n",
        "category_size = len(np.unique(df[\"category_label\"]))\n",
        "brand_size = len(np.unique(df[\"brand_label\"]))\n",
        "\n",
        "print(\"data size : {}\\n\".format(data_size))\n",
        "\n",
        "print(\"maxprice : {}\".format(maxprice))\n",
        "print(\"minprice : {}\".format(minprice))\n",
        "print(\"aveprice : {}\\n\".format(aveprice))\n",
        "\n",
        "print(\"category size : {}\".format(category_size))\n",
        "print(\"brand size : {}\".format(brand_size))\n",
        "\n",
        "plt.xlabel(\"price\")\n",
        "plt.ylabel(\"frequency\")\n",
        "plt.hist(df[\"price\"],bins=np.arange(0, 600000, 10000))\n",
        "plt.figure()\n",
        "plt.xlabel(\"price\")\n",
        "plt.ylabel(\"frequency\")\n",
        "plt.hist(df[\"price\"],bins=np.arange(0, 50000, 1000))\n",
        "plt.show()"
      ],
      "execution_count": 120,
      "outputs": [
        {
          "output_type": "stream",
          "text": [
            "data size : 16650\n",
            "\n",
            "maxprice : 566666\n",
            "minprice : 550\n",
            "aveprice : 13360.347567567567\n",
            "\n",
            "category size : 10\n",
            "brand size : 37\n"
          ],
          "name": "stdout"
        },
        {
          "output_type": "display_data",
          "data": {
            "image/png": "[encoded data removed]",
            "text/plain": [
              "<Figure size 432x288 with 1 Axes>"
            ]
          },
          "metadata": {
            "tags": [],
            "needs_background": "light"
          }
        },
        {
          "output_type": "display_data",
          "data": {
            "image/png": "[encoded data removed]",
            "text/plain": [
              "<Figure size 432x288 with 1 Axes>"
            ]
          },
          "metadata": {
            "tags": [],
            "needs_background": "light"
          }
        }
      ]
    },
    {
      "cell_type": "code",
      "metadata": {
        "colab": {
          "base_uri": "https://localhost:8080/",
          "height": 337
        },
        "id": "W5CaWgoM1TKY",
        "outputId": "a41f27de-1ee5-4023-9f5f-e895baa58e5f"
      },
      "source": [
        "idx = np.argmax(df[\"price\"])\n",
        "print(df[\"price\"][idx])\n",
        "print(label_to_category[df[\"category_label\"][idx]])\n",
        "print(label_to_brand[df[\"brand_label\"][idx]])\n",
        "image = Image.open(\"/content/drive/MyDrive/deep/images/\" + str(idx+1) + \".jpg\").convert('RGB')\n",
        "plt.imshow(image)"
      ],
      "execution_count": 142,
      "outputs": [
        {
          "output_type": "stream",
          "text": [
            "566666\n",
            "レインシューズ\n",
            "HUNTER\n"
          ],
          "name": "stdout"
        },
        {
          "output_type": "execute_result",
          "data": {
            "text/plain": [
              "<matplotlib.image.AxesImage at 0x7f4e6cb79d68>"
            ]
          },
          "metadata": {
            "tags": []
          },
          "execution_count": 142
        },
        {
          "output_type": "display_data",
          "data": {
            "image/png": "[encoded data removed]",
            "text/plain": [
              "<Figure size 432x288 with 1 Axes>"
            ]
          },
          "metadata": {
            "tags": [],
            "needs_background": "light"
          }
        }
      ]
    },
    {
      "cell_type": "markdown",
      "metadata": {
        "id": "RlyikoyvEBTN"
      },
      "source": [
        "データセット作成"
      ]
    },
    {
      "cell_type": "code",
      "metadata": {
        "colab": {
          "base_uri": "https://localhost:8080/",
          "height": 320
        },
        "id": "A3X12dPsEDJG",
        "outputId": "124f5d18-a92c-4c44-ca74-a4afb1ad81e7"
      },
      "source": [
        "class Data(Dataset):\n",
        "  def __init__(self, img_dir, img_transform, csv_path,):\n",
        "    super().__init__() \n",
        "\n",
        "    self.img_dir = img_dir\n",
        "    self.img_transform = img_transform\n",
        "\n",
        "    price = []\n",
        "    category = []\n",
        "    brand = []\n",
        "\n",
        "    file = open(csv_path)\n",
        "    reader = csv.reader(file)\n",
        "\n",
        "    # count data\n",
        "    self.size = sum(1 for row in reader)\n",
        "    file.seek(0)\n",
        "\n",
        "    # load csv \n",
        "    df = pd.read_csv(csv_path, names=[\"id\", \"price\", \"category_label\", \"brand_label\"])\n",
        "\n",
        "    self.price = df[\"price\"]\n",
        "    self.category = df[\"category_label\"]\n",
        "    self.brand = df[\"brand_label\"]\n",
        "\n",
        "  def __len__(self):\n",
        "    return self.size\n",
        "  \n",
        "  def __getitem__(self, idx):\n",
        "    img = self.img_transform(Image.open(self.img_dir + str(idx+1) + '.jpg').convert('RGB'))\n",
        "    return img, self.price[idx], self.category[idx], self.brand[idx]\n",
        "\n",
        "img_transform = transforms.Compose([\n",
        "  transforms.Resize([256, 256]),\n",
        "  transforms.ToTensor()\n",
        "])\n",
        "\n",
        "dataset = Data(\"/content/drive/MyDrive/deep/images/\", img_transform, \"/content/drive/MyDrive/deep/generated.csv\")\n",
        "\n",
        "img, price, category_label, brand_label = dataset[0]\n",
        "plt.imshow(np.asarray(img.numpy().copy().transpose(1, 2, 0)))\n",
        "print(\"price : {}\".format(price))\n",
        "print(\"category : {}\".format(label_to_category[category_label]))\n",
        "print(\"brand : {}\".format(label_to_brand[brand_label]))"
      ],
      "execution_count": 130,
      "outputs": [
        {
          "output_type": "stream",
          "text": [
            "price : 14300\n",
            "category : スニーカー\n",
            "brand : NIKE\n"
          ],
          "name": "stdout"
        },
        {
          "output_type": "display_data",
          "data": {
            "image/png": "[encoded data removed]",
            "text/plain": [
              "<Figure size 432x288 with 1 Axes>"
            ]
          },
          "metadata": {
            "tags": [],
            "needs_background": "light"
          }
        }
      ]
    },
    {
      "cell_type": "markdown",
      "metadata": {
        "id": "8j3kZ1MHxw7R"
      },
      "source": [
        "データセット分割"
      ]
    },
    {
      "cell_type": "code",
      "metadata": {
        "colab": {
          "base_uri": "https://localhost:8080/",
          "height": 640
        },
        "id": "1_Gt-Ua4xzn3",
        "outputId": "1d5218d6-80c9-481a-f15d-351452b002ee"
      },
      "source": [
        "train_size = int(data_size * 0.8)\n",
        "test_size = data_size - train_size\n",
        "\n",
        "# データ数に対して割り切れるように設定する\n",
        "train_batch_size = 155\n",
        "test_batch_size = 110\n",
        "\n",
        "train_dataset, test_dataset = torch.utils.data.random_split(dataset, [train_size, test_size])\n",
        "\n",
        "train_loader = torch.utils.data.DataLoader(dataset=train_dataset, batch_size=train_batch_size, shuffle=True)\n",
        "test_loader = torch.utils.data.DataLoader(dataset=test_dataset, batch_size=test_batch_size, shuffle=False)\n",
        "\n",
        "img, price, category_label, brand_label = train_dataset[0]\n",
        "plt.imshow(np.asarray(img.numpy().copy().transpose(1, 2, 0)))\n",
        "print(\"price : {}\".format(price))\n",
        "print(\"category : {}\".format(label_to_category[category_label]))\n",
        "print(\"brand : {}\\n\".format(label_to_brand[brand_label]))\n",
        "\n",
        "img, price, category_label, brand_label = test_dataset[0]\n",
        "plt.figure()\n",
        "plt.imshow(np.asarray(img.numpy().copy().transpose(1, 2, 0)))\n",
        "print(\"price : {}\".format(price))\n",
        "print(\"category : {}\".format(label_to_category[category_label]))\n",
        "print(\"brand : {}\".format(label_to_brand[brand_label]))"
      ],
      "execution_count": 133,
      "outputs": [
        {
          "output_type": "stream",
          "text": [
            "price : 8690\n",
            "category : ブーツ\n",
            "brand : その他\n",
            "\n",
            "price : 11220\n",
            "category : パンプス\n",
            "brand : Odette e Odile\n"
          ],
          "name": "stdout"
        },
        {
          "output_type": "display_data",
          "data": {
            "image/png": "[encoded data removed]",
            "text/plain": [
              "<Figure size 432x288 with 1 Axes>"
            ]
          },
          "metadata": {
            "tags": [],
            "needs_background": "light"
          }
        },
        {
          "output_type": "display_data",
          "data": {
            "image/png": "[encoded data removed]",
            "text/plain": [
              "<Figure size 432x288 with 1 Axes>"
            ]
          },
          "metadata": {
            "tags": [],
            "needs_background": "light"
          }
        }
      ]
    },
    {
      "cell_type": "markdown",
      "metadata": {
        "id": "9wtJVAQfF5fi"
      },
      "source": [
        "ネットワーク定義"
      ]
    },
    {
      "cell_type": "code",
      "metadata": {
        "id": "SOCZzzBfF7ZS"
      },
      "source": [
        "class MultiTaskModel(nn.Module):\n",
        "  def __init__(self, num_categories, num_brands):\n",
        "    super().__init__()\n",
        "  \n",
        "    # 3*256*256\n",
        "    self.cnn = nn.Sequential(\n",
        "        nn.Conv2d(3, 6, 5), nn.LeakyReLU(), nn.Conv2d(6, 12, 5), nn.LeakyReLU(), nn.MaxPool2d(4, 4),\n",
        "        nn.Conv2d(12, 24, 5), nn.LeakyReLU(), nn.Conv2d(24, 48, 5), nn.LeakyReLU(), nn.MaxPool2d(3, 3),\n",
        "        nn.Flatten()\n",
        "    )\n",
        "    # 252 248  62 58 54 18\n",
        "    \n",
        "    self.price_fc = nn.Sequential(\n",
        "        nn.Linear(in_features=48*18*18, out_features=512), nn.LeakyReLU(),\n",
        "        nn.Linear(in_features=512, out_features=1), nn.Identity()\n",
        "    )\n",
        "    \n",
        "    self.category_fc = nn.Sequential(\n",
        "        nn.Linear(in_features=48*18*18, out_features=512), nn.LeakyReLU(),\n",
        "        nn.Linear(in_features=512, out_features=category_size)\n",
        "    )\n",
        "    \n",
        "    self.brand_fc = nn.Sequential(\n",
        "        nn.Linear(in_features=48*18*18, out_features=512), nn.LeakyReLU(),\n",
        "        nn.Linear(in_features=512, out_features=brand_size)\n",
        "    )\n",
        "  \n",
        "  def forward(self, x):\n",
        "    x = self.cnn(x)\n",
        "    price = self.price_fc(x)\n",
        "    category = self.category_fc(x)\n",
        "    brand = self.brand_fc(x)\n",
        "    \n",
        "    return price, category, brand"
      ],
      "execution_count": 163,
      "outputs": []
    },
    {
      "cell_type": "markdown",
      "metadata": {
        "id": "c2P2aFrtF8Ov"
      },
      "source": [
        "損失関数"
      ]
    },
    {
      "cell_type": "code",
      "metadata": {
        "id": "JBWYIzfvGBVV"
      },
      "source": [
        "price_loss_function = nn.MSELoss()\n",
        "category_loss_function = nn.CrossEntropyLoss()\n",
        "brand_loss_function = nn.CrossEntropyLoss()"
      ],
      "execution_count": 146,
      "outputs": []
    },
    {
      "cell_type": "markdown",
      "metadata": {
        "id": "AGIww_9_GB94"
      },
      "source": [
        "学習"
      ]
    },
    {
      "cell_type": "code",
      "metadata": {
        "colab": {
          "base_uri": "https://localhost:8080/",
          "height": 379
        },
        "id": "fg3b8GVw8yR4",
        "outputId": "19824d75-db91-4958-8ec3-1bc1e2ca60fc"
      },
      "source": [
        "model = MultiTaskModel(category_size, brand_size).to(device)\n",
        "optimizer = torch.optim.Adam(model.parameters())\n",
        "\n",
        "model.train()\n",
        "\n",
        "losses = []\n",
        "price_losses = []\n",
        "category_losses = []\n",
        "brand_losses = []\n",
        "\n",
        "price_div = 50000\n",
        "epoch_num = 3\n",
        "\n",
        "for epoch in range(epoch_num):\n",
        "  for image, price, category, brand in train_loader:\n",
        "    optimizer.zero_grad()\n",
        "    \n",
        "    image = image.to(device)\n",
        "    price = price.view(train_batch_size, 1).to(device)\n",
        "  \n",
        "    pred_price, pred_category, pred_brand = model(image)\n",
        "  \n",
        "    price_loss = price_loss_function(pred_price, price/price_div)\n",
        "    category_loss = category_loss_function(pred_category, category)\n",
        "    brand_loss = brand_loss_function(pred_brand, brand)\n",
        "  \n",
        "    loss = 1.5*price_loss\n",
        "    loss += 0.9*category_loss\n",
        "    loss += 0.4*brand_loss\n",
        "  \n",
        "    loss.backward()\n",
        "    optimizer.step()\n",
        "  \n",
        "    losses.append(loss.item()/train_batch_size)\n",
        "    price_losses.append(price_loss.item()/train_batch_size)\n",
        "    category_losses.append(category_loss.item()/train_batch_size)\n",
        "    brand_losses.append(brand_loss.item()/train_batch_size)"
      ],
      "execution_count": 167,
      "outputs": [
        {
          "output_type": "error",
          "ename": "KeyboardInterrupt",
          "evalue": "ignored",
          "traceback": [
            "\u001b[0;31m---------------------------------------------------------------------------\u001b[0m",
            "\u001b[0;31mKeyboardInterrupt\u001b[0m                         Traceback (most recent call last)",
            "\u001b[0;32m<ipython-input-167-1d5688ea18a0>\u001b[0m in \u001b[0;36m<module>\u001b[0;34m()\u001b[0m\n\u001b[1;32m     19\u001b[0m     \u001b[0mprice\u001b[0m \u001b[0;34m=\u001b[0m \u001b[0mprice\u001b[0m\u001b[0;34m.\u001b[0m\u001b[0mview\u001b[0m\u001b[0;34m(\u001b[0m\u001b[0mtrain_batch_size\u001b[0m\u001b[0;34m,\u001b[0m \u001b[0;36m1\u001b[0m\u001b[0;34m)\u001b[0m\u001b[0;34m.\u001b[0m\u001b[0mto\u001b[0m\u001b[0;34m(\u001b[0m\u001b[0mdevice\u001b[0m\u001b[0;34m)\u001b[0m\u001b[0;34m\u001b[0m\u001b[0;34m\u001b[0m\u001b[0m\n\u001b[1;32m     20\u001b[0m \u001b[0;34m\u001b[0m\u001b[0m\n\u001b[0;32m---> 21\u001b[0;31m     \u001b[0mpred_price\u001b[0m\u001b[0;34m,\u001b[0m \u001b[0mpred_category\u001b[0m\u001b[0;34m,\u001b[0m \u001b[0mpred_brand\u001b[0m \u001b[0;34m=\u001b[0m \u001b[0mmodel\u001b[0m\u001b[0;34m(\u001b[0m\u001b[0mimage\u001b[0m\u001b[0;34m)\u001b[0m\u001b[0;34m\u001b[0m\u001b[0;34m\u001b[0m\u001b[0m\n\u001b[0m\u001b[1;32m     22\u001b[0m \u001b[0;34m\u001b[0m\u001b[0m\n\u001b[1;32m     23\u001b[0m     \u001b[0mprice_loss\u001b[0m \u001b[0;34m=\u001b[0m \u001b[0mprice_loss_function\u001b[0m\u001b[0;34m(\u001b[0m\u001b[0mpred_price\u001b[0m\u001b[0;34m,\u001b[0m \u001b[0mprice\u001b[0m\u001b[0;34m/\u001b[0m\u001b[0mprice_div\u001b[0m\u001b[0;34m)\u001b[0m\u001b[0;34m\u001b[0m\u001b[0;34m\u001b[0m\u001b[0m\n",
            "\u001b[0;32m/usr/local/lib/python3.6/dist-packages/torch/nn/modules/module.py\u001b[0m in \u001b[0;36m_call_impl\u001b[0;34m(self, *input, **kwargs)\u001b[0m\n\u001b[1;32m    725\u001b[0m             \u001b[0mresult\u001b[0m \u001b[0;34m=\u001b[0m \u001b[0mself\u001b[0m\u001b[0;34m.\u001b[0m\u001b[0m_slow_forward\u001b[0m\u001b[0;34m(\u001b[0m\u001b[0;34m*\u001b[0m\u001b[0minput\u001b[0m\u001b[0;34m,\u001b[0m \u001b[0;34m**\u001b[0m\u001b[0mkwargs\u001b[0m\u001b[0;34m)\u001b[0m\u001b[0;34m\u001b[0m\u001b[0;34m\u001b[0m\u001b[0m\n\u001b[1;32m    726\u001b[0m         \u001b[0;32melse\u001b[0m\u001b[0;34m:\u001b[0m\u001b[0;34m\u001b[0m\u001b[0;34m\u001b[0m\u001b[0m\n\u001b[0;32m--> 727\u001b[0;31m             \u001b[0mresult\u001b[0m \u001b[0;34m=\u001b[0m \u001b[0mself\u001b[0m\u001b[0;34m.\u001b[0m\u001b[0mforward\u001b[0m\u001b[0;34m(\u001b[0m\u001b[0;34m*\u001b[0m\u001b[0minput\u001b[0m\u001b[0;34m,\u001b[0m \u001b[0;34m**\u001b[0m\u001b[0mkwargs\u001b[0m\u001b[0;34m)\u001b[0m\u001b[0;34m\u001b[0m\u001b[0;34m\u001b[0m\u001b[0m\n\u001b[0m\u001b[1;32m    728\u001b[0m         for hook in itertools.chain(\n\u001b[1;32m    729\u001b[0m                 \u001b[0m_global_forward_hooks\u001b[0m\u001b[0;34m.\u001b[0m\u001b[0mvalues\u001b[0m\u001b[0;34m(\u001b[0m\u001b[0;34m)\u001b[0m\u001b[0;34m,\u001b[0m\u001b[0;34m\u001b[0m\u001b[0;34m\u001b[0m\u001b[0m\n",
            "\u001b[0;32m<ipython-input-163-181e3ec5c8a6>\u001b[0m in \u001b[0;36mforward\u001b[0;34m(self, x)\u001b[0m\n\u001b[1;32m     30\u001b[0m     \u001b[0mprice\u001b[0m \u001b[0;34m=\u001b[0m \u001b[0mself\u001b[0m\u001b[0;34m.\u001b[0m\u001b[0mprice_fc\u001b[0m\u001b[0;34m(\u001b[0m\u001b[0mx\u001b[0m\u001b[0;34m)\u001b[0m\u001b[0;34m\u001b[0m\u001b[0;34m\u001b[0m\u001b[0m\n\u001b[1;32m     31\u001b[0m     \u001b[0mcategory\u001b[0m \u001b[0;34m=\u001b[0m \u001b[0mself\u001b[0m\u001b[0;34m.\u001b[0m\u001b[0mcategory_fc\u001b[0m\u001b[0;34m(\u001b[0m\u001b[0mx\u001b[0m\u001b[0;34m)\u001b[0m\u001b[0;34m\u001b[0m\u001b[0;34m\u001b[0m\u001b[0m\n\u001b[0;32m---> 32\u001b[0;31m     \u001b[0mbrand\u001b[0m \u001b[0;34m=\u001b[0m \u001b[0mself\u001b[0m\u001b[0;34m.\u001b[0m\u001b[0mbrand_fc\u001b[0m\u001b[0;34m(\u001b[0m\u001b[0mx\u001b[0m\u001b[0;34m)\u001b[0m\u001b[0;34m\u001b[0m\u001b[0;34m\u001b[0m\u001b[0m\n\u001b[0m\u001b[1;32m     33\u001b[0m \u001b[0;34m\u001b[0m\u001b[0m\n\u001b[1;32m     34\u001b[0m     \u001b[0;32mreturn\u001b[0m \u001b[0mprice\u001b[0m\u001b[0;34m,\u001b[0m \u001b[0mcategory\u001b[0m\u001b[0;34m,\u001b[0m \u001b[0mbrand\u001b[0m\u001b[0;34m\u001b[0m\u001b[0;34m\u001b[0m\u001b[0m\n",
            "\u001b[0;32m/usr/local/lib/python3.6/dist-packages/torch/nn/modules/module.py\u001b[0m in \u001b[0;36m_call_impl\u001b[0;34m(self, *input, **kwargs)\u001b[0m\n\u001b[1;32m    725\u001b[0m             \u001b[0mresult\u001b[0m \u001b[0;34m=\u001b[0m \u001b[0mself\u001b[0m\u001b[0;34m.\u001b[0m\u001b[0m_slow_forward\u001b[0m\u001b[0;34m(\u001b[0m\u001b[0;34m*\u001b[0m\u001b[0minput\u001b[0m\u001b[0;34m,\u001b[0m \u001b[0;34m**\u001b[0m\u001b[0mkwargs\u001b[0m\u001b[0;34m)\u001b[0m\u001b[0;34m\u001b[0m\u001b[0;34m\u001b[0m\u001b[0m\n\u001b[1;32m    726\u001b[0m         \u001b[0;32melse\u001b[0m\u001b[0;34m:\u001b[0m\u001b[0;34m\u001b[0m\u001b[0;34m\u001b[0m\u001b[0m\n\u001b[0;32m--> 727\u001b[0;31m             \u001b[0mresult\u001b[0m \u001b[0;34m=\u001b[0m \u001b[0mself\u001b[0m\u001b[0;34m.\u001b[0m\u001b[0mforward\u001b[0m\u001b[0;34m(\u001b[0m\u001b[0;34m*\u001b[0m\u001b[0minput\u001b[0m\u001b[0;34m,\u001b[0m \u001b[0;34m**\u001b[0m\u001b[0mkwargs\u001b[0m\u001b[0;34m)\u001b[0m\u001b[0;34m\u001b[0m\u001b[0;34m\u001b[0m\u001b[0m\n\u001b[0m\u001b[1;32m    728\u001b[0m         for hook in itertools.chain(\n\u001b[1;32m    729\u001b[0m                 \u001b[0m_global_forward_hooks\u001b[0m\u001b[0;34m.\u001b[0m\u001b[0mvalues\u001b[0m\u001b[0;34m(\u001b[0m\u001b[0;34m)\u001b[0m\u001b[0;34m,\u001b[0m\u001b[0;34m\u001b[0m\u001b[0;34m\u001b[0m\u001b[0m\n",
            "\u001b[0;32m/usr/local/lib/python3.6/dist-packages/torch/nn/modules/container.py\u001b[0m in \u001b[0;36mforward\u001b[0;34m(self, input)\u001b[0m\n\u001b[1;32m    115\u001b[0m     \u001b[0;32mdef\u001b[0m \u001b[0mforward\u001b[0m\u001b[0;34m(\u001b[0m\u001b[0mself\u001b[0m\u001b[0;34m,\u001b[0m \u001b[0minput\u001b[0m\u001b[0;34m)\u001b[0m\u001b[0;34m:\u001b[0m\u001b[0;34m\u001b[0m\u001b[0;34m\u001b[0m\u001b[0m\n\u001b[1;32m    116\u001b[0m         \u001b[0;32mfor\u001b[0m \u001b[0mmodule\u001b[0m \u001b[0;32min\u001b[0m \u001b[0mself\u001b[0m\u001b[0;34m:\u001b[0m\u001b[0;34m\u001b[0m\u001b[0;34m\u001b[0m\u001b[0m\n\u001b[0;32m--> 117\u001b[0;31m             \u001b[0minput\u001b[0m \u001b[0;34m=\u001b[0m \u001b[0mmodule\u001b[0m\u001b[0;34m(\u001b[0m\u001b[0minput\u001b[0m\u001b[0;34m)\u001b[0m\u001b[0;34m\u001b[0m\u001b[0;34m\u001b[0m\u001b[0m\n\u001b[0m\u001b[1;32m    118\u001b[0m         \u001b[0;32mreturn\u001b[0m \u001b[0minput\u001b[0m\u001b[0;34m\u001b[0m\u001b[0;34m\u001b[0m\u001b[0m\n\u001b[1;32m    119\u001b[0m \u001b[0;34m\u001b[0m\u001b[0m\n",
            "\u001b[0;32m/usr/local/lib/python3.6/dist-packages/torch/nn/modules/module.py\u001b[0m in \u001b[0;36m_call_impl\u001b[0;34m(self, *input, **kwargs)\u001b[0m\n\u001b[1;32m    725\u001b[0m             \u001b[0mresult\u001b[0m \u001b[0;34m=\u001b[0m \u001b[0mself\u001b[0m\u001b[0;34m.\u001b[0m\u001b[0m_slow_forward\u001b[0m\u001b[0;34m(\u001b[0m\u001b[0;34m*\u001b[0m\u001b[0minput\u001b[0m\u001b[0;34m,\u001b[0m \u001b[0;34m**\u001b[0m\u001b[0mkwargs\u001b[0m\u001b[0;34m)\u001b[0m\u001b[0;34m\u001b[0m\u001b[0;34m\u001b[0m\u001b[0m\n\u001b[1;32m    726\u001b[0m         \u001b[0;32melse\u001b[0m\u001b[0;34m:\u001b[0m\u001b[0;34m\u001b[0m\u001b[0;34m\u001b[0m\u001b[0m\n\u001b[0;32m--> 727\u001b[0;31m             \u001b[0mresult\u001b[0m \u001b[0;34m=\u001b[0m \u001b[0mself\u001b[0m\u001b[0;34m.\u001b[0m\u001b[0mforward\u001b[0m\u001b[0;34m(\u001b[0m\u001b[0;34m*\u001b[0m\u001b[0minput\u001b[0m\u001b[0;34m,\u001b[0m \u001b[0;34m**\u001b[0m\u001b[0mkwargs\u001b[0m\u001b[0;34m)\u001b[0m\u001b[0;34m\u001b[0m\u001b[0;34m\u001b[0m\u001b[0m\n\u001b[0m\u001b[1;32m    728\u001b[0m         for hook in itertools.chain(\n\u001b[1;32m    729\u001b[0m                 \u001b[0m_global_forward_hooks\u001b[0m\u001b[0;34m.\u001b[0m\u001b[0mvalues\u001b[0m\u001b[0;34m(\u001b[0m\u001b[0;34m)\u001b[0m\u001b[0;34m,\u001b[0m\u001b[0;34m\u001b[0m\u001b[0;34m\u001b[0m\u001b[0m\n",
            "\u001b[0;32m/usr/local/lib/python3.6/dist-packages/torch/nn/modules/linear.py\u001b[0m in \u001b[0;36mforward\u001b[0;34m(self, input)\u001b[0m\n\u001b[1;32m     91\u001b[0m \u001b[0;34m\u001b[0m\u001b[0m\n\u001b[1;32m     92\u001b[0m     \u001b[0;32mdef\u001b[0m \u001b[0mforward\u001b[0m\u001b[0;34m(\u001b[0m\u001b[0mself\u001b[0m\u001b[0;34m,\u001b[0m \u001b[0minput\u001b[0m\u001b[0;34m:\u001b[0m \u001b[0mTensor\u001b[0m\u001b[0;34m)\u001b[0m \u001b[0;34m->\u001b[0m \u001b[0mTensor\u001b[0m\u001b[0;34m:\u001b[0m\u001b[0;34m\u001b[0m\u001b[0;34m\u001b[0m\u001b[0m\n\u001b[0;32m---> 93\u001b[0;31m         \u001b[0;32mreturn\u001b[0m \u001b[0mF\u001b[0m\u001b[0;34m.\u001b[0m\u001b[0mlinear\u001b[0m\u001b[0;34m(\u001b[0m\u001b[0minput\u001b[0m\u001b[0;34m,\u001b[0m \u001b[0mself\u001b[0m\u001b[0;34m.\u001b[0m\u001b[0mweight\u001b[0m\u001b[0;34m,\u001b[0m \u001b[0mself\u001b[0m\u001b[0;34m.\u001b[0m\u001b[0mbias\u001b[0m\u001b[0;34m)\u001b[0m\u001b[0;34m\u001b[0m\u001b[0;34m\u001b[0m\u001b[0m\n\u001b[0m\u001b[1;32m     94\u001b[0m \u001b[0;34m\u001b[0m\u001b[0m\n\u001b[1;32m     95\u001b[0m     \u001b[0;32mdef\u001b[0m \u001b[0mextra_repr\u001b[0m\u001b[0;34m(\u001b[0m\u001b[0mself\u001b[0m\u001b[0;34m)\u001b[0m \u001b[0;34m->\u001b[0m \u001b[0mstr\u001b[0m\u001b[0;34m:\u001b[0m\u001b[0;34m\u001b[0m\u001b[0;34m\u001b[0m\u001b[0m\n",
            "\u001b[0;32m/usr/local/lib/python3.6/dist-packages/torch/nn/functional.py\u001b[0m in \u001b[0;36mlinear\u001b[0;34m(input, weight, bias)\u001b[0m\n\u001b[1;32m   1688\u001b[0m     \u001b[0;32mif\u001b[0m \u001b[0minput\u001b[0m\u001b[0;34m.\u001b[0m\u001b[0mdim\u001b[0m\u001b[0;34m(\u001b[0m\u001b[0;34m)\u001b[0m \u001b[0;34m==\u001b[0m \u001b[0;36m2\u001b[0m \u001b[0;32mand\u001b[0m \u001b[0mbias\u001b[0m \u001b[0;32mis\u001b[0m \u001b[0;32mnot\u001b[0m \u001b[0;32mNone\u001b[0m\u001b[0;34m:\u001b[0m\u001b[0;34m\u001b[0m\u001b[0;34m\u001b[0m\u001b[0m\n\u001b[1;32m   1689\u001b[0m         \u001b[0;31m# fused op is marginally faster\u001b[0m\u001b[0;34m\u001b[0m\u001b[0;34m\u001b[0m\u001b[0;34m\u001b[0m\u001b[0m\n\u001b[0;32m-> 1690\u001b[0;31m         \u001b[0mret\u001b[0m \u001b[0;34m=\u001b[0m \u001b[0mtorch\u001b[0m\u001b[0;34m.\u001b[0m\u001b[0maddmm\u001b[0m\u001b[0;34m(\u001b[0m\u001b[0mbias\u001b[0m\u001b[0;34m,\u001b[0m \u001b[0minput\u001b[0m\u001b[0;34m,\u001b[0m \u001b[0mweight\u001b[0m\u001b[0;34m.\u001b[0m\u001b[0mt\u001b[0m\u001b[0;34m(\u001b[0m\u001b[0;34m)\u001b[0m\u001b[0;34m)\u001b[0m\u001b[0;34m\u001b[0m\u001b[0;34m\u001b[0m\u001b[0m\n\u001b[0m\u001b[1;32m   1691\u001b[0m     \u001b[0;32melse\u001b[0m\u001b[0;34m:\u001b[0m\u001b[0;34m\u001b[0m\u001b[0;34m\u001b[0m\u001b[0m\n\u001b[1;32m   1692\u001b[0m         \u001b[0moutput\u001b[0m \u001b[0;34m=\u001b[0m \u001b[0minput\u001b[0m\u001b[0;34m.\u001b[0m\u001b[0mmatmul\u001b[0m\u001b[0;34m(\u001b[0m\u001b[0mweight\u001b[0m\u001b[0;34m.\u001b[0m\u001b[0mt\u001b[0m\u001b[0;34m(\u001b[0m\u001b[0;34m)\u001b[0m\u001b[0;34m)\u001b[0m\u001b[0;34m\u001b[0m\u001b[0;34m\u001b[0m\u001b[0m\n",
            "\u001b[0;31mKeyboardInterrupt\u001b[0m: "
          ]
        }
      ]
    }
  ]
}