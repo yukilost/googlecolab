{
  "nbformat": 4,
  "nbformat_minor": 0,
  "metadata": {
    "colab": {
      "name": "shoes_price_prediction.ipynb",
      "provenance": [],
      "collapsed_sections": [
        "IluLhy7AOQ-m",
        "mex_Ib7q_rBv",
        "kx5AJi6mXdhM",
        "RYyL8muQDwfn",
        "_7pDXAyeDwfp",
        "8a6YDbEYYbAJ",
        "N5XiXACYDadn",
        "8j3kZ1MHxw7R"
      ],
      "toc_visible": true,
      "authorship_tag": "ABX9TyMSvPveCV8/DIgtXV2PUqyP",
      "include_colab_link": true
    },
    "kernelspec": {
      "name": "python3",
      "display_name": "Python 3"
    },
    "accelerator": "GPU"
  },
  "cells": [
    {
      "cell_type": "markdown",
      "metadata": {
        "id": "view-in-github",
        "colab_type": "text"
      },
      "source": [
        "<a href=\"https://colab.research.google.com/github/yukilost/googlecolab/blob/main/shoes_price_prediction.ipynb\" target=\"_parent\"><img src=\"https://colab.research.google.com/assets/colab-badge.svg\" alt=\"Open In Colab\"/></a>"
      ]
    },
    {
      "cell_type": "markdown",
      "metadata": {
        "id": "mFTIabpJOaE7"
      },
      "source": [
        "<h1><strong>深層学習を用いたCG・画像処理</strong></h1>"
      ]
    },
    {
      "cell_type": "markdown",
      "metadata": {
        "id": "cXonqPGzzQWW"
      },
      "source": [
        "Google Driveのマウント"
      ]
    },
    {
      "cell_type": "code",
      "metadata": {
        "colab": {
          "base_uri": "https://localhost:8080/"
        },
        "id": "xjhAZxfGzVvU",
        "outputId": "c757d596-3a29-430f-ed8f-8f6d14e1fc72"
      },
      "source": [
        "from google.colab import drive\n",
        "drive.mount('/content/drive')"
      ],
      "execution_count": null,
      "outputs": [
        {
          "output_type": "stream",
          "text": [
            "Mounted at /content/drive\n"
          ],
          "name": "stdout"
        }
      ]
    },
    {
      "cell_type": "markdown",
      "metadata": {
        "id": "6TzS2MdHStXr"
      },
      "source": [
        "モジュールのインポート"
      ]
    },
    {
      "cell_type": "code",
      "metadata": {
        "id": "cbeZGx0-Svv_"
      },
      "source": [
        "import numpy as np\n",
        "import torch\n",
        "import torch.nn as nn\n",
        "from torch.utils.data import Dataset, DataLoader\n",
        "import torchvision.transforms as transforms\n",
        "from PIL import Image\n",
        "import matplotlib.pyplot as plt\n",
        "import csv"
      ],
      "execution_count": null,
      "outputs": []
    },
    {
      "cell_type": "markdown",
      "metadata": {
        "id": "DxLwK8mZhsg_"
      },
      "source": [
        "使用するデバイスの指定"
      ]
    },
    {
      "cell_type": "code",
      "metadata": {
        "id": "tokHwfVfhuoU"
      },
      "source": [
        "device = torch.device(\"cuda\") if torch.cuda_is_available() else torch.device(\"cpu\")"
      ],
      "execution_count": null,
      "outputs": []
    },
    {
      "cell_type": "markdown",
      "metadata": {
        "id": "51UUOY66gWNR"
      },
      "source": [
        "# スクレイピング"
      ]
    },
    {
      "cell_type": "markdown",
      "metadata": {
        "id": "4gGg42WQv4HB"
      },
      "source": [
        "## scrape.py"
      ]
    },
    {
      "cell_type": "markdown",
      "metadata": {
        "id": "TUNAki-Tg5Ap"
      },
      "source": [
        "ZOZOから靴の画像、カテゴリ、ブランド、値段を取得する。  \n",
        "画像のURLを利用してデータが重複しないようにする。  \n",
        "Google Colaboratoryで実行すると混雑時のページに飛ばされてしまうためローカル環境で実行する必要がある。  \n",
        ">csvデータの形式  \n",
        ">[id, url, category, brand, price]"
      ]
    },
    {
      "cell_type": "code",
      "metadata": {
        "id": "V8DXGBwegaOJ"
      },
      "source": [
        "# scrape.py\n",
        "\n",
        "import requests\n",
        "from bs4 import BeautifulSoup\n",
        "import csv\n",
        "import time\n",
        "import re\n",
        "\n",
        "# 画像を保存するディレクトリ\n",
        "imgdir = \"./images/\"\n",
        "\n",
        "# 収集したデータの集合\n",
        "collected = set()\n",
        "\n",
        "# csvファイルから収集済みデータを読み込む\n",
        "file = open(\"shoes.csv\")\n",
        "reader = csv.reader(file)\n",
        "\n",
        "for row in reader:\n",
        "    collected.add(row[1])\n",
        "\n",
        "file.close()\n",
        "\n",
        "# データの追加\n",
        "file = open(\"shoes.csv\", \"a\", encoding=\"utf-8\", newline=\"\")\n",
        "writer = csv.writer(file)\n",
        "\n",
        "# 画像のファイル名に使用するid\n",
        "id = len(collected) + 1\n",
        "\n",
        "# 収集するページの範囲\n",
        "start = 1\n",
        "end = 17\n",
        "\n",
        "for pagenum in range(start, end):\n",
        "    # 進捗状況の表示\n",
        "    print(str((pagenum-start)/(end-start)*100) + \"%\")\n",
        "\n",
        "    # 取得したHTMLファイルから必要な要素を取り出す\n",
        "    url = \"https://zozo.jp/category/shoes/slip-on/?pno=\" + str(pagenum)\n",
        "    response = requests.get(url)\n",
        "    soup = BeautifulSoup(response.content, \"lxml\")\n",
        "    items = soup.find_all(\"div\", class_=\"catalog-item-container\") \n",
        "\n",
        "    for item in items:\n",
        "        discountrate = 0\n",
        "\n",
        "        content = item.find(\"img\", class_=\"catalog-img\")\n",
        "\n",
        "        # 稀にcontentがNoneTyepオブジェクトになるため\n",
        "        if not content:\n",
        "            continue\n",
        "\n",
        "        # 画像のソース\n",
        "        imgref = content[\"data-src\"]\n",
        "\n",
        "        # 収集済みであったらスキップ\n",
        "        if imgref in collected:\n",
        "            continue\n",
        "\n",
        "        img = requests.get(imgref)\n",
        "\n",
        "        # カテゴリ\n",
        "        # ナイキの「エアマックス（スニーカー）」のようになっているため正規表現によりカテゴリ部分のみを抽出する\n",
        "        category = re.match(\".*（(.*?)）\", content[\"alt\"]).group(1)\n",
        "\n",
        "        # 関係ないもの、扱いづらいものはスキップ\n",
        "        if category == \"その他シューズ\" or category == \"シューケア用品\" or category == \"シューズアクセサリー\" or category == \"インソール/シューズクッション\" or category == \"シューズ小物/雑貨\":\n",
        "            continue\n",
        "\n",
        "        # ブランド\n",
        "        brand = item.find(\"div\", class_=\"catalog-h\").text\n",
        "\n",
        "        # 割引率\n",
        "        sale = item.find(\"span\", class_=\"feed-tag -sale -discountrate\")\n",
        "        if sale:\n",
        "            discountrate = int(sale.text)\n",
        "\n",
        "        # 値段\n",
        "        # ￥10,000 のように表示されているため記号を取り除き、割引き前の値段に修正\n",
        "        price = int(item.find(\"div\", class_=\"catalog-price-amount\").text[1:].replace(\",\", \"\"))\n",
        "        if discountrate:\n",
        "            price = int(price * 100 / discountrate)\n",
        "\n",
        "        # 情報が欠けていたらスキップ\n",
        "        if not (imgref and category and brand and price and img):\n",
        "            continue\n",
        "\n",
        "        # 書き込み\n",
        "        writer.writerow([id, imgref, category, brand, price])\n",
        "        imgfile = open(imgdir + str(id) + \".jpg\", \"wb\")\n",
        "        imgfile.write(img.content)\n",
        "        imgfile.close()\n",
        "\n",
        "        # 商品に対して一意なimgrefをキーとして収集済みデータに登録する\n",
        "        collected.add(imgref)\n",
        "\n",
        "        id += 1\n",
        "\n",
        "        # 短時間に集中的にアクセスしないようにする\n",
        "        time.sleep(1)\n",
        "    \n",
        "    time.sleep(10)\n",
        "\n",
        "file.close()"
      ],
      "execution_count": null,
      "outputs": []
    },
    {
      "cell_type": "markdown",
      "metadata": {
        "id": "1WSQfveXv-GM"
      },
      "source": [
        "## processing.py"
      ]
    },
    {
      "cell_type": "markdown",
      "metadata": {
        "id": "8Mx8lF1ZueqO"
      },
      "source": [
        "収集したデータを加工する。  \n",
        "ブランド数が多すぎるため閾値を超えないブランドはその他とする。"
      ]
    },
    {
      "cell_type": "code",
      "metadata": {
        "id": "rMjZ6TZOufBV"
      },
      "source": [
        "# processing.py\n",
        "\n",
        "import csv\n",
        "\n",
        "# バックアップのためshoes.csvをコピーしたファイルを使用\n",
        "file = open(\"/content/drive/MyDrive/deep/copy.csv\")\n",
        "reader = csv.reader(file)\n",
        "\n",
        "# 特定のブランドの商品数をカウント\n",
        "count_brands = dict()\n",
        "\n",
        "for row in reader:\n",
        "    count_brands.setdefault(row[3], 0)\n",
        "    count_brands[row[3]] += 1\n",
        "\n",
        "# ポインタを先頭に戻す\n",
        "file.seek(0)\n",
        "reader = csv.reader(file)\n",
        "\n",
        "# 処理結果\n",
        "outfile = open(\"/content/drive/MyDrive/deep/processed.csv\", \"w\", encoding=\"utf-8\", newline=\"\")\n",
        "writer = csv.writer(outfile)\n",
        "\n",
        "# 閾値\n",
        "thresh = 100\n",
        "\n",
        "for row in reader:\n",
        "    if count_brands[row[3]] < thresh:\n",
        "        row[3] = \"その他\"\n",
        "    writer.writerow([row[0], row[1], row[2], row[3], row[4]])\n",
        "\n",
        "file.close()\n",
        "outfile.close()"
      ],
      "execution_count": null,
      "outputs": []
    },
    {
      "cell_type": "markdown",
      "metadata": {
        "id": "B_wa2vyMx917"
      },
      "source": [
        "## analyze.py"
      ]
    },
    {
      "cell_type": "markdown",
      "metadata": {
        "id": "R12TdDROyRse"
      },
      "source": [
        "csvファイルを解析する。"
      ]
    },
    {
      "cell_type": "code",
      "metadata": {
        "colab": {
          "base_uri": "https://localhost:8080/"
        },
        "id": "aFyxQlV3yNSg",
        "outputId": "1c5f5422-66e1-405e-f1aa-1bfc3fed48a3"
      },
      "source": [
        "# analyze.py\n",
        "\n",
        "import csv\n",
        "\n",
        "# 加工したcsvファイル\n",
        "file = open('/content/drive/MyDrive/deep/processed.csv')\n",
        "reader = csv.reader(file)\n",
        "\n",
        "# 全データ数\n",
        "size = sum(1 for row in reader)\n",
        "\n",
        "# ポインタを先頭へ戻す\n",
        "file.seek(0)\n",
        "reader = csv.reader(file)\n",
        "\n",
        "# カテゴリ、ブランドごとに商品数を数える\n",
        "count_categories = dict()\n",
        "count_brands = dict()\n",
        "\n",
        "# 値段の詳細情報\n",
        "minprice = 1000000\n",
        "maxprice = 0\n",
        "aveprice = 0\n",
        "\n",
        "for row in reader:\n",
        "    count_categories.setdefault(row[2], 0)\n",
        "    count_categories[row[2]] += 1\n",
        "    count_brands.setdefault(row[3], 0)\n",
        "    count_brands[row[3]] += 1\n",
        "    if minprice > int(row[4]):\n",
        "        minprice = int(row[4])\n",
        "    if maxprice < int(row[4]):\n",
        "        maxprice = int(row[4])\n",
        "    aveprice += int(row[4]) / size\n",
        "\n",
        "file.close()\n",
        "\n",
        "# 降順にソート\n",
        "sorted_categories = sorted(count_categories.items(), key=lambda x:x[1], reverse=True)\n",
        "sorted_brands = sorted(count_brands.items(), key=lambda x:x[1], reverse=True)\n",
        "\n",
        "print(\"data size : \" + str(size))\n",
        "print(\"\\n\")\n",
        "\n",
        "print(\"minprice : \" + str(minprice))\n",
        "print(\"maxprice : \" + str(maxprice))\n",
        "print(\"aveprice : \" + str(aveprice))\n",
        "print(\"\\n\")\n",
        "\n",
        "print(str(len(sorted_categories)) + \" categories\")\n",
        "for item in sorted_categories:\n",
        "    print(item[0] + \" : \" + str(item[1]))\n",
        "print(\"\\n\")\n",
        "\n",
        "print(str(len(sorted_brands)) + \" brands\")\n",
        "for item in sorted_brands:\n",
        "    print(item[0] + \" : \" + str(item[1]))"
      ],
      "execution_count": null,
      "outputs": [
        {
          "output_type": "stream",
          "text": [
            "data size : 16650\n",
            "\n",
            "\n",
            "minprice : 550\n",
            "maxprice : 566666\n",
            "aveprice : 13360.347567567305\n",
            "\n",
            "\n",
            "10 categories\n",
            "ドレスシューズ : 2143\n",
            "サンダル : 1832\n",
            "バレエシューズ : 1817\n",
            "ブーツ : 1669\n",
            "モカシン/デッキシューズ : 1662\n",
            "スリッポン : 1601\n",
            "スニーカー : 1578\n",
            "ローファー : 1511\n",
            "レインシューズ : 1459\n",
            "パンプス : 1378\n",
            "\n",
            "\n",
            "37 brands\n",
            "その他 : 9114\n",
            "menue : 576\n",
            "LibertyDoll : 499\n",
            "NIKE : 395\n",
            "SESTO : 389\n",
            "Minnetonka : 347\n",
            "AAA+ : 342\n",
            "adidas : 330\n",
            "EMU Australia : 282\n",
            "AmiAmi : 277\n",
            "Vivian : 275\n",
            "HUNTER : 270\n",
            "SVEC : 180\n",
            "MAMIAN : 179\n",
            "ORiental TRaffic : 178\n",
            "EVOL : 177\n",
            "New Balance : 176\n",
            "Dr.Martens : 172\n",
            "crocs : 166\n",
            "Shoes in Closet : 162\n",
            "NOFALL : 158\n",
            "SOROTTO : 156\n",
            "Odette e Odile : 150\n",
            "CONVERSE : 146\n",
            "CHARLES & KEITH : 146\n",
            "Reebok : 145\n",
            "KOBE LETTUCE : 135\n",
            "FREAK’S STORE : 134\n",
            "Fabby fabby : 127\n",
            "BIRKENSTOCK : 121\n",
            "JELLY BEANS : 119\n",
            "Columbia : 107\n",
            "UGG : 106\n",
            "Dedes : 106\n",
            "Fabio Rusconi : 104\n",
            "HARUTA : 103\n",
            "RANDA : 101\n"
          ],
          "name": "stdout"
        }
      ]
    },
    {
      "cell_type": "markdown",
      "metadata": {
        "id": "2DTDSJsr0kSy"
      },
      "source": [
        "## onehot.py"
      ]
    },
    {
      "cell_type": "markdown",
      "metadata": {
        "id": "5lUyrzKD0q5k"
      },
      "source": [
        "加工済みのデータprocessed.csvをone-hot表現に変換する。"
      ]
    },
    {
      "cell_type": "code",
      "metadata": {
        "id": "e7YG-rUN0jU1"
      },
      "source": [
        "# onehot.py\n",
        "\n",
        "import csv\n",
        "\n",
        "file = open(\"/content/drive/MyDrive/deep/processed.csv\")\n",
        "reader = csv.reader(file)\n",
        "\n",
        "# カテゴリ名、ブランド名\n",
        "categories = set()\n",
        "brands = set()\n",
        "\n",
        "category_list = []\n",
        "brand_list = []\n",
        "\n",
        "for row in reader:\n",
        "    categories.add(row[2])\n",
        "    brands.add(row[3])\n",
        "\n",
        "category_num = len(categories)\n",
        "brand_num = len(brands)\n",
        "\n",
        "for item in categories:\n",
        "    category_list.append(item)\n",
        "for item in brands:\n",
        "    brand_list.append(item)\n",
        "    \n",
        "category_list.sort()\n",
        "brand_list.sort()\n",
        "\n",
        "# one-hot表現への変換\n",
        "def make_category_onehot(category):\n",
        "    cv = [0] * category_num\n",
        "    for i in range(category_num):\n",
        "        if(category == category_list[i]):\n",
        "            cv[i] = 1\n",
        "            return cv\n",
        "\n",
        "def make_brand_onehot(brand):\n",
        "    bv = [0] * brand_num\n",
        "    for i in range(brand_num):\n",
        "        if(brand == brand_list[i]):\n",
        "            bv[i] = 1\n",
        "            return bv\n",
        "\n",
        "outfile = open(\"onehot.csv\", \"w\", encoding=\"utf-8\", newline=\"\")\n",
        "writer = csv.writer(outfile)\n",
        "\n",
        "file.seek(0)\n",
        "reader = csv.reader(file)\n",
        "\n",
        "for row in reader:\n",
        "    cv = make_category_onehot(row[2])\n",
        "    bv = make_brand_onehot(row[3])\n",
        "    write_list = [row[0]] + cv + bv + [row[4]]\n",
        "    writer.writerow(write_list)\n",
        "\n",
        "file.close()\n",
        "outfile.close()"
      ],
      "execution_count": null,
      "outputs": []
    },
    {
      "cell_type": "markdown",
      "metadata": {
        "id": "IluLhy7AOQ-m"
      },
      "source": [
        "#実行結果"
      ]
    },
    {
      "cell_type": "markdown",
      "metadata": {
        "id": "6ETOFW47_RC2"
      },
      "source": [
        "## データセット作成"
      ]
    },
    {
      "cell_type": "code",
      "metadata": {
        "colab": {
          "base_uri": "https://localhost:8080/"
        },
        "id": "K72Qhh3L_Tsu",
        "outputId": "f967586a-b407-4d06-a514-b3ebca34bbd2"
      },
      "source": [
        "class ShoesData(torch.utils.data.Dataset):\n",
        "  def __init__(self, img_path, csv_path):\n",
        "\n",
        "    self.img_path = img_path\n",
        "\n",
        "    category_onehot = list()\n",
        "    brand_onehot = list()\n",
        "    price = list()\n",
        "\n",
        "    # csvファイル読み込み\n",
        "    file = open(csv_path)\n",
        "    reader = csv.reader(file)\n",
        "    for row in reader:\n",
        "      # 数値データに変換\n",
        "      row_i = [int(elem) for elem in row]\n",
        "      category_onehot.append(row_i[1:11])\n",
        "      brand_onehot.append(row_i[11:48])\n",
        "      price.append(row_i[48])\n",
        "\n",
        "    self.data_size = len(category_onehot)\n",
        "    self.category_onehot = torch.Tensor(category_onehot)\n",
        "    self.brand_onehot = torch.Tensor(brand_onehot)\n",
        "    self.price = torch.Tensor(price)\n",
        "\n",
        "  def __len__(self):\n",
        "    return self.data_size\n",
        "\n",
        "  def __getitem__(self, idx):\n",
        "    transform = torchvision.transforms.Compose([\n",
        "      torchvision.transforms.Resize([256, 256]),\n",
        "      torchvision.transforms.ToTensor()                                              \n",
        "    ])\n",
        "    image = transform(Image.open(self.img_path + str(idx+1) + '.jpg').convert('RGB'))\n",
        "\n",
        "    return image, self.category_onehot[idx], self.brand_onehot[idx], self.price[idx]\n",
        "\n",
        "  # デバッグ用\n",
        "  def showData(self, idx):\n",
        "    transform = torchvision.transforms.Compose([\n",
        "      torchvision.transforms.Resize([256, 256])\n",
        "    ])\n",
        "    image = transform(Image.open(self.img_path + str(idx+1) + '.jpg').convert('RGB'))\n",
        "\n",
        "    print(self.category_onehot.shape)\n",
        "    print(self.brand_onehot.shape)\n",
        "    print(self.price.shape)\n",
        "\n",
        "    print(self.category_onehot[idx])\n",
        "    print(self.brand_onehot[idx])\n",
        "    print(self.price[idx])\n",
        "    plt.imshow(np.asarray(image))\n",
        "\n",
        "dataset = ShoesData('/content/drive/MyDrive/deep/images/', '/content/drive/MyDrive/deep/onehot.csv')\n",
        "dataset.showData(0)\n",
        "\n",
        "# データセットの分割\n",
        "data_size = len(dataset)\n",
        "train_size = int(data_size * 0.8)\n",
        "test_size = data_size - train_size\n",
        "\n",
        "# データ数に対して割り切れるように設定する\n",
        "train_batch_size = 155\n",
        "test_batch_size = 110\n",
        "\n",
        "train_data, test_data = torch.utils.data.random_split(dataset, [train_size, test_size])\n",
        "\n",
        "train_loader = torch.utils.data.DataLoader(dataset=train_data, batch_size=train_batch_size, shuffle=True)\n",
        "test_loader = torch.utils.data.DataLoader(dataset=test_data, batch_size=test_batch_size, shuffle=True)"
      ],
      "execution_count": null,
      "outputs": [
        {
          "output_type": "stream",
          "text": [
            "torch.Size([16650, 10])\n",
            "torch.Size([16650, 37])\n",
            "torch.Size([16650])\n",
            "tensor([0., 1., 0., 0., 0., 0., 0., 0., 0., 0.])\n",
            "tensor([0., 0., 0., 0., 0., 0., 0., 0., 0., 0., 0., 0., 0., 0., 0., 0., 0., 0.,\n",
            "        0., 0., 1., 0., 0., 0., 0., 0., 0., 0., 0., 0., 0., 0., 0., 0., 0., 0.,\n",
            "        0.])\n",
            "tensor(14300.)\n"
          ],
          "name": "stdout"
        },
        {
          "output_type": "display_data",
          "data": {
            "image/png": "[encoded data removed]",
            "text/plain": [
              "<Figure size 432x288 with 1 Axes>"
            ]
          },
          "metadata": {
            "tags": [],
            "needs_background": "light"
          }
        }
      ]
    },
    {
      "cell_type": "markdown",
      "metadata": {
        "id": "mex_Ib7q_rBv"
      },
      "source": [
        "## 学習"
      ]
    },
    {
      "cell_type": "markdown",
      "metadata": {
        "id": "XT4Z1u6R_k9Z"
      },
      "source": [
        "ネットワーク定義"
      ]
    },
    {
      "cell_type": "code",
      "metadata": {
        "id": "u6MdtBoV_nTi"
      },
      "source": [
        "activate = torch.nn.LeakyReLU()\n",
        "\n",
        "class CNN(torch.nn.Module):\n",
        "  def __init__(self):\n",
        "    super(CNN, self).__init__()\n",
        "\n",
        "    # (3, 256, 256)\n",
        "    self.conv11 = torch.nn.Conv2d(in_channels=3, out_channels=8, kernel_size=3, stride=1, padding=1)\n",
        "    self.conv12 = torch.nn.Conv2d(in_channels=8, out_channels=16, kernel_size=3, stride=1, padding=1)\n",
        "    self.pool1 = torch.nn.MaxPool2d(kernel_size=4, stride=4)\n",
        "\n",
        "    # (16, 64, 64)\n",
        "    self.conv21 = torch.nn.Conv2d(in_channels=16, out_channels=32, kernel_size=3, stride=1, padding=1)\n",
        "    self.conv22 = torch.nn.Conv2d(in_channels=32, out_channels=64, kernel_size=3, stride=1, padding=1)\n",
        "    self.pool2 = torch.nn.MaxPool2d(kernel_size=4, stride=4)\n",
        "\n",
        "    # (64, 16, 16)\n",
        "    self.fc1 = torch.nn.Linear(in_features=64*16*16, out_features=1024)\n",
        "    self.fc2 = torch.nn.Linear(in_features=1024, out_features=512)\n",
        "    self.fc3 = torch.nn.Linear(in_features=512, out_features=64)\n",
        "    self.fc4 = torch.nn.Linear(in_features=64, out_features=1)\n",
        "\n",
        "  def forward(self, x):\n",
        "    x = activate(self.conv11(x))\n",
        "    x = activate(self.conv12(x))\n",
        "    x = self.pool1(x)\n",
        "    x = activate(self.conv21(x))\n",
        "    x = activate(self.conv22(x))\n",
        "    x = self.pool2(x)\n",
        "    x = x.view(-1, 64*16*16)\n",
        "    x = activate(self.fc1(x))\n",
        "    x = activate(self.fc2(x))\n",
        "    x = activate(self.fc3(x))\n",
        "    x = activate(self.fc4(x))\n",
        "    return x[:,0]"
      ],
      "execution_count": null,
      "outputs": []
    },
    {
      "cell_type": "markdown",
      "metadata": {
        "id": "iu9JcRyT6_vH"
      },
      "source": [
        "学習"
      ]
    },
    {
      "cell_type": "code",
      "metadata": {
        "colab": {
          "base_uri": "https://localhost:8080/",
          "height": 1000
        },
        "id": "l9MB1E4o_sMs",
        "outputId": "085bf045-fa45-45d1-8495-0aa76681a5c9"
      },
      "source": [
        "model = CNN()\n",
        "criterion = torch.nn.MSELoss()\n",
        "optimizer = torch.optim.Adam(model.parameters())\n",
        "\n",
        "epoch_num = 10\n",
        "div_term = 100000\n",
        "train_loss = []\n",
        "test_loss = []\n",
        "\n",
        "for epoch in range(epoch_num):\n",
        "  print('-'*40)\n",
        "  print('epoch : ' + str(epoch+1) + '/' + str(epoch_num))\n",
        "\n",
        "  model.train()\n",
        "  count = 1\n",
        "  running_train_loss = 0\n",
        "  for image, category, brand, price in train_loader:\n",
        "    #print('batch : ' + str(count))\n",
        "    optimizer.zero_grad()\n",
        "    output = model(image)\n",
        "    loss = criterion(output, price/div_term)\n",
        "    running_train_loss += loss.item()\n",
        "    loss.backward()\n",
        "    optimizer.step()\n",
        "    count += 1\n",
        "  \n",
        "  train_loss.append(running_train_loss/math.sqrt(train_size))\n",
        "\n",
        "  model.eval()\n",
        "  running_test_loss = 0\n",
        "  with torch.no_grad():\n",
        "    for image, category, brand, price in test_loader:\n",
        "      output = model(image)\n",
        "      loss = criterion(output, price/div_term)\n",
        "      running_test_loss += loss.item()\n",
        "\n",
        "  test_loss.append(running_test_loss/math.sqrt(test_size))\n",
        "\n",
        "  print('train loss : {}'.format(running_train_loss/math.sqrt(train_size)))\n",
        "  print('test loss : {}'.format(running_test_loss/math.sqrt(test_size)))\n",
        "\n",
        "fig = plt.figure()\n",
        "ax = fig.add_subplot()\n",
        "ax.set_xlabel('epoch')\n",
        "ax.set_ylabel('loss')\n",
        "ax.plot(train_loss, label='train')\n",
        "ax.plot(test_loss, label='test')\n",
        "plt.show()"
      ],
      "execution_count": null,
      "outputs": [
        {
          "output_type": "stream",
          "text": [
            "----------------------------------------\n",
            "epoch : 1/10\n",
            "batch : 1\n",
            "batch : 2\n",
            "batch : 3\n",
            "batch : 4\n",
            "batch : 5\n",
            "batch : 6\n",
            "batch : 7\n",
            "batch : 8\n",
            "batch : 9\n",
            "batch : 10\n",
            "batch : 11\n",
            "batch : 12\n",
            "batch : 13\n",
            "batch : 14\n",
            "batch : 15\n",
            "batch : 16\n",
            "batch : 17\n",
            "batch : 18\n",
            "batch : 19\n",
            "batch : 20\n",
            "batch : 21\n",
            "batch : 22\n",
            "batch : 23\n",
            "batch : 24\n",
            "batch : 25\n",
            "batch : 26\n",
            "batch : 27\n",
            "batch : 28\n",
            "batch : 29\n",
            "batch : 30\n",
            "batch : 31\n",
            "batch : 32\n",
            "batch : 33\n",
            "batch : 34\n",
            "batch : 35\n",
            "batch : 36\n",
            "batch : 37\n",
            "batch : 38\n",
            "batch : 39\n",
            "batch : 40\n",
            "batch : 41\n",
            "batch : 42\n",
            "batch : 43\n",
            "batch : 44\n",
            "batch : 45\n",
            "batch : 46\n",
            "batch : 47\n",
            "batch : 48\n",
            "batch : 49\n",
            "batch : 50\n",
            "batch : 51\n",
            "batch : 52\n",
            "batch : 53\n",
            "batch : 54\n",
            "batch : 55\n",
            "batch : 56\n",
            "batch : 57\n",
            "batch : 58\n",
            "batch : 59\n",
            "batch : 60\n",
            "batch : 61\n",
            "batch : 62\n",
            "batch : 63\n",
            "batch : 64\n",
            "batch : 65\n",
            "batch : 66\n",
            "batch : 67\n",
            "batch : 68\n",
            "batch : 69\n",
            "batch : 70\n",
            "batch : 71\n",
            "batch : 72\n",
            "batch : 73\n",
            "batch : 74\n",
            "batch : 75\n",
            "batch : 76\n",
            "batch : 77\n",
            "batch : 78\n",
            "batch : 79\n",
            "batch : 80\n",
            "batch : 81\n",
            "batch : 82\n",
            "batch : 83\n",
            "batch : 84\n",
            "batch : 85\n",
            "batch : 86\n",
            "train loss : 0.024541641569257453\n",
            "test loss : 0.02768566153132241\n",
            "----------------------------------------\n",
            "epoch : 2/10\n",
            "batch : 1\n",
            "batch : 2\n",
            "batch : 3\n",
            "batch : 4\n",
            "batch : 5\n",
            "batch : 6\n",
            "batch : 7\n",
            "batch : 8\n",
            "batch : 9\n",
            "batch : 10\n",
            "batch : 11\n",
            "batch : 12\n",
            "batch : 13\n",
            "batch : 14\n",
            "batch : 15\n",
            "batch : 16\n",
            "batch : 17\n",
            "batch : 18\n",
            "batch : 19\n",
            "batch : 20\n",
            "batch : 21\n",
            "batch : 22\n",
            "batch : 23\n",
            "batch : 24\n",
            "batch : 25\n",
            "batch : 26\n",
            "batch : 27\n",
            "batch : 28\n",
            "batch : 29\n",
            "batch : 30\n",
            "batch : 31\n",
            "batch : 32\n",
            "batch : 33\n",
            "batch : 34\n",
            "batch : 35\n",
            "batch : 36\n",
            "batch : 37\n",
            "batch : 38\n",
            "batch : 39\n",
            "batch : 40\n",
            "batch : 41\n",
            "batch : 42\n",
            "batch : 43\n",
            "batch : 44\n",
            "batch : 45\n",
            "batch : 46\n",
            "batch : 47\n",
            "batch : 48\n",
            "batch : 49\n",
            "batch : 50\n",
            "batch : 51\n",
            "batch : 52\n",
            "batch : 53\n",
            "batch : 54\n",
            "batch : 55\n",
            "batch : 56\n",
            "batch : 57\n",
            "batch : 58\n",
            "batch : 59\n",
            "batch : 60\n",
            "batch : 61\n",
            "batch : 62\n",
            "batch : 63\n",
            "batch : 64\n",
            "batch : 65\n",
            "batch : 66\n",
            "batch : 67\n",
            "batch : 68\n",
            "batch : 69\n",
            "batch : 70\n",
            "batch : 71\n",
            "batch : 72\n",
            "batch : 73\n",
            "batch : 74\n",
            "batch : 75\n",
            "batch : 76\n",
            "batch : 77\n",
            "batch : 78\n",
            "batch : 79\n",
            "batch : 80\n",
            "batch : 81\n",
            "batch : 82\n",
            "batch : 83\n",
            "batch : 84\n",
            "batch : 85\n",
            "batch : 86\n",
            "train loss : 0.02350944354138954\n",
            "test loss : 0.027491990893313556\n",
            "----------------------------------------\n",
            "epoch : 3/10\n",
            "batch : 1\n",
            "batch : 2\n",
            "batch : 3\n",
            "batch : 4\n",
            "batch : 5\n",
            "batch : 6\n",
            "batch : 7\n",
            "batch : 8\n",
            "batch : 9\n",
            "batch : 10\n",
            "batch : 11\n",
            "batch : 12\n",
            "batch : 13\n",
            "batch : 14\n",
            "batch : 15\n",
            "batch : 16\n",
            "batch : 17\n",
            "batch : 18\n",
            "batch : 19\n",
            "batch : 20\n",
            "batch : 21\n",
            "batch : 22\n",
            "batch : 23\n",
            "batch : 24\n",
            "batch : 25\n",
            "batch : 26\n",
            "batch : 27\n",
            "batch : 28\n",
            "batch : 29\n",
            "batch : 30\n",
            "batch : 31\n",
            "batch : 32\n",
            "batch : 33\n",
            "batch : 34\n",
            "batch : 35\n",
            "batch : 36\n",
            "batch : 37\n",
            "batch : 38\n",
            "batch : 39\n",
            "batch : 40\n",
            "batch : 41\n",
            "batch : 42\n",
            "batch : 43\n",
            "batch : 44\n",
            "batch : 45\n",
            "batch : 46\n",
            "batch : 47\n",
            "batch : 48\n",
            "batch : 49\n",
            "batch : 50\n",
            "batch : 51\n",
            "batch : 52\n",
            "batch : 53\n",
            "batch : 54\n",
            "batch : 55\n",
            "batch : 56\n",
            "batch : 57\n",
            "batch : 58\n",
            "batch : 59\n",
            "batch : 60\n",
            "batch : 61\n",
            "batch : 62\n",
            "batch : 63\n",
            "batch : 64\n",
            "batch : 65\n",
            "batch : 66\n",
            "batch : 67\n",
            "batch : 68\n",
            "batch : 69\n",
            "batch : 70\n",
            "batch : 71\n",
            "batch : 72\n",
            "batch : 73\n",
            "batch : 74\n",
            "batch : 75\n",
            "batch : 76\n",
            "batch : 77\n",
            "batch : 78\n",
            "batch : 79\n",
            "batch : 80\n",
            "batch : 81\n",
            "batch : 82\n",
            "batch : 83\n",
            "batch : 84\n",
            "batch : 85\n",
            "batch : 86\n",
            "train loss : 0.023266690875779702\n",
            "test loss : 0.02688342890788448\n",
            "----------------------------------------\n",
            "epoch : 4/10\n",
            "batch : 1\n",
            "batch : 2\n",
            "batch : 3\n",
            "batch : 4\n",
            "batch : 5\n",
            "batch : 6\n",
            "batch : 7\n",
            "batch : 8\n",
            "batch : 9\n",
            "batch : 10\n",
            "batch : 11\n",
            "batch : 12\n",
            "batch : 13\n",
            "batch : 14\n",
            "batch : 15\n",
            "batch : 16\n",
            "batch : 17\n",
            "batch : 18\n",
            "batch : 19\n",
            "batch : 20\n",
            "batch : 21\n",
            "batch : 22\n",
            "batch : 23\n",
            "batch : 24\n",
            "batch : 25\n",
            "batch : 26\n",
            "batch : 27\n",
            "batch : 28\n",
            "batch : 29\n",
            "batch : 30\n",
            "batch : 31\n",
            "batch : 32\n",
            "batch : 33\n",
            "batch : 34\n",
            "batch : 35\n",
            "batch : 36\n",
            "batch : 37\n",
            "batch : 38\n",
            "batch : 39\n",
            "batch : 40\n",
            "batch : 41\n",
            "batch : 42\n",
            "batch : 43\n",
            "batch : 44\n",
            "batch : 45\n",
            "batch : 46\n",
            "batch : 47\n",
            "batch : 48\n",
            "batch : 49\n",
            "batch : 50\n",
            "batch : 51\n",
            "batch : 52\n",
            "batch : 53\n",
            "batch : 54\n",
            "batch : 55\n",
            "batch : 56\n",
            "batch : 57\n",
            "batch : 58\n",
            "batch : 59\n",
            "batch : 60\n",
            "batch : 61\n",
            "batch : 62\n",
            "batch : 63\n",
            "batch : 64\n",
            "batch : 65\n",
            "batch : 66\n",
            "batch : 67\n",
            "batch : 68\n",
            "batch : 69\n",
            "batch : 70\n",
            "batch : 71\n",
            "batch : 72\n",
            "batch : 73\n",
            "batch : 74\n",
            "batch : 75\n",
            "batch : 76\n",
            "batch : 77\n",
            "batch : 78\n",
            "batch : 79\n",
            "batch : 80\n",
            "batch : 81\n",
            "batch : 82\n",
            "batch : 83\n",
            "batch : 84\n",
            "batch : 85\n",
            "batch : 86\n",
            "train loss : 0.02298981964155204\n",
            "test loss : 0.026702209750014944\n",
            "----------------------------------------\n",
            "epoch : 5/10\n",
            "batch : 1\n",
            "batch : 2\n",
            "batch : 3\n",
            "batch : 4\n",
            "batch : 5\n",
            "batch : 6\n",
            "batch : 7\n",
            "batch : 8\n",
            "batch : 9\n",
            "batch : 10\n",
            "batch : 11\n",
            "batch : 12\n",
            "batch : 13\n",
            "batch : 14\n",
            "batch : 15\n",
            "batch : 16\n",
            "batch : 17\n",
            "batch : 18\n",
            "batch : 19\n",
            "batch : 20\n",
            "batch : 21\n",
            "batch : 22\n",
            "batch : 23\n",
            "batch : 24\n",
            "batch : 25\n",
            "batch : 26\n",
            "batch : 27\n",
            "batch : 28\n",
            "batch : 29\n",
            "batch : 30\n",
            "batch : 31\n",
            "batch : 32\n",
            "batch : 33\n",
            "batch : 34\n",
            "batch : 35\n",
            "batch : 36\n",
            "batch : 37\n",
            "batch : 38\n",
            "batch : 39\n",
            "batch : 40\n",
            "batch : 41\n",
            "batch : 42\n",
            "batch : 43\n",
            "batch : 44\n",
            "batch : 45\n",
            "batch : 46\n",
            "batch : 47\n",
            "batch : 48\n",
            "batch : 49\n",
            "batch : 50\n",
            "batch : 51\n",
            "batch : 52\n",
            "batch : 53\n",
            "batch : 54\n",
            "batch : 55\n",
            "batch : 56\n",
            "batch : 57\n",
            "batch : 58\n",
            "batch : 59\n",
            "batch : 60\n",
            "batch : 61\n",
            "batch : 62\n",
            "batch : 63\n",
            "batch : 64\n",
            "batch : 65\n",
            "batch : 66\n",
            "batch : 67\n",
            "batch : 68\n",
            "batch : 69\n",
            "batch : 70\n",
            "batch : 71\n",
            "batch : 72\n",
            "batch : 73\n",
            "batch : 74\n",
            "batch : 75\n",
            "batch : 76\n",
            "batch : 77\n",
            "batch : 78\n",
            "batch : 79\n",
            "batch : 80\n",
            "batch : 81\n",
            "batch : 82\n",
            "batch : 83\n",
            "batch : 84\n",
            "batch : 85\n",
            "batch : 86\n",
            "train loss : 0.02268264782996313\n",
            "test loss : 0.02692720171198911\n",
            "----------------------------------------\n",
            "epoch : 6/10\n",
            "batch : 1\n",
            "batch : 2\n",
            "batch : 3\n",
            "batch : 4\n",
            "batch : 5\n",
            "batch : 6\n",
            "batch : 7\n",
            "batch : 8\n",
            "batch : 9\n",
            "batch : 10\n",
            "batch : 11\n",
            "batch : 12\n",
            "batch : 13\n",
            "batch : 14\n",
            "batch : 15\n",
            "batch : 16\n",
            "batch : 17\n",
            "batch : 18\n",
            "batch : 19\n",
            "batch : 20\n",
            "batch : 21\n",
            "batch : 22\n",
            "batch : 23\n",
            "batch : 24\n",
            "batch : 25\n",
            "batch : 26\n",
            "batch : 27\n",
            "batch : 28\n",
            "batch : 29\n",
            "batch : 30\n",
            "batch : 31\n",
            "batch : 32\n",
            "batch : 33\n",
            "batch : 34\n",
            "batch : 35\n",
            "batch : 36\n",
            "batch : 37\n",
            "batch : 38\n",
            "batch : 39\n",
            "batch : 40\n",
            "batch : 41\n",
            "batch : 42\n",
            "batch : 43\n",
            "batch : 44\n",
            "batch : 45\n",
            "batch : 46\n",
            "batch : 47\n",
            "batch : 48\n",
            "batch : 49\n",
            "batch : 50\n",
            "batch : 51\n",
            "batch : 52\n",
            "batch : 53\n",
            "batch : 54\n",
            "batch : 55\n",
            "batch : 56\n",
            "batch : 57\n",
            "batch : 58\n",
            "batch : 59\n",
            "batch : 60\n",
            "batch : 61\n",
            "batch : 62\n",
            "batch : 63\n",
            "batch : 64\n",
            "batch : 65\n",
            "batch : 66\n",
            "batch : 67\n",
            "batch : 68\n",
            "batch : 69\n",
            "batch : 70\n",
            "batch : 71\n",
            "batch : 72\n",
            "batch : 73\n",
            "batch : 74\n",
            "batch : 75\n",
            "batch : 76\n",
            "batch : 77\n",
            "batch : 78\n",
            "batch : 79\n",
            "batch : 80\n",
            "batch : 81\n",
            "batch : 82\n",
            "batch : 83\n",
            "batch : 84\n",
            "batch : 85\n",
            "batch : 86\n",
            "train loss : 0.022058390834614573\n",
            "test loss : 0.027045942428709727\n",
            "----------------------------------------\n",
            "epoch : 7/10\n",
            "batch : 1\n",
            "batch : 2\n",
            "batch : 3\n",
            "batch : 4\n",
            "batch : 5\n",
            "batch : 6\n",
            "batch : 7\n",
            "batch : 8\n",
            "batch : 9\n",
            "batch : 10\n",
            "batch : 11\n",
            "batch : 12\n",
            "batch : 13\n",
            "batch : 14\n",
            "batch : 15\n",
            "batch : 16\n",
            "batch : 17\n",
            "batch : 18\n",
            "batch : 19\n",
            "batch : 20\n",
            "batch : 21\n",
            "batch : 22\n",
            "batch : 23\n",
            "batch : 24\n",
            "batch : 25\n",
            "batch : 26\n",
            "batch : 27\n",
            "batch : 28\n",
            "batch : 29\n",
            "batch : 30\n",
            "batch : 31\n",
            "batch : 32\n",
            "batch : 33\n",
            "batch : 34\n",
            "batch : 35\n",
            "batch : 36\n",
            "batch : 37\n",
            "batch : 38\n",
            "batch : 39\n",
            "batch : 40\n",
            "batch : 41\n",
            "batch : 42\n",
            "batch : 43\n",
            "batch : 44\n",
            "batch : 45\n",
            "batch : 46\n",
            "batch : 47\n",
            "batch : 48\n",
            "batch : 49\n",
            "batch : 50\n",
            "batch : 51\n",
            "batch : 52\n",
            "batch : 53\n",
            "batch : 54\n",
            "batch : 55\n",
            "batch : 56\n",
            "batch : 57\n",
            "batch : 58\n",
            "batch : 59\n",
            "batch : 60\n",
            "batch : 61\n",
            "batch : 62\n",
            "batch : 63\n",
            "batch : 64\n",
            "batch : 65\n",
            "batch : 66\n",
            "batch : 67\n",
            "batch : 68\n",
            "batch : 69\n",
            "batch : 70\n",
            "batch : 71\n",
            "batch : 72\n",
            "batch : 73\n",
            "batch : 74\n",
            "batch : 75\n",
            "batch : 76\n",
            "batch : 77\n",
            "batch : 78\n",
            "batch : 79\n",
            "batch : 80\n",
            "batch : 81\n",
            "batch : 82\n",
            "batch : 83\n",
            "batch : 84\n",
            "batch : 85\n",
            "batch : 86\n",
            "train loss : 0.02164978665652961\n",
            "test loss : 0.02773367283774568\n",
            "----------------------------------------\n",
            "epoch : 8/10\n",
            "batch : 1\n",
            "batch : 2\n",
            "batch : 3\n",
            "batch : 4\n",
            "batch : 5\n",
            "batch : 6\n",
            "batch : 7\n",
            "batch : 8\n",
            "batch : 9\n",
            "batch : 10\n",
            "batch : 11\n",
            "batch : 12\n",
            "batch : 13\n",
            "batch : 14\n",
            "batch : 15\n",
            "batch : 16\n",
            "batch : 17\n",
            "batch : 18\n",
            "batch : 19\n",
            "batch : 20\n",
            "batch : 21\n",
            "batch : 22\n",
            "batch : 23\n",
            "batch : 24\n",
            "batch : 25\n",
            "batch : 26\n",
            "batch : 27\n",
            "batch : 28\n",
            "batch : 29\n",
            "batch : 30\n",
            "batch : 31\n",
            "batch : 32\n",
            "batch : 33\n",
            "batch : 34\n",
            "batch : 35\n",
            "batch : 36\n",
            "batch : 37\n",
            "batch : 38\n",
            "batch : 39\n",
            "batch : 40\n",
            "batch : 41\n",
            "batch : 42\n",
            "batch : 43\n",
            "batch : 44\n",
            "batch : 45\n",
            "batch : 46\n",
            "batch : 47\n",
            "batch : 48\n",
            "batch : 49\n",
            "batch : 50\n",
            "batch : 51\n",
            "batch : 52\n",
            "batch : 53\n",
            "batch : 54\n",
            "batch : 55\n",
            "batch : 56\n",
            "batch : 57\n",
            "batch : 58\n",
            "batch : 59\n",
            "batch : 60\n",
            "batch : 61\n",
            "batch : 62\n",
            "batch : 63\n",
            "batch : 64\n",
            "batch : 65\n",
            "batch : 66\n",
            "batch : 67\n",
            "batch : 68\n",
            "batch : 69\n",
            "batch : 70\n",
            "batch : 71\n",
            "batch : 72\n",
            "batch : 73\n",
            "batch : 74\n",
            "batch : 75\n",
            "batch : 76\n",
            "batch : 77\n",
            "batch : 78\n",
            "batch : 79\n",
            "batch : 80\n",
            "batch : 81\n",
            "batch : 82\n",
            "batch : 83\n",
            "batch : 84\n",
            "batch : 85\n",
            "batch : 86\n",
            "train loss : 0.02065992775238498\n",
            "test loss : 0.02758570639643877\n",
            "----------------------------------------\n",
            "epoch : 9/10\n",
            "batch : 1\n",
            "batch : 2\n",
            "batch : 3\n",
            "batch : 4\n",
            "batch : 5\n",
            "batch : 6\n",
            "batch : 7\n",
            "batch : 8\n",
            "batch : 9\n",
            "batch : 10\n",
            "batch : 11\n",
            "batch : 12\n",
            "batch : 13\n",
            "batch : 14\n",
            "batch : 15\n",
            "batch : 16\n",
            "batch : 17\n",
            "batch : 18\n",
            "batch : 19\n",
            "batch : 20\n",
            "batch : 21\n",
            "batch : 22\n",
            "batch : 23\n",
            "batch : 24\n",
            "batch : 25\n",
            "batch : 26\n",
            "batch : 27\n",
            "batch : 28\n",
            "batch : 29\n",
            "batch : 30\n",
            "batch : 31\n",
            "batch : 32\n",
            "batch : 33\n",
            "batch : 34\n",
            "batch : 35\n",
            "batch : 36\n",
            "batch : 37\n",
            "batch : 38\n",
            "batch : 39\n",
            "batch : 40\n",
            "batch : 41\n",
            "batch : 42\n",
            "batch : 43\n",
            "batch : 44\n",
            "batch : 45\n",
            "batch : 46\n",
            "batch : 47\n",
            "batch : 48\n",
            "batch : 49\n",
            "batch : 50\n",
            "batch : 51\n",
            "batch : 52\n",
            "batch : 53\n",
            "batch : 54\n",
            "batch : 55\n",
            "batch : 56\n",
            "batch : 57\n",
            "batch : 58\n",
            "batch : 59\n",
            "batch : 60\n",
            "batch : 61\n",
            "batch : 62\n",
            "batch : 63\n",
            "batch : 64\n",
            "batch : 65\n",
            "batch : 66\n",
            "batch : 67\n",
            "batch : 68\n",
            "batch : 69\n",
            "batch : 70\n",
            "batch : 71\n",
            "batch : 72\n",
            "batch : 73\n",
            "batch : 74\n",
            "batch : 75\n",
            "batch : 76\n",
            "batch : 77\n",
            "batch : 78\n",
            "batch : 79\n",
            "batch : 80\n",
            "batch : 81\n",
            "batch : 82\n",
            "batch : 83\n",
            "batch : 84\n",
            "batch : 85\n",
            "batch : 86\n",
            "train loss : 0.019018772041817945\n",
            "test loss : 0.029271337807160427\n",
            "----------------------------------------\n",
            "epoch : 10/10\n",
            "batch : 1\n",
            "batch : 2\n",
            "batch : 3\n",
            "batch : 4\n",
            "batch : 5\n",
            "batch : 6\n",
            "batch : 7\n",
            "batch : 8\n",
            "batch : 9\n",
            "batch : 10\n",
            "batch : 11\n",
            "batch : 12\n",
            "batch : 13\n",
            "batch : 14\n",
            "batch : 15\n",
            "batch : 16\n",
            "batch : 17\n",
            "batch : 18\n",
            "batch : 19\n",
            "batch : 20\n",
            "batch : 21\n",
            "batch : 22\n",
            "batch : 23\n",
            "batch : 24\n",
            "batch : 25\n",
            "batch : 26\n",
            "batch : 27\n",
            "batch : 28\n",
            "batch : 29\n",
            "batch : 30\n",
            "batch : 31\n",
            "batch : 32\n",
            "batch : 33\n",
            "batch : 34\n",
            "batch : 35\n",
            "batch : 36\n",
            "batch : 37\n",
            "batch : 38\n",
            "batch : 39\n",
            "batch : 40\n",
            "batch : 41\n",
            "batch : 42\n",
            "batch : 43\n",
            "batch : 44\n",
            "batch : 45\n",
            "batch : 46\n",
            "batch : 47\n",
            "batch : 48\n",
            "batch : 49\n",
            "batch : 50\n",
            "batch : 51\n",
            "batch : 52\n",
            "batch : 53\n",
            "batch : 54\n",
            "batch : 55\n",
            "batch : 56\n",
            "batch : 57\n",
            "batch : 58\n",
            "batch : 59\n",
            "batch : 60\n",
            "batch : 61\n",
            "batch : 62\n",
            "batch : 63\n",
            "batch : 64\n",
            "batch : 65\n",
            "batch : 66\n",
            "batch : 67\n",
            "batch : 68\n",
            "batch : 69\n",
            "batch : 70\n",
            "batch : 71\n",
            "batch : 72\n",
            "batch : 73\n",
            "batch : 74\n",
            "batch : 75\n",
            "batch : 76\n",
            "batch : 77\n",
            "batch : 78\n",
            "batch : 79\n",
            "batch : 80\n",
            "batch : 81\n",
            "batch : 82\n",
            "batch : 83\n",
            "batch : 84\n",
            "batch : 85\n",
            "batch : 86\n",
            "train loss : 0.021668963682996503\n",
            "test loss : 0.02816161084932404\n"
          ],
          "name": "stdout"
        },
        {
          "output_type": "display_data",
          "data": {
            "image/png": "[encoded data removed]",
            "text/plain": [
              "<Figure size 432x288 with 1 Axes>"
            ]
          },
          "metadata": {
            "tags": [],
            "needs_background": "light"
          }
        }
      ]
    },
    {
      "cell_type": "code",
      "metadata": {
        "id": "a-4LE0dLTBqH"
      },
      "source": [
        "torch.save(model.state_dict(), '/content/drive/MyDrive/deep/params/model.pth')"
      ],
      "execution_count": null,
      "outputs": []
    },
    {
      "cell_type": "code",
      "metadata": {
        "colab": {
          "base_uri": "https://localhost:8080/"
        },
        "id": "wFXJ5J3oUWOn",
        "outputId": "49e9acc3-2f2b-47ac-9526-2ff1bafedafb"
      },
      "source": [
        "model.load_state_dict(torch.load('/content/drive/MyDrive/deep/params/model.pth'))\n",
        "\n",
        "\n",
        "model.eval()\n",
        "with torch.no_grad():\n",
        "  for image, category, brand, price in test_loader:\n",
        "    output = model(image)\n",
        "    predict = output * normalize_term\n",
        "    print('predict : ' + str(predict[0]) + ', price : ' + str(price[0]))\n"
      ],
      "execution_count": null,
      "outputs": [
        {
          "output_type": "stream",
          "text": [
            "predict : tensor(11579.4092), price : tensor(5544.)\n",
            "predict : tensor(11977.3135), price : tensor(2980.)\n",
            "predict : tensor(11451.1992), price : tensor(18700.)\n",
            "predict : tensor(12450.7588), price : tensor(14300.)\n",
            "predict : tensor(10763.0986), price : tensor(3951.)\n",
            "predict : tensor(11937.9521), price : tensor(2023.)\n",
            "predict : tensor(13464.2812), price : tensor(28233.)\n",
            "predict : tensor(13338.0156), price : tensor(29700.)\n",
            "predict : tensor(10715.4785), price : tensor(4290.)\n",
            "predict : tensor(11063.4180), price : tensor(1799.)\n",
            "predict : tensor(13480.6064), price : tensor(29920.)\n",
            "predict : tensor(11046.0430), price : tensor(21450.)\n",
            "predict : tensor(11044.6807), price : tensor(3960.)\n",
            "predict : tensor(11593.2568), price : tensor(4620.)\n",
            "predict : tensor(11030.4531), price : tensor(28600.)\n",
            "predict : tensor(11586.2129), price : tensor(5500.)\n",
            "predict : tensor(11954.7471), price : tensor(7150.)\n",
            "predict : tensor(11094.6436), price : tensor(5280.)\n",
            "predict : tensor(9894.2461), price : tensor(5280.)\n",
            "predict : tensor(10282.4014), price : tensor(14850.)\n",
            "predict : tensor(11429.9316), price : tensor(2480.)\n",
            "predict : tensor(11215.3525), price : tensor(1499.)\n",
            "predict : tensor(10201.5195), price : tensor(25666.)\n",
            "predict : tensor(9397.8037), price : tensor(16335.)\n",
            "predict : tensor(10879.5820), price : tensor(2990.)\n",
            "predict : tensor(12354.9268), price : tensor(17600.)\n",
            "predict : tensor(11369.8320), price : tensor(16500.)\n",
            "predict : tensor(10511.5508), price : tensor(3850.)\n",
            "predict : tensor(10703.6602), price : tensor(2434.)\n",
            "predict : tensor(11154.3037), price : tensor(2420.)\n",
            "predict : tensor(11021.2920), price : tensor(27280.)\n"
          ],
          "name": "stdout"
        }
      ]
    },
    {
      "cell_type": "markdown",
      "metadata": {
        "id": "inqLnvp0Dqt7"
      },
      "source": [
        "# マルチタスク学習"
      ]
    },
    {
      "cell_type": "markdown",
      "metadata": {
        "id": "kx5AJi6mXdhM"
      },
      "source": [
        "## ライブラリのインポート"
      ]
    },
    {
      "cell_type": "code",
      "metadata": {
        "id": "J6AyGDHXXp5o"
      },
      "source": [
        "import torch\n",
        "import torch.nn as nn\n",
        "from torch.utils.data import Dataset, DataLoader\n",
        "import torchvision.transforms as transforms\n",
        "import random\n",
        "import numpy as np\n",
        "import pandas as pd\n",
        "from PIL import Image\n",
        "import matplotlib.pyplot as plt\n",
        "from google.colab import drive"
      ],
      "execution_count": null,
      "outputs": []
    },
    {
      "cell_type": "markdown",
      "metadata": {
        "id": "RYyL8muQDwfn"
      },
      "source": [
        "## Google Driveのマウント"
      ]
    },
    {
      "cell_type": "code",
      "metadata": {
        "colab": {
          "base_uri": "https://localhost:8080/"
        },
        "id": "ATCFiThmDwfo",
        "outputId": "2e1981c7-2fec-4fea-c519-b1f8a7725fb4"
      },
      "source": [
        "drive.mount(\"/content/drive\")"
      ],
      "execution_count": null,
      "outputs": [
        {
          "output_type": "stream",
          "text": [
            "Mounted at /content/drive\n"
          ],
          "name": "stdout"
        }
      ]
    },
    {
      "cell_type": "markdown",
      "metadata": {
        "id": "_7pDXAyeDwfp"
      },
      "source": [
        "## 使用するデバイスの指定"
      ]
    },
    {
      "cell_type": "code",
      "metadata": {
        "colab": {
          "base_uri": "https://localhost:8080/"
        },
        "id": "tkppWKb4Dwfq",
        "outputId": "9e37aa54-3085-4bf5-cdb1-9dac7e4f6f99"
      },
      "source": [
        "device = torch.device(\"cuda\") if torch.cuda.is_available() else torch.device(\"cpu\")\n",
        "print(device)"
      ],
      "execution_count": null,
      "outputs": [
        {
          "output_type": "stream",
          "text": [
            "cuda\n"
          ],
          "name": "stdout"
        }
      ]
    },
    {
      "cell_type": "markdown",
      "metadata": {
        "id": "go7kZTw26z7A"
      },
      "source": [
        "## その他ブランドの追加"
      ]
    },
    {
      "cell_type": "code",
      "metadata": {
        "colab": {
          "base_uri": "https://localhost:8080/"
        },
        "id": "XfqVBfbS6zdb",
        "outputId": "23aa2de2-95fb-4454-fad9-6dd279681933"
      },
      "source": [
        "data_path = \"/content/drive/MyDrive/deep/collect.csv\"\n",
        "data_names = [\"id\", \"url\", \"category\", \"brand\", \"price\"]\n",
        "\n",
        "thresh = 100\n",
        "\n",
        "df = pd.read_csv(data_path, names=data_names)\n",
        "count = df[\"brand\"].value_counts()\n",
        "\n",
        "for i in range(len(df)):\n",
        "  if count[df[\"brand\"][i]] < thresh:\n",
        "    df[\"brand\"][i] = \"その他\"\n",
        "\n",
        "count = df[\"brand\"].value_counts()\n",
        "print(count)"
      ],
      "execution_count": null,
      "outputs": [
        {
          "output_type": "stream",
          "text": [
            "/usr/local/lib/python3.6/dist-packages/ipykernel_launcher.py:11: SettingWithCopyWarning: \n",
            "A value is trying to be set on a copy of a slice from a DataFrame\n",
            "\n",
            "See the caveats in the documentation: https://pandas.pydata.org/pandas-docs/stable/user_guide/indexing.html#returning-a-view-versus-a-copy\n",
            "  # This is added back by InteractiveShellApp.init_path()\n"
          ],
          "name": "stderr"
        },
        {
          "output_type": "stream",
          "text": [
            "その他                     11567\n",
            "LibertyDoll               667\n",
            "menue                     662\n",
            "NIKE                      622\n",
            "SESTO                     564\n",
            "HUNTER                    454\n",
            "AAA+                      436\n",
            "Minnetonka                426\n",
            "Odette e Odile            381\n",
            "AmiAmi                    372\n",
            "adidas                    350\n",
            "Vivian                    328\n",
            "New Balance               304\n",
            "ORiental TRaffic          298\n",
            "EMU Australia             270\n",
            "Shoes in Closet           221\n",
            "Fabio Rusconi             220\n",
            "JELLY BEANS               217\n",
            "EVOL                      202\n",
            "RANDA                     193\n",
            "MAMIAN                    193\n",
            "SVEC                      190\n",
            "KOBE LETTUCE              184\n",
            "Dedes                     184\n",
            "Dr.Martens                180\n",
            "NOFALL                    179\n",
            "Reebok                    177\n",
            "PUMA                      177\n",
            "FREAK’S STORE             173\n",
            "SOROTTO                   170\n",
            "green label relaxing      164\n",
            "chumchum                  160\n",
            "CONVERSE                  157\n",
            "Fin                       138\n",
            "HARUTA                    133\n",
            "Clarks                    131\n",
            "crocs                     130\n",
            "UGG                       127\n",
            "Fabby fabby               125\n",
            "alfredoBANNISTER          125\n",
            "minia                     125\n",
            "Repetto                   121\n",
            "CHARLES & KEITH           118\n",
            "VANS                      114\n",
            "mooimooi                  111\n",
            "Jalan Sriwijaya           108\n",
            "BIRKENSTOCK               106\n",
            "YOSUKE                    105\n",
            "Emma Francis              103\n",
            "artemis by DIANA          103\n",
            "STYLEBLOCK                102\n",
            "Name: brand, dtype: int64\n"
          ],
          "name": "stdout"
        }
      ]
    },
    {
      "cell_type": "markdown",
      "metadata": {
        "id": "8a6YDbEYYbAJ"
      },
      "source": [
        "## ラベルの対応"
      ]
    },
    {
      "cell_type": "code",
      "metadata": {
        "colab": {
          "base_uri": "https://localhost:8080/"
        },
        "id": "xYc5bgcMt1vv",
        "outputId": "7d64e2a0-7fb1-452f-a0ef-b08a0e526cc2"
      },
      "source": [
        "label_to_category = np.sort(np.unique(df[\"category\"]))\n",
        "label_to_brand = np.sort(np.unique(df[\"brand\"]))\n",
        "\n",
        "data_size = len(df)\n",
        "category_num = len(label_to_category)\n",
        "brand_num = len(label_to_brand)\n",
        "\n",
        "category_to_label = dict()\n",
        "brand_to_label = dict()\n",
        "\n",
        "for i in range(category_num):\n",
        "  category_to_label[label_to_category[i]] = i\n",
        "for i in range(brand_num):\n",
        "  brand_to_label[label_to_brand[i]] = i\n",
        "\n",
        "print(label_to_category)\n",
        "print(category_to_label)\n",
        "print(label_to_brand)\n",
        "print(brand_to_label)"
      ],
      "execution_count": null,
      "outputs": [
        {
          "output_type": "stream",
          "text": [
            "['サンダル' 'スニーカー' 'スリッポン' 'ドレスシューズ' 'バレエシューズ' 'パンプス' 'ブーツ' 'モカシン/デッキシューズ'\n",
            " 'レインシューズ' 'ローファー']\n",
            "{'サンダル': 0, 'スニーカー': 1, 'スリッポン': 2, 'ドレスシューズ': 3, 'バレエシューズ': 4, 'パンプス': 5, 'ブーツ': 6, 'モカシン/デッキシューズ': 7, 'レインシューズ': 8, 'ローファー': 9}\n",
            "['AAA+' 'AmiAmi' 'BIRKENSTOCK' 'CHARLES & KEITH' 'CONVERSE' 'Clarks'\n",
            " 'Dedes' 'Dr.Martens' 'EMU Australia' 'EVOL' 'Emma Francis'\n",
            " 'FREAK’S STORE' 'Fabby fabby' 'Fabio Rusconi' 'Fin' 'HARUTA' 'HUNTER'\n",
            " 'JELLY BEANS' 'Jalan Sriwijaya' 'KOBE LETTUCE' 'LibertyDoll' 'MAMIAN'\n",
            " 'Minnetonka' 'NIKE' 'NOFALL' 'New Balance' 'ORiental TRaffic'\n",
            " 'Odette e Odile' 'PUMA' 'RANDA' 'Reebok' 'Repetto' 'SESTO' 'SOROTTO'\n",
            " 'STYLEBLOCK' 'SVEC' 'Shoes in Closet' 'UGG' 'VANS' 'Vivian' 'YOSUKE'\n",
            " 'adidas' 'alfredoBANNISTER' 'artemis by DIANA' 'chumchum' 'crocs'\n",
            " 'green label relaxing' 'menue' 'minia' 'mooimooi' 'その他']\n",
            "{'AAA+': 0, 'AmiAmi': 1, 'BIRKENSTOCK': 2, 'CHARLES & KEITH': 3, 'CONVERSE': 4, 'Clarks': 5, 'Dedes': 6, 'Dr.Martens': 7, 'EMU Australia': 8, 'EVOL': 9, 'Emma Francis': 10, 'FREAK’S STORE': 11, 'Fabby fabby': 12, 'Fabio Rusconi': 13, 'Fin': 14, 'HARUTA': 15, 'HUNTER': 16, 'JELLY BEANS': 17, 'Jalan Sriwijaya': 18, 'KOBE LETTUCE': 19, 'LibertyDoll': 20, 'MAMIAN': 21, 'Minnetonka': 22, 'NIKE': 23, 'NOFALL': 24, 'New Balance': 25, 'ORiental TRaffic': 26, 'Odette e Odile': 27, 'PUMA': 28, 'RANDA': 29, 'Reebok': 30, 'Repetto': 31, 'SESTO': 32, 'SOROTTO': 33, 'STYLEBLOCK': 34, 'SVEC': 35, 'Shoes in Closet': 36, 'UGG': 37, 'VANS': 38, 'Vivian': 39, 'YOSUKE': 40, 'adidas': 41, 'alfredoBANNISTER': 42, 'artemis by DIANA': 43, 'chumchum': 44, 'crocs': 45, 'green label relaxing': 46, 'menue': 47, 'minia': 48, 'mooimooi': 49, 'その他': 50}\n"
          ],
          "name": "stdout"
        }
      ]
    },
    {
      "cell_type": "markdown",
      "metadata": {
        "id": "N5XiXACYDadn"
      },
      "source": [
        "## データの分析"
      ]
    },
    {
      "cell_type": "code",
      "metadata": {
        "colab": {
          "base_uri": "https://localhost:8080/",
          "height": 1000
        },
        "id": "9rGKzW1FDcPO",
        "outputId": "122279a8-fec2-4d5b-af22-1bc6dd1fc7b9"
      },
      "source": [
        "maxprice = np.max(df[\"price\"])\n",
        "minprice = np.min(df[\"price\"])\n",
        "aveprice = np.average(df[\"price\"])\n",
        "medprice = np.median(df[\"price\"])\n",
        "\n",
        "print(\"data size : {}\\n\".format(data_size))\n",
        "\n",
        "print(\"price\")\n",
        "print(\"max : {}\".format(maxprice))\n",
        "print(\"min : {}\".format(minprice))\n",
        "print(\"average : {}\".format(aveprice))\n",
        "print(\"median : {}\\n\".format(medprice))\n",
        "\n",
        "print(\"category\")\n",
        "print(\"num : {}\".format(category_num))\n",
        "print(df[\"category\"].value_counts(), end='\\n\\n')\n",
        "\n",
        "print(\"brand\")\n",
        "print(\"num : {}\".format(brand_num))\n",
        "print(df[\"brand\"].value_counts())\n",
        "\n",
        "plt.xlabel(\"price\")\n",
        "plt.ylabel(\"frequency\")\n",
        "plt.hist(df[\"price\"],bins=np.arange(0, 210000, 1000))\n",
        "plt.figure()\n",
        "plt.xlabel(\"price\")\n",
        "plt.ylabel(\"frequency\")\n",
        "plt.hist(df[\"price\"],bins=np.arange(0, 50000, 1000))\n",
        "plt.show()"
      ],
      "execution_count": null,
      "outputs": [
        {
          "output_type": "stream",
          "text": [
            "data size : 23167\n",
            "\n",
            "price\n",
            "max : 209000\n",
            "min : 550\n",
            "average : 11039.710968187508\n",
            "median : 7590.0\n",
            "\n",
            "category\n",
            "num : 10\n",
            "バレエシューズ         2400\n",
            "ドレスシューズ         2400\n",
            "ブーツ             2400\n",
            "スリッポン           2399\n",
            "ローファー           2394\n",
            "サンダル            2386\n",
            "レインシューズ         2383\n",
            "パンプス            2375\n",
            "スニーカー           2327\n",
            "モカシン/デッキシューズ    1703\n",
            "Name: category, dtype: int64\n",
            "\n",
            "brand\n",
            "num : 51\n",
            "その他                     11567\n",
            "LibertyDoll               667\n",
            "menue                     662\n",
            "NIKE                      622\n",
            "SESTO                     564\n",
            "HUNTER                    454\n",
            "AAA+                      436\n",
            "Minnetonka                426\n",
            "Odette e Odile            381\n",
            "AmiAmi                    372\n",
            "adidas                    350\n",
            "Vivian                    328\n",
            "New Balance               304\n",
            "ORiental TRaffic          298\n",
            "EMU Australia             270\n",
            "Shoes in Closet           221\n",
            "Fabio Rusconi             220\n",
            "JELLY BEANS               217\n",
            "EVOL                      202\n",
            "RANDA                     193\n",
            "MAMIAN                    193\n",
            "SVEC                      190\n",
            "KOBE LETTUCE              184\n",
            "Dedes                     184\n",
            "Dr.Martens                180\n",
            "NOFALL                    179\n",
            "Reebok                    177\n",
            "PUMA                      177\n",
            "FREAK’S STORE             173\n",
            "SOROTTO                   170\n",
            "green label relaxing      164\n",
            "chumchum                  160\n",
            "CONVERSE                  157\n",
            "Fin                       138\n",
            "HARUTA                    133\n",
            "Clarks                    131\n",
            "crocs                     130\n",
            "UGG                       127\n",
            "Fabby fabby               125\n",
            "alfredoBANNISTER          125\n",
            "minia                     125\n",
            "Repetto                   121\n",
            "CHARLES & KEITH           118\n",
            "VANS                      114\n",
            "mooimooi                  111\n",
            "Jalan Sriwijaya           108\n",
            "BIRKENSTOCK               106\n",
            "YOSUKE                    105\n",
            "Emma Francis              103\n",
            "artemis by DIANA          103\n",
            "STYLEBLOCK                102\n",
            "Name: brand, dtype: int64\n"
          ],
          "name": "stdout"
        },
        {
          "output_type": "display_data",
          "data": {
            "image/png": "[encoded data removed]",
            "text/plain": [
              "<Figure size 432x288 with 1 Axes>"
            ]
          },
          "metadata": {
            "tags": [],
            "needs_background": "light"
          }
        },
        {
          "output_type": "display_data",
          "data": {
            "image/png": "[encoded data removed]",
            "text/plain": [
              "<Figure size 432x288 with 1 Axes>"
            ]
          },
          "metadata": {
            "tags": [],
            "needs_background": "light"
          }
        }
      ]
    },
    {
      "cell_type": "markdown",
      "metadata": {
        "id": "PhzI7RXklrLL"
      },
      "source": [
        "最高値データの確認"
      ]
    },
    {
      "cell_type": "code",
      "metadata": {
        "colab": {
          "base_uri": "https://localhost:8080/",
          "height": 337
        },
        "id": "W5CaWgoM1TKY",
        "outputId": "a3659cde-0ace-4c98-8cb2-19ef6db36195"
      },
      "source": [
        "idx = np.argmax(df[\"price\"])\n",
        "print(df[\"price\"][idx])\n",
        "print(df[\"category\"][idx])\n",
        "print(df[\"brand\"][idx])\n",
        "image = Image.open(\"/content/drive/MyDrive/deep/data/\" + str(idx) + \".jpg\").convert('RGB')\n",
        "plt.imshow(image)"
      ],
      "execution_count": null,
      "outputs": [
        {
          "output_type": "stream",
          "text": [
            "209000\n",
            "ローファー\n",
            "その他\n"
          ],
          "name": "stdout"
        },
        {
          "output_type": "execute_result",
          "data": {
            "text/plain": [
              "<matplotlib.image.AxesImage at 0x7f3be5d6f240>"
            ]
          },
          "metadata": {
            "tags": []
          },
          "execution_count": 8
        },
        {
          "output_type": "display_data",
          "data": {
            "image/png": "[encoded data removed]",
            "text/plain": [
              "<Figure size 432x288 with 1 Axes>"
            ]
          },
          "metadata": {
            "tags": [],
            "needs_background": "light"
          }
        }
      ]
    },
    {
      "cell_type": "markdown",
      "metadata": {
        "id": "RlyikoyvEBTN"
      },
      "source": [
        "## データセット作成"
      ]
    },
    {
      "cell_type": "code",
      "metadata": {
        "colab": {
          "base_uri": "https://localhost:8080/",
          "height": 320
        },
        "id": "A3X12dPsEDJG",
        "outputId": "fbcc0d8a-c11a-4875-ad2e-93061735b0b1"
      },
      "source": [
        "class Data(Dataset):\n",
        "  def __init__(self, img_dir, img_transform):\n",
        "    super().__init__() \n",
        "\n",
        "    self.img_dir = img_dir\n",
        "    self.img_transform = img_transform\n",
        "\n",
        "    self.size = data_size\n",
        "    self.id = df[\"id\"]\n",
        "    self.price = df[\"price\"]\n",
        "    self.category = df[\"category\"]\n",
        "    self.brand = df[\"brand\"]\n",
        "\n",
        "  def __len__(self):\n",
        "    return self.size\n",
        "  \n",
        "  def __getitem__(self, idx):\n",
        "    img = self.img_transform(Image.open(self.img_dir + str(self.id[idx]) + '.jpg').convert('RGB'))\n",
        "    return img, self.price[idx], category_to_label[self.category[idx]], brand_to_label[self.brand[idx]]\n",
        "\n",
        "img_transform = transforms.Compose([\n",
        "  transforms.Resize([256, 256]),\n",
        "  transforms.ToTensor()\n",
        "])\n",
        "\n",
        "dataset = Data(\"/content/drive/MyDrive/deep/data/\", img_transform)\n",
        "\n",
        "img, price, category_label, brand_label = dataset[0]\n",
        "plt.imshow(np.asarray(img.numpy().copy().transpose(1, 2, 0)))\n",
        "print(\"price : {}\".format(price))\n",
        "print(\"category : {}\".format(label_to_category[category_label]))\n",
        "print(\"brand : {}\".format(label_to_brand[brand_label]))"
      ],
      "execution_count": null,
      "outputs": [
        {
          "output_type": "stream",
          "text": [
            "price : 19800\n",
            "category : スニーカー\n",
            "brand : NIKE\n"
          ],
          "name": "stdout"
        },
        {
          "output_type": "display_data",
          "data": {
            "image/png": "[encoded data removed]",
            "text/plain": [
              "<Figure size 432x288 with 1 Axes>"
            ]
          },
          "metadata": {
            "tags": [],
            "needs_background": "light"
          }
        }
      ]
    },
    {
      "cell_type": "markdown",
      "metadata": {
        "id": "8j3kZ1MHxw7R"
      },
      "source": [
        "## データセット分割"
      ]
    },
    {
      "cell_type": "code",
      "metadata": {
        "colab": {
          "base_uri": "https://localhost:8080/",
          "height": 742
        },
        "id": "1_Gt-Ua4xzn3",
        "outputId": "13cd6f73-8530-4949-859a-76a0c69f644c"
      },
      "source": [
        "train_size = 20002\n",
        "test_size = data_size - train_size\n",
        "\n",
        "print(\"train size : {}\".format(train_size))\n",
        "print(\"test size : {}\\n\".format(test_size))\n",
        "\n",
        "# データ数に対して割り切れるように設定する\n",
        "train_batch_size = 73\n",
        "test_batch_size = 211\n",
        "\n",
        "print(\"train batch size : {}\".format(train_batch_size))\n",
        "print(\"test batch size : {}\\n\".format(test_batch_size))\n",
        "\n",
        "train_dataset, test_dataset = torch.utils.data.random_split(dataset, [train_size, test_size])\n",
        "\n",
        "train_loader = torch.utils.data.DataLoader(dataset=train_dataset, batch_size=train_batch_size, shuffle=True)\n",
        "test_loader = torch.utils.data.DataLoader(dataset=test_dataset, batch_size=test_batch_size, shuffle=False)\n",
        "\n",
        "img, price, category_label, brand_label = train_dataset[0]\n",
        "plt.imshow(np.asarray(img.numpy().copy().transpose(1, 2, 0)))\n",
        "print(\"price : {}\".format(price))\n",
        "print(\"category : {}\".format(label_to_category[category_label]))\n",
        "print(\"brand : {}\\n\".format(label_to_brand[brand_label]))\n",
        "\n",
        "img, price, category_label, brand_label = test_dataset[0]\n",
        "plt.figure()\n",
        "plt.imshow(np.asarray(img.numpy().copy().transpose(1, 2, 0)))\n",
        "print(\"price : {}\".format(price))\n",
        "print(\"category : {}\".format(label_to_category[category_label]))\n",
        "print(\"brand : {}\".format(label_to_brand[brand_label]))"
      ],
      "execution_count": null,
      "outputs": [
        {
          "output_type": "stream",
          "text": [
            "train size : 20002\n",
            "test size : 3165\n",
            "\n",
            "train batch size : 73\n",
            "test batch size : 211\n",
            "\n",
            "price : 15840\n",
            "category : レインシューズ\n",
            "brand : HUNTER\n",
            "\n",
            "price : 12980\n",
            "category : サンダル\n",
            "brand : その他\n"
          ],
          "name": "stdout"
        },
        {
          "output_type": "display_data",
          "data": {
            "image/png": "[encoded data removed]",
            "text/plain": [
              "<Figure size 432x288 with 1 Axes>"
            ]
          },
          "metadata": {
            "tags": [],
            "needs_background": "light"
          }
        },
        {
          "output_type": "display_data",
          "data": {
            "image/png": "[encoded data removed]",
            "text/plain": [
              "<Figure size 432x288 with 1 Axes>"
            ]
          },
          "metadata": {
            "tags": [],
            "needs_background": "light"
          }
        }
      ]
    },
    {
      "cell_type": "markdown",
      "metadata": {
        "id": "9wtJVAQfF5fi"
      },
      "source": [
        "## ネットワーク定義"
      ]
    },
    {
      "cell_type": "code",
      "metadata": {
        "id": "SOCZzzBfF7ZS"
      },
      "source": [
        "class MultiTaskModel(nn.Module):\n",
        "  def __init__(self, category_num, brand_num):\n",
        "    super().__init__()\n",
        "  \n",
        "    self.cnn = nn.Sequential(\n",
        "        nn.Conv2d(3, 6, 5), nn.LeakyReLU(), nn.Conv2d(6, 12, 5), nn.LeakyReLU(), nn.MaxPool2d(4, 4),\n",
        "        nn.Conv2d(12, 24, 5), nn.LeakyReLU(), nn.Conv2d(24, 48, 5), nn.LeakyReLU(), nn.MaxPool2d(3, 3),\n",
        "        nn.Flatten()\n",
        "    )\n",
        "    \n",
        "    self.price_fc = nn.Sequential(\n",
        "        nn.Linear(in_features=48*18*18, out_features=512), nn.LeakyReLU(),\n",
        "        nn.Linear(in_features=512, out_features=1), nn.Identity()\n",
        "    )\n",
        "    \n",
        "    self.category_fc = nn.Sequential(\n",
        "        nn.Linear(in_features=48*18*18, out_features=512), nn.LeakyReLU(),\n",
        "        nn.Linear(in_features=512, out_features=category_num)\n",
        "    )\n",
        "    \n",
        "    self.brand_fc = nn.Sequential(\n",
        "        nn.Linear(in_features=48*18*18, out_features=512), nn.LeakyReLU(),\n",
        "        nn.Linear(in_features=512, out_features=brand_num)\n",
        "    )\n",
        "  \n",
        "  def forward(self, x):\n",
        "    x = self.cnn(x)\n",
        "    price = self.price_fc(x)\n",
        "    category = self.category_fc(x)\n",
        "    brand = self.brand_fc(x)\n",
        "    \n",
        "    return price, category, brand"
      ],
      "execution_count": null,
      "outputs": []
    },
    {
      "cell_type": "markdown",
      "metadata": {
        "id": "c2P2aFrtF8Ov"
      },
      "source": [
        "## 損失関数"
      ]
    },
    {
      "cell_type": "code",
      "metadata": {
        "colab": {
          "base_uri": "https://localhost:8080/"
        },
        "id": "iOpTTryeFcu-",
        "outputId": "80f9e685-9925-46fc-e137-794ae6edf67d"
      },
      "source": [
        "# ブランドの頻度を計算し重み付け\n",
        "\n",
        "brand_freq = np.zeros(brand_num)\n",
        "\n",
        "indices = train_dataset.indices\n",
        "for brand in df[\"brand\"][indices].values:\n",
        "  brand_freq[brand_to_label[brand]] += 1\n",
        "\n",
        "weight = torch.Tensor(train_size / brand_freq).to(device)\n",
        "print(weight)"
      ],
      "execution_count": null,
      "outputs": [
        {
          "output_type": "stream",
          "text": [
            "tensor([ 52.0885,  60.6121, 224.7416, 196.0980, 146.0000, 186.9346, 128.2179,\n",
            "        129.8831,  86.2155, 114.2971, 215.0753, 129.8831, 186.9346, 103.6373,\n",
            "        168.0840, 177.0089,  51.2872, 108.7065, 222.2444, 124.2360,  34.4862,\n",
            "        117.6588,  53.4813,  37.3869, 133.3467,  73.5368,  79.0593,  59.3531,\n",
            "        129.0452, 119.7725, 121.9634, 185.2037,  40.0040, 130.7320, 240.9879,\n",
            "        121.2242, 111.1222, 178.5893, 204.1020,  72.4710, 215.0753,  66.8963,\n",
            "        200.0200, 224.7416, 149.2687, 169.5085, 148.1630,  35.2148, 183.5046,\n",
            "        212.7872,   2.0080], device='cuda:0')\n"
          ],
          "name": "stdout"
        }
      ]
    },
    {
      "cell_type": "code",
      "metadata": {
        "id": "JBWYIzfvGBVV"
      },
      "source": [
        "price_loss_function = nn.MSELoss()\n",
        "category_loss_function = nn.CrossEntropyLoss()\n",
        "brand_loss_function = nn.CrossEntropyLoss(weight=weight)"
      ],
      "execution_count": null,
      "outputs": []
    },
    {
      "cell_type": "markdown",
      "metadata": {
        "id": "AGIww_9_GB94"
      },
      "source": [
        "## 学習"
      ]
    },
    {
      "cell_type": "code",
      "metadata": {
        "colab": {
          "base_uri": "https://localhost:8080/",
          "height": 396
        },
        "id": "fg3b8GVw8yR4",
        "outputId": "65c5d909-8034-41dd-f5cf-edfd6c3f76db"
      },
      "source": [
        "model = MultiTaskModel(category_num, brand_num).to(device)\n",
        "optimizer = torch.optim.Adam(model.parameters())\n",
        "\n",
        "price_div = 20000\n",
        "epoch_num = 100\n",
        "lambda_category = 1\n",
        "lambda_brand = 1\n",
        "\n",
        "running_train_losses = []\n",
        "running_test_losses = []\n",
        "# running_price_losses = []\n",
        "# running_category_losses = []\n",
        "# running_brand_losses = []\n",
        "\n",
        "for epoch in range(epoch_num):\n",
        "  print(\"\\repoch : {}/{}\".format(epoch+1, epoch_num), end='')\n",
        "\n",
        "  epoch_train_loss = 0\n",
        "  epoch_test_loss = 0\n",
        "\n",
        "  model.train()\n",
        "  for image, price, category, brand in train_loader:\n",
        "    optimizer.zero_grad()\n",
        "    \n",
        "    image = image.to(device)\n",
        "    price = price.view(train_batch_size, 1).to(device)\n",
        "    category = category.to(device)\n",
        "    brand = brand.to(device)\n",
        "  \n",
        "    pred_price, pred_category, pred_brand = model(image)\n",
        "\n",
        "    price_loss = price_loss_function(pred_price, price/price_div)\n",
        "    category_loss = category_loss_function(pred_category, category)\n",
        "    brand_loss = brand_loss_function(pred_brand, brand)\n",
        "  \n",
        "    loss = price_loss\n",
        "    loss += lambda_category*category_loss\n",
        "    loss += lambda_brand*brand_loss\n",
        "  \n",
        "    loss.backward()\n",
        "    optimizer.step()\n",
        "\n",
        "    epoch_train_loss += loss.item() \n",
        "    # price_losses.append(price_loss.item()/train_batch_size)\n",
        "    # category_losses.append(category_loss.item()/train_batch_size)\n",
        "    # brand_losses.append(brand_loss.item()/train_batch_size)\n",
        "\n",
        "  running_train_losses.append(epoch_train_loss/train_size)\n",
        "\n",
        "  model.eval()\n",
        "  with torch.no_grad():\n",
        "    for image, price, category, brand in test_loader:\n",
        "\n",
        "      image = image.to(device)\n",
        "      price = price.view(test_batch_size, 1).to(device)\n",
        "      category = category.to(device)\n",
        "      brand = brand.to(device)\n",
        "    \n",
        "      pred_price, pred_category, pred_brand = model(image)\n",
        "  \n",
        "      price_loss = price_loss_function(pred_price, price/price_div)\n",
        "      category_loss = category_loss_function(pred_category, category)\n",
        "      brand_loss = brand_loss_function(pred_brand, brand)\n",
        "    \n",
        "      loss = price_loss\n",
        "      loss += lambda_category*category_loss\n",
        "      loss += lambda_brand*brand_loss\n",
        "\n",
        "      epoch_test_loss += loss.item()\n",
        "    \n",
        "  running_test_losses.append(epoch_test_loss/test_size)"
      ],
      "execution_count": 116,
      "outputs": [
        {
          "output_type": "stream",
          "text": [
            "\repoch : 1/100"
          ],
          "name": "stdout"
        },
        {
          "output_type": "error",
          "ename": "KeyboardInterrupt",
          "evalue": "ignored",
          "traceback": [
            "\u001b[0;31m---------------------------------------------------------------------------\u001b[0m",
            "\u001b[0;31mKeyboardInterrupt\u001b[0m                         Traceback (most recent call last)",
            "\u001b[0;32m<ipython-input-116-a7daa441455f>\u001b[0m in \u001b[0;36m<module>\u001b[0;34m()\u001b[0m\n\u001b[1;32m     20\u001b[0m \u001b[0;34m\u001b[0m\u001b[0m\n\u001b[1;32m     21\u001b[0m   \u001b[0mmodel\u001b[0m\u001b[0;34m.\u001b[0m\u001b[0mtrain\u001b[0m\u001b[0;34m(\u001b[0m\u001b[0;34m)\u001b[0m\u001b[0;34m\u001b[0m\u001b[0;34m\u001b[0m\u001b[0m\n\u001b[0;32m---> 22\u001b[0;31m   \u001b[0;32mfor\u001b[0m \u001b[0mimage\u001b[0m\u001b[0;34m,\u001b[0m \u001b[0mprice\u001b[0m\u001b[0;34m,\u001b[0m \u001b[0mcategory\u001b[0m\u001b[0;34m,\u001b[0m \u001b[0mbrand\u001b[0m \u001b[0;32min\u001b[0m \u001b[0mtrain_loader\u001b[0m\u001b[0;34m:\u001b[0m\u001b[0;34m\u001b[0m\u001b[0;34m\u001b[0m\u001b[0m\n\u001b[0m\u001b[1;32m     23\u001b[0m     \u001b[0moptimizer\u001b[0m\u001b[0;34m.\u001b[0m\u001b[0mzero_grad\u001b[0m\u001b[0;34m(\u001b[0m\u001b[0;34m)\u001b[0m\u001b[0;34m\u001b[0m\u001b[0;34m\u001b[0m\u001b[0m\n\u001b[1;32m     24\u001b[0m \u001b[0;34m\u001b[0m\u001b[0m\n",
            "\u001b[0;32m/usr/local/lib/python3.6/dist-packages/torch/utils/data/dataloader.py\u001b[0m in \u001b[0;36m__next__\u001b[0;34m(self)\u001b[0m\n\u001b[1;32m    433\u001b[0m         \u001b[0;32mif\u001b[0m \u001b[0mself\u001b[0m\u001b[0;34m.\u001b[0m\u001b[0m_sampler_iter\u001b[0m \u001b[0;32mis\u001b[0m \u001b[0;32mNone\u001b[0m\u001b[0;34m:\u001b[0m\u001b[0;34m\u001b[0m\u001b[0;34m\u001b[0m\u001b[0m\n\u001b[1;32m    434\u001b[0m             \u001b[0mself\u001b[0m\u001b[0;34m.\u001b[0m\u001b[0m_reset\u001b[0m\u001b[0;34m(\u001b[0m\u001b[0;34m)\u001b[0m\u001b[0;34m\u001b[0m\u001b[0;34m\u001b[0m\u001b[0m\n\u001b[0;32m--> 435\u001b[0;31m         \u001b[0mdata\u001b[0m \u001b[0;34m=\u001b[0m \u001b[0mself\u001b[0m\u001b[0;34m.\u001b[0m\u001b[0m_next_data\u001b[0m\u001b[0;34m(\u001b[0m\u001b[0;34m)\u001b[0m\u001b[0;34m\u001b[0m\u001b[0;34m\u001b[0m\u001b[0m\n\u001b[0m\u001b[1;32m    436\u001b[0m         \u001b[0mself\u001b[0m\u001b[0;34m.\u001b[0m\u001b[0m_num_yielded\u001b[0m \u001b[0;34m+=\u001b[0m \u001b[0;36m1\u001b[0m\u001b[0;34m\u001b[0m\u001b[0;34m\u001b[0m\u001b[0m\n\u001b[1;32m    437\u001b[0m         \u001b[0;32mif\u001b[0m \u001b[0mself\u001b[0m\u001b[0;34m.\u001b[0m\u001b[0m_dataset_kind\u001b[0m \u001b[0;34m==\u001b[0m \u001b[0m_DatasetKind\u001b[0m\u001b[0;34m.\u001b[0m\u001b[0mIterable\u001b[0m \u001b[0;32mand\u001b[0m\u001b[0;31m \u001b[0m\u001b[0;31m\\\u001b[0m\u001b[0;34m\u001b[0m\u001b[0;34m\u001b[0m\u001b[0m\n",
            "\u001b[0;32m/usr/local/lib/python3.6/dist-packages/torch/utils/data/dataloader.py\u001b[0m in \u001b[0;36m_next_data\u001b[0;34m(self)\u001b[0m\n\u001b[1;32m    473\u001b[0m     \u001b[0;32mdef\u001b[0m \u001b[0m_next_data\u001b[0m\u001b[0;34m(\u001b[0m\u001b[0mself\u001b[0m\u001b[0;34m)\u001b[0m\u001b[0;34m:\u001b[0m\u001b[0;34m\u001b[0m\u001b[0;34m\u001b[0m\u001b[0m\n\u001b[1;32m    474\u001b[0m         \u001b[0mindex\u001b[0m \u001b[0;34m=\u001b[0m \u001b[0mself\u001b[0m\u001b[0;34m.\u001b[0m\u001b[0m_next_index\u001b[0m\u001b[0;34m(\u001b[0m\u001b[0;34m)\u001b[0m  \u001b[0;31m# may raise StopIteration\u001b[0m\u001b[0;34m\u001b[0m\u001b[0;34m\u001b[0m\u001b[0m\n\u001b[0;32m--> 475\u001b[0;31m         \u001b[0mdata\u001b[0m \u001b[0;34m=\u001b[0m \u001b[0mself\u001b[0m\u001b[0;34m.\u001b[0m\u001b[0m_dataset_fetcher\u001b[0m\u001b[0;34m.\u001b[0m\u001b[0mfetch\u001b[0m\u001b[0;34m(\u001b[0m\u001b[0mindex\u001b[0m\u001b[0;34m)\u001b[0m  \u001b[0;31m# may raise StopIteration\u001b[0m\u001b[0;34m\u001b[0m\u001b[0;34m\u001b[0m\u001b[0m\n\u001b[0m\u001b[1;32m    476\u001b[0m         \u001b[0;32mif\u001b[0m \u001b[0mself\u001b[0m\u001b[0;34m.\u001b[0m\u001b[0m_pin_memory\u001b[0m\u001b[0;34m:\u001b[0m\u001b[0;34m\u001b[0m\u001b[0;34m\u001b[0m\u001b[0m\n\u001b[1;32m    477\u001b[0m             \u001b[0mdata\u001b[0m \u001b[0;34m=\u001b[0m \u001b[0m_utils\u001b[0m\u001b[0;34m.\u001b[0m\u001b[0mpin_memory\u001b[0m\u001b[0;34m.\u001b[0m\u001b[0mpin_memory\u001b[0m\u001b[0;34m(\u001b[0m\u001b[0mdata\u001b[0m\u001b[0;34m)\u001b[0m\u001b[0;34m\u001b[0m\u001b[0;34m\u001b[0m\u001b[0m\n",
            "\u001b[0;32m/usr/local/lib/python3.6/dist-packages/torch/utils/data/_utils/fetch.py\u001b[0m in \u001b[0;36mfetch\u001b[0;34m(self, possibly_batched_index)\u001b[0m\n\u001b[1;32m     42\u001b[0m     \u001b[0;32mdef\u001b[0m \u001b[0mfetch\u001b[0m\u001b[0;34m(\u001b[0m\u001b[0mself\u001b[0m\u001b[0;34m,\u001b[0m \u001b[0mpossibly_batched_index\u001b[0m\u001b[0;34m)\u001b[0m\u001b[0;34m:\u001b[0m\u001b[0;34m\u001b[0m\u001b[0;34m\u001b[0m\u001b[0m\n\u001b[1;32m     43\u001b[0m         \u001b[0;32mif\u001b[0m \u001b[0mself\u001b[0m\u001b[0;34m.\u001b[0m\u001b[0mauto_collation\u001b[0m\u001b[0;34m:\u001b[0m\u001b[0;34m\u001b[0m\u001b[0;34m\u001b[0m\u001b[0m\n\u001b[0;32m---> 44\u001b[0;31m             \u001b[0mdata\u001b[0m \u001b[0;34m=\u001b[0m \u001b[0;34m[\u001b[0m\u001b[0mself\u001b[0m\u001b[0;34m.\u001b[0m\u001b[0mdataset\u001b[0m\u001b[0;34m[\u001b[0m\u001b[0midx\u001b[0m\u001b[0;34m]\u001b[0m \u001b[0;32mfor\u001b[0m \u001b[0midx\u001b[0m \u001b[0;32min\u001b[0m \u001b[0mpossibly_batched_index\u001b[0m\u001b[0;34m]\u001b[0m\u001b[0;34m\u001b[0m\u001b[0;34m\u001b[0m\u001b[0m\n\u001b[0m\u001b[1;32m     45\u001b[0m         \u001b[0;32melse\u001b[0m\u001b[0;34m:\u001b[0m\u001b[0;34m\u001b[0m\u001b[0;34m\u001b[0m\u001b[0m\n\u001b[1;32m     46\u001b[0m             \u001b[0mdata\u001b[0m \u001b[0;34m=\u001b[0m \u001b[0mself\u001b[0m\u001b[0;34m.\u001b[0m\u001b[0mdataset\u001b[0m\u001b[0;34m[\u001b[0m\u001b[0mpossibly_batched_index\u001b[0m\u001b[0;34m]\u001b[0m\u001b[0;34m\u001b[0m\u001b[0;34m\u001b[0m\u001b[0m\n",
            "\u001b[0;32m/usr/local/lib/python3.6/dist-packages/torch/utils/data/_utils/fetch.py\u001b[0m in \u001b[0;36m<listcomp>\u001b[0;34m(.0)\u001b[0m\n\u001b[1;32m     42\u001b[0m     \u001b[0;32mdef\u001b[0m \u001b[0mfetch\u001b[0m\u001b[0;34m(\u001b[0m\u001b[0mself\u001b[0m\u001b[0;34m,\u001b[0m \u001b[0mpossibly_batched_index\u001b[0m\u001b[0;34m)\u001b[0m\u001b[0;34m:\u001b[0m\u001b[0;34m\u001b[0m\u001b[0;34m\u001b[0m\u001b[0m\n\u001b[1;32m     43\u001b[0m         \u001b[0;32mif\u001b[0m \u001b[0mself\u001b[0m\u001b[0;34m.\u001b[0m\u001b[0mauto_collation\u001b[0m\u001b[0;34m:\u001b[0m\u001b[0;34m\u001b[0m\u001b[0;34m\u001b[0m\u001b[0m\n\u001b[0;32m---> 44\u001b[0;31m             \u001b[0mdata\u001b[0m \u001b[0;34m=\u001b[0m \u001b[0;34m[\u001b[0m\u001b[0mself\u001b[0m\u001b[0;34m.\u001b[0m\u001b[0mdataset\u001b[0m\u001b[0;34m[\u001b[0m\u001b[0midx\u001b[0m\u001b[0;34m]\u001b[0m \u001b[0;32mfor\u001b[0m \u001b[0midx\u001b[0m \u001b[0;32min\u001b[0m \u001b[0mpossibly_batched_index\u001b[0m\u001b[0;34m]\u001b[0m\u001b[0;34m\u001b[0m\u001b[0;34m\u001b[0m\u001b[0m\n\u001b[0m\u001b[1;32m     45\u001b[0m         \u001b[0;32melse\u001b[0m\u001b[0;34m:\u001b[0m\u001b[0;34m\u001b[0m\u001b[0;34m\u001b[0m\u001b[0m\n\u001b[1;32m     46\u001b[0m             \u001b[0mdata\u001b[0m \u001b[0;34m=\u001b[0m \u001b[0mself\u001b[0m\u001b[0;34m.\u001b[0m\u001b[0mdataset\u001b[0m\u001b[0;34m[\u001b[0m\u001b[0mpossibly_batched_index\u001b[0m\u001b[0;34m]\u001b[0m\u001b[0;34m\u001b[0m\u001b[0;34m\u001b[0m\u001b[0m\n",
            "\u001b[0;32m/usr/local/lib/python3.6/dist-packages/torch/utils/data/dataset.py\u001b[0m in \u001b[0;36m__getitem__\u001b[0;34m(self, idx)\u001b[0m\n\u001b[1;32m    270\u001b[0m \u001b[0;34m\u001b[0m\u001b[0m\n\u001b[1;32m    271\u001b[0m     \u001b[0;32mdef\u001b[0m \u001b[0m__getitem__\u001b[0m\u001b[0;34m(\u001b[0m\u001b[0mself\u001b[0m\u001b[0;34m,\u001b[0m \u001b[0midx\u001b[0m\u001b[0;34m)\u001b[0m\u001b[0;34m:\u001b[0m\u001b[0;34m\u001b[0m\u001b[0;34m\u001b[0m\u001b[0m\n\u001b[0;32m--> 272\u001b[0;31m         \u001b[0;32mreturn\u001b[0m \u001b[0mself\u001b[0m\u001b[0;34m.\u001b[0m\u001b[0mdataset\u001b[0m\u001b[0;34m[\u001b[0m\u001b[0mself\u001b[0m\u001b[0;34m.\u001b[0m\u001b[0mindices\u001b[0m\u001b[0;34m[\u001b[0m\u001b[0midx\u001b[0m\u001b[0;34m]\u001b[0m\u001b[0;34m]\u001b[0m\u001b[0;34m\u001b[0m\u001b[0;34m\u001b[0m\u001b[0m\n\u001b[0m\u001b[1;32m    273\u001b[0m \u001b[0;34m\u001b[0m\u001b[0m\n\u001b[1;32m    274\u001b[0m     \u001b[0;32mdef\u001b[0m \u001b[0m__len__\u001b[0m\u001b[0;34m(\u001b[0m\u001b[0mself\u001b[0m\u001b[0;34m)\u001b[0m\u001b[0;34m:\u001b[0m\u001b[0;34m\u001b[0m\u001b[0;34m\u001b[0m\u001b[0m\n",
            "\u001b[0;32m<ipython-input-45-800671c11eb8>\u001b[0m in \u001b[0;36m__getitem__\u001b[0;34m(self, idx)\u001b[0m\n\u001b[1;32m     16\u001b[0m \u001b[0;34m\u001b[0m\u001b[0m\n\u001b[1;32m     17\u001b[0m   \u001b[0;32mdef\u001b[0m \u001b[0m__getitem__\u001b[0m\u001b[0;34m(\u001b[0m\u001b[0mself\u001b[0m\u001b[0;34m,\u001b[0m \u001b[0midx\u001b[0m\u001b[0;34m)\u001b[0m\u001b[0;34m:\u001b[0m\u001b[0;34m\u001b[0m\u001b[0;34m\u001b[0m\u001b[0m\n\u001b[0;32m---> 18\u001b[0;31m     \u001b[0mimg\u001b[0m \u001b[0;34m=\u001b[0m \u001b[0mself\u001b[0m\u001b[0;34m.\u001b[0m\u001b[0mimg_transform\u001b[0m\u001b[0;34m(\u001b[0m\u001b[0mImage\u001b[0m\u001b[0;34m.\u001b[0m\u001b[0mopen\u001b[0m\u001b[0;34m(\u001b[0m\u001b[0mself\u001b[0m\u001b[0;34m.\u001b[0m\u001b[0mimg_dir\u001b[0m \u001b[0;34m+\u001b[0m \u001b[0mstr\u001b[0m\u001b[0;34m(\u001b[0m\u001b[0mself\u001b[0m\u001b[0;34m.\u001b[0m\u001b[0mid\u001b[0m\u001b[0;34m[\u001b[0m\u001b[0midx\u001b[0m\u001b[0;34m]\u001b[0m\u001b[0;34m)\u001b[0m \u001b[0;34m+\u001b[0m \u001b[0;34m'.jpg'\u001b[0m\u001b[0;34m)\u001b[0m\u001b[0;34m.\u001b[0m\u001b[0mconvert\u001b[0m\u001b[0;34m(\u001b[0m\u001b[0;34m'RGB'\u001b[0m\u001b[0;34m)\u001b[0m\u001b[0;34m)\u001b[0m\u001b[0;34m\u001b[0m\u001b[0;34m\u001b[0m\u001b[0m\n\u001b[0m\u001b[1;32m     19\u001b[0m     \u001b[0;32mreturn\u001b[0m \u001b[0mimg\u001b[0m\u001b[0;34m,\u001b[0m \u001b[0mself\u001b[0m\u001b[0;34m.\u001b[0m\u001b[0mprice\u001b[0m\u001b[0;34m[\u001b[0m\u001b[0midx\u001b[0m\u001b[0;34m]\u001b[0m\u001b[0;34m,\u001b[0m \u001b[0mcategory_to_label\u001b[0m\u001b[0;34m[\u001b[0m\u001b[0mself\u001b[0m\u001b[0;34m.\u001b[0m\u001b[0mcategory\u001b[0m\u001b[0;34m[\u001b[0m\u001b[0midx\u001b[0m\u001b[0;34m]\u001b[0m\u001b[0;34m]\u001b[0m\u001b[0;34m,\u001b[0m \u001b[0mbrand_to_label\u001b[0m\u001b[0;34m[\u001b[0m\u001b[0mself\u001b[0m\u001b[0;34m.\u001b[0m\u001b[0mbrand\u001b[0m\u001b[0;34m[\u001b[0m\u001b[0midx\u001b[0m\u001b[0;34m]\u001b[0m\u001b[0;34m]\u001b[0m\u001b[0;34m\u001b[0m\u001b[0;34m\u001b[0m\u001b[0m\n\u001b[1;32m     20\u001b[0m \u001b[0;34m\u001b[0m\u001b[0m\n",
            "\u001b[0;32m/usr/local/lib/python3.6/dist-packages/PIL/Image.py\u001b[0m in \u001b[0;36mopen\u001b[0;34m(fp, mode)\u001b[0m\n\u001b[1;32m   2807\u001b[0m \u001b[0;34m\u001b[0m\u001b[0m\n\u001b[1;32m   2808\u001b[0m     \u001b[0;32mif\u001b[0m \u001b[0mfilename\u001b[0m\u001b[0;34m:\u001b[0m\u001b[0;34m\u001b[0m\u001b[0;34m\u001b[0m\u001b[0m\n\u001b[0;32m-> 2809\u001b[0;31m         \u001b[0mfp\u001b[0m \u001b[0;34m=\u001b[0m \u001b[0mbuiltins\u001b[0m\u001b[0;34m.\u001b[0m\u001b[0mopen\u001b[0m\u001b[0;34m(\u001b[0m\u001b[0mfilename\u001b[0m\u001b[0;34m,\u001b[0m \u001b[0;34m\"rb\"\u001b[0m\u001b[0;34m)\u001b[0m\u001b[0;34m\u001b[0m\u001b[0;34m\u001b[0m\u001b[0m\n\u001b[0m\u001b[1;32m   2810\u001b[0m         \u001b[0mexclusive_fp\u001b[0m \u001b[0;34m=\u001b[0m \u001b[0;32mTrue\u001b[0m\u001b[0;34m\u001b[0m\u001b[0;34m\u001b[0m\u001b[0m\n\u001b[1;32m   2811\u001b[0m \u001b[0;34m\u001b[0m\u001b[0m\n",
            "\u001b[0;31mKeyboardInterrupt\u001b[0m: "
          ]
        }
      ]
    },
    {
      "cell_type": "markdown",
      "metadata": {
        "id": "gj2f2EGzYvYP"
      },
      "source": [
        "## 評価"
      ]
    },
    {
      "cell_type": "markdown",
      "metadata": {
        "id": "Hule4oN-SXoZ"
      },
      "source": [
        "学習曲線"
      ]
    },
    {
      "cell_type": "code",
      "metadata": {
        "colab": {
          "base_uri": "https://localhost:8080/",
          "height": 279
        },
        "id": "U_BWziKsLLAO",
        "outputId": "1923d40d-f8ba-4ef4-a369-879a520be1ca"
      },
      "source": [
        "plt.figure()\n",
        "plt.xlabel('epoch')\n",
        "plt.ylabel('loss')\n",
        "p1 = plt.plot(running_train_losses, label='train')\n",
        "p2 = plt.plot(running_test_losses, label='test')\n",
        "plt.legend((p1[0], p2[0]), (\"train\", \"test\"))\n",
        "plt.show()"
      ],
      "execution_count": 51,
      "outputs": [
        {
          "output_type": "display_data",
          "data": {
            "image/png": "[encoded data removed]",
            "text/plain": [
              "<Figure size 432x288 with 1 Axes>"
            ]
          },
          "metadata": {
            "tags": [],
            "needs_background": "light"
          }
        }
      ]
    },
    {
      "cell_type": "code",
      "metadata": {
        "colab": {
          "base_uri": "https://localhost:8080/",
          "height": 379
        },
        "id": "c5EZy2OS6t09",
        "outputId": "54c0979a-5246-47b1-ff76-7d377ec560e4"
      },
      "source": [
        "price_error = 0\n",
        "\n",
        "model.eval()\n",
        "with torch.no_grad():\n",
        "  for image, price, category_label, brand_label in test_loader:\n",
        "\n",
        "    image = image.to(device)\n",
        "    price = price.view(test_batch_size, 1).to(device)\n",
        "    category = category.to(device)\n",
        "    brand = brand.to(device)\n",
        "\n",
        "    pred_price, pred_category, pred_brand = model(image)\n",
        "\n",
        "    price_error += (price-pred_price*price_div)*(price-pred_price*price_div)\n",
        "\n",
        "  price_error = math.sqrt(price_error/test_size)\n",
        "  print(price_error.item())"
      ],
      "execution_count": 119,
      "outputs": [
        {
          "output_type": "error",
          "ename": "KeyboardInterrupt",
          "evalue": "ignored",
          "traceback": [
            "\u001b[0;31m---------------------------------------------------------------------------\u001b[0m",
            "\u001b[0;31mKeyboardInterrupt\u001b[0m                         Traceback (most recent call last)",
            "\u001b[0;32m<ipython-input-119-749e030c1b91>\u001b[0m in \u001b[0;36m<module>\u001b[0;34m()\u001b[0m\n\u001b[1;32m      3\u001b[0m \u001b[0mmodel\u001b[0m\u001b[0;34m.\u001b[0m\u001b[0meval\u001b[0m\u001b[0;34m(\u001b[0m\u001b[0;34m)\u001b[0m\u001b[0;34m\u001b[0m\u001b[0;34m\u001b[0m\u001b[0m\n\u001b[1;32m      4\u001b[0m \u001b[0;32mwith\u001b[0m \u001b[0mtorch\u001b[0m\u001b[0;34m.\u001b[0m\u001b[0mno_grad\u001b[0m\u001b[0;34m(\u001b[0m\u001b[0;34m)\u001b[0m\u001b[0;34m:\u001b[0m\u001b[0;34m\u001b[0m\u001b[0;34m\u001b[0m\u001b[0m\n\u001b[0;32m----> 5\u001b[0;31m   \u001b[0;32mfor\u001b[0m \u001b[0mimage\u001b[0m\u001b[0;34m,\u001b[0m \u001b[0mprice\u001b[0m\u001b[0;34m,\u001b[0m \u001b[0mcategory_label\u001b[0m\u001b[0;34m,\u001b[0m \u001b[0mbrand_label\u001b[0m \u001b[0;32min\u001b[0m \u001b[0mtest_loader\u001b[0m\u001b[0;34m:\u001b[0m\u001b[0;34m\u001b[0m\u001b[0;34m\u001b[0m\u001b[0m\n\u001b[0m\u001b[1;32m      6\u001b[0m \u001b[0;34m\u001b[0m\u001b[0m\n\u001b[1;32m      7\u001b[0m     \u001b[0mimage\u001b[0m \u001b[0;34m=\u001b[0m \u001b[0mimage\u001b[0m\u001b[0;34m.\u001b[0m\u001b[0mto\u001b[0m\u001b[0;34m(\u001b[0m\u001b[0mdevice\u001b[0m\u001b[0;34m)\u001b[0m\u001b[0;34m\u001b[0m\u001b[0;34m\u001b[0m\u001b[0m\n",
            "\u001b[0;32m/usr/local/lib/python3.6/dist-packages/torch/utils/data/dataloader.py\u001b[0m in \u001b[0;36m__next__\u001b[0;34m(self)\u001b[0m\n\u001b[1;32m    433\u001b[0m         \u001b[0;32mif\u001b[0m \u001b[0mself\u001b[0m\u001b[0;34m.\u001b[0m\u001b[0m_sampler_iter\u001b[0m \u001b[0;32mis\u001b[0m \u001b[0;32mNone\u001b[0m\u001b[0;34m:\u001b[0m\u001b[0;34m\u001b[0m\u001b[0;34m\u001b[0m\u001b[0m\n\u001b[1;32m    434\u001b[0m             \u001b[0mself\u001b[0m\u001b[0;34m.\u001b[0m\u001b[0m_reset\u001b[0m\u001b[0;34m(\u001b[0m\u001b[0;34m)\u001b[0m\u001b[0;34m\u001b[0m\u001b[0;34m\u001b[0m\u001b[0m\n\u001b[0;32m--> 435\u001b[0;31m         \u001b[0mdata\u001b[0m \u001b[0;34m=\u001b[0m \u001b[0mself\u001b[0m\u001b[0;34m.\u001b[0m\u001b[0m_next_data\u001b[0m\u001b[0;34m(\u001b[0m\u001b[0;34m)\u001b[0m\u001b[0;34m\u001b[0m\u001b[0;34m\u001b[0m\u001b[0m\n\u001b[0m\u001b[1;32m    436\u001b[0m         \u001b[0mself\u001b[0m\u001b[0;34m.\u001b[0m\u001b[0m_num_yielded\u001b[0m \u001b[0;34m+=\u001b[0m \u001b[0;36m1\u001b[0m\u001b[0;34m\u001b[0m\u001b[0;34m\u001b[0m\u001b[0m\n\u001b[1;32m    437\u001b[0m         \u001b[0;32mif\u001b[0m \u001b[0mself\u001b[0m\u001b[0;34m.\u001b[0m\u001b[0m_dataset_kind\u001b[0m \u001b[0;34m==\u001b[0m \u001b[0m_DatasetKind\u001b[0m\u001b[0;34m.\u001b[0m\u001b[0mIterable\u001b[0m \u001b[0;32mand\u001b[0m\u001b[0;31m \u001b[0m\u001b[0;31m\\\u001b[0m\u001b[0;34m\u001b[0m\u001b[0;34m\u001b[0m\u001b[0m\n",
            "\u001b[0;32m/usr/local/lib/python3.6/dist-packages/torch/utils/data/dataloader.py\u001b[0m in \u001b[0;36m_next_data\u001b[0;34m(self)\u001b[0m\n\u001b[1;32m    473\u001b[0m     \u001b[0;32mdef\u001b[0m \u001b[0m_next_data\u001b[0m\u001b[0;34m(\u001b[0m\u001b[0mself\u001b[0m\u001b[0;34m)\u001b[0m\u001b[0;34m:\u001b[0m\u001b[0;34m\u001b[0m\u001b[0;34m\u001b[0m\u001b[0m\n\u001b[1;32m    474\u001b[0m         \u001b[0mindex\u001b[0m \u001b[0;34m=\u001b[0m \u001b[0mself\u001b[0m\u001b[0;34m.\u001b[0m\u001b[0m_next_index\u001b[0m\u001b[0;34m(\u001b[0m\u001b[0;34m)\u001b[0m  \u001b[0;31m# may raise StopIteration\u001b[0m\u001b[0;34m\u001b[0m\u001b[0;34m\u001b[0m\u001b[0m\n\u001b[0;32m--> 475\u001b[0;31m         \u001b[0mdata\u001b[0m \u001b[0;34m=\u001b[0m \u001b[0mself\u001b[0m\u001b[0;34m.\u001b[0m\u001b[0m_dataset_fetcher\u001b[0m\u001b[0;34m.\u001b[0m\u001b[0mfetch\u001b[0m\u001b[0;34m(\u001b[0m\u001b[0mindex\u001b[0m\u001b[0;34m)\u001b[0m  \u001b[0;31m# may raise StopIteration\u001b[0m\u001b[0;34m\u001b[0m\u001b[0;34m\u001b[0m\u001b[0m\n\u001b[0m\u001b[1;32m    476\u001b[0m         \u001b[0;32mif\u001b[0m \u001b[0mself\u001b[0m\u001b[0;34m.\u001b[0m\u001b[0m_pin_memory\u001b[0m\u001b[0;34m:\u001b[0m\u001b[0;34m\u001b[0m\u001b[0;34m\u001b[0m\u001b[0m\n\u001b[1;32m    477\u001b[0m             \u001b[0mdata\u001b[0m \u001b[0;34m=\u001b[0m \u001b[0m_utils\u001b[0m\u001b[0;34m.\u001b[0m\u001b[0mpin_memory\u001b[0m\u001b[0;34m.\u001b[0m\u001b[0mpin_memory\u001b[0m\u001b[0;34m(\u001b[0m\u001b[0mdata\u001b[0m\u001b[0;34m)\u001b[0m\u001b[0;34m\u001b[0m\u001b[0;34m\u001b[0m\u001b[0m\n",
            "\u001b[0;32m/usr/local/lib/python3.6/dist-packages/torch/utils/data/_utils/fetch.py\u001b[0m in \u001b[0;36mfetch\u001b[0;34m(self, possibly_batched_index)\u001b[0m\n\u001b[1;32m     42\u001b[0m     \u001b[0;32mdef\u001b[0m \u001b[0mfetch\u001b[0m\u001b[0;34m(\u001b[0m\u001b[0mself\u001b[0m\u001b[0;34m,\u001b[0m \u001b[0mpossibly_batched_index\u001b[0m\u001b[0;34m)\u001b[0m\u001b[0;34m:\u001b[0m\u001b[0;34m\u001b[0m\u001b[0;34m\u001b[0m\u001b[0m\n\u001b[1;32m     43\u001b[0m         \u001b[0;32mif\u001b[0m \u001b[0mself\u001b[0m\u001b[0;34m.\u001b[0m\u001b[0mauto_collation\u001b[0m\u001b[0;34m:\u001b[0m\u001b[0;34m\u001b[0m\u001b[0;34m\u001b[0m\u001b[0m\n\u001b[0;32m---> 44\u001b[0;31m             \u001b[0mdata\u001b[0m \u001b[0;34m=\u001b[0m \u001b[0;34m[\u001b[0m\u001b[0mself\u001b[0m\u001b[0;34m.\u001b[0m\u001b[0mdataset\u001b[0m\u001b[0;34m[\u001b[0m\u001b[0midx\u001b[0m\u001b[0;34m]\u001b[0m \u001b[0;32mfor\u001b[0m \u001b[0midx\u001b[0m \u001b[0;32min\u001b[0m \u001b[0mpossibly_batched_index\u001b[0m\u001b[0;34m]\u001b[0m\u001b[0;34m\u001b[0m\u001b[0;34m\u001b[0m\u001b[0m\n\u001b[0m\u001b[1;32m     45\u001b[0m         \u001b[0;32melse\u001b[0m\u001b[0;34m:\u001b[0m\u001b[0;34m\u001b[0m\u001b[0;34m\u001b[0m\u001b[0m\n\u001b[1;32m     46\u001b[0m             \u001b[0mdata\u001b[0m \u001b[0;34m=\u001b[0m \u001b[0mself\u001b[0m\u001b[0;34m.\u001b[0m\u001b[0mdataset\u001b[0m\u001b[0;34m[\u001b[0m\u001b[0mpossibly_batched_index\u001b[0m\u001b[0;34m]\u001b[0m\u001b[0;34m\u001b[0m\u001b[0;34m\u001b[0m\u001b[0m\n",
            "\u001b[0;32m/usr/local/lib/python3.6/dist-packages/torch/utils/data/_utils/fetch.py\u001b[0m in \u001b[0;36m<listcomp>\u001b[0;34m(.0)\u001b[0m\n\u001b[1;32m     42\u001b[0m     \u001b[0;32mdef\u001b[0m \u001b[0mfetch\u001b[0m\u001b[0;34m(\u001b[0m\u001b[0mself\u001b[0m\u001b[0;34m,\u001b[0m \u001b[0mpossibly_batched_index\u001b[0m\u001b[0;34m)\u001b[0m\u001b[0;34m:\u001b[0m\u001b[0;34m\u001b[0m\u001b[0;34m\u001b[0m\u001b[0m\n\u001b[1;32m     43\u001b[0m         \u001b[0;32mif\u001b[0m \u001b[0mself\u001b[0m\u001b[0;34m.\u001b[0m\u001b[0mauto_collation\u001b[0m\u001b[0;34m:\u001b[0m\u001b[0;34m\u001b[0m\u001b[0;34m\u001b[0m\u001b[0m\n\u001b[0;32m---> 44\u001b[0;31m             \u001b[0mdata\u001b[0m \u001b[0;34m=\u001b[0m \u001b[0;34m[\u001b[0m\u001b[0mself\u001b[0m\u001b[0;34m.\u001b[0m\u001b[0mdataset\u001b[0m\u001b[0;34m[\u001b[0m\u001b[0midx\u001b[0m\u001b[0;34m]\u001b[0m \u001b[0;32mfor\u001b[0m \u001b[0midx\u001b[0m \u001b[0;32min\u001b[0m \u001b[0mpossibly_batched_index\u001b[0m\u001b[0;34m]\u001b[0m\u001b[0;34m\u001b[0m\u001b[0;34m\u001b[0m\u001b[0m\n\u001b[0m\u001b[1;32m     45\u001b[0m         \u001b[0;32melse\u001b[0m\u001b[0;34m:\u001b[0m\u001b[0;34m\u001b[0m\u001b[0;34m\u001b[0m\u001b[0m\n\u001b[1;32m     46\u001b[0m             \u001b[0mdata\u001b[0m \u001b[0;34m=\u001b[0m \u001b[0mself\u001b[0m\u001b[0;34m.\u001b[0m\u001b[0mdataset\u001b[0m\u001b[0;34m[\u001b[0m\u001b[0mpossibly_batched_index\u001b[0m\u001b[0;34m]\u001b[0m\u001b[0;34m\u001b[0m\u001b[0;34m\u001b[0m\u001b[0m\n",
            "\u001b[0;32m/usr/local/lib/python3.6/dist-packages/torch/utils/data/dataset.py\u001b[0m in \u001b[0;36m__getitem__\u001b[0;34m(self, idx)\u001b[0m\n\u001b[1;32m    270\u001b[0m \u001b[0;34m\u001b[0m\u001b[0m\n\u001b[1;32m    271\u001b[0m     \u001b[0;32mdef\u001b[0m \u001b[0m__getitem__\u001b[0m\u001b[0;34m(\u001b[0m\u001b[0mself\u001b[0m\u001b[0;34m,\u001b[0m \u001b[0midx\u001b[0m\u001b[0;34m)\u001b[0m\u001b[0;34m:\u001b[0m\u001b[0;34m\u001b[0m\u001b[0;34m\u001b[0m\u001b[0m\n\u001b[0;32m--> 272\u001b[0;31m         \u001b[0;32mreturn\u001b[0m \u001b[0mself\u001b[0m\u001b[0;34m.\u001b[0m\u001b[0mdataset\u001b[0m\u001b[0;34m[\u001b[0m\u001b[0mself\u001b[0m\u001b[0;34m.\u001b[0m\u001b[0mindices\u001b[0m\u001b[0;34m[\u001b[0m\u001b[0midx\u001b[0m\u001b[0;34m]\u001b[0m\u001b[0;34m]\u001b[0m\u001b[0;34m\u001b[0m\u001b[0;34m\u001b[0m\u001b[0m\n\u001b[0m\u001b[1;32m    273\u001b[0m \u001b[0;34m\u001b[0m\u001b[0m\n\u001b[1;32m    274\u001b[0m     \u001b[0;32mdef\u001b[0m \u001b[0m__len__\u001b[0m\u001b[0;34m(\u001b[0m\u001b[0mself\u001b[0m\u001b[0;34m)\u001b[0m\u001b[0;34m:\u001b[0m\u001b[0;34m\u001b[0m\u001b[0;34m\u001b[0m\u001b[0m\n",
            "\u001b[0;32m<ipython-input-45-800671c11eb8>\u001b[0m in \u001b[0;36m__getitem__\u001b[0;34m(self, idx)\u001b[0m\n\u001b[1;32m     16\u001b[0m \u001b[0;34m\u001b[0m\u001b[0m\n\u001b[1;32m     17\u001b[0m   \u001b[0;32mdef\u001b[0m \u001b[0m__getitem__\u001b[0m\u001b[0;34m(\u001b[0m\u001b[0mself\u001b[0m\u001b[0;34m,\u001b[0m \u001b[0midx\u001b[0m\u001b[0;34m)\u001b[0m\u001b[0;34m:\u001b[0m\u001b[0;34m\u001b[0m\u001b[0;34m\u001b[0m\u001b[0m\n\u001b[0;32m---> 18\u001b[0;31m     \u001b[0mimg\u001b[0m \u001b[0;34m=\u001b[0m \u001b[0mself\u001b[0m\u001b[0;34m.\u001b[0m\u001b[0mimg_transform\u001b[0m\u001b[0;34m(\u001b[0m\u001b[0mImage\u001b[0m\u001b[0;34m.\u001b[0m\u001b[0mopen\u001b[0m\u001b[0;34m(\u001b[0m\u001b[0mself\u001b[0m\u001b[0;34m.\u001b[0m\u001b[0mimg_dir\u001b[0m \u001b[0;34m+\u001b[0m \u001b[0mstr\u001b[0m\u001b[0;34m(\u001b[0m\u001b[0mself\u001b[0m\u001b[0;34m.\u001b[0m\u001b[0mid\u001b[0m\u001b[0;34m[\u001b[0m\u001b[0midx\u001b[0m\u001b[0;34m]\u001b[0m\u001b[0;34m)\u001b[0m \u001b[0;34m+\u001b[0m \u001b[0;34m'.jpg'\u001b[0m\u001b[0;34m)\u001b[0m\u001b[0;34m.\u001b[0m\u001b[0mconvert\u001b[0m\u001b[0;34m(\u001b[0m\u001b[0;34m'RGB'\u001b[0m\u001b[0;34m)\u001b[0m\u001b[0;34m)\u001b[0m\u001b[0;34m\u001b[0m\u001b[0;34m\u001b[0m\u001b[0m\n\u001b[0m\u001b[1;32m     19\u001b[0m     \u001b[0;32mreturn\u001b[0m \u001b[0mimg\u001b[0m\u001b[0;34m,\u001b[0m \u001b[0mself\u001b[0m\u001b[0;34m.\u001b[0m\u001b[0mprice\u001b[0m\u001b[0;34m[\u001b[0m\u001b[0midx\u001b[0m\u001b[0;34m]\u001b[0m\u001b[0;34m,\u001b[0m \u001b[0mcategory_to_label\u001b[0m\u001b[0;34m[\u001b[0m\u001b[0mself\u001b[0m\u001b[0;34m.\u001b[0m\u001b[0mcategory\u001b[0m\u001b[0;34m[\u001b[0m\u001b[0midx\u001b[0m\u001b[0;34m]\u001b[0m\u001b[0;34m]\u001b[0m\u001b[0;34m,\u001b[0m \u001b[0mbrand_to_label\u001b[0m\u001b[0;34m[\u001b[0m\u001b[0mself\u001b[0m\u001b[0;34m.\u001b[0m\u001b[0mbrand\u001b[0m\u001b[0;34m[\u001b[0m\u001b[0midx\u001b[0m\u001b[0;34m]\u001b[0m\u001b[0;34m]\u001b[0m\u001b[0;34m\u001b[0m\u001b[0;34m\u001b[0m\u001b[0m\n\u001b[1;32m     20\u001b[0m \u001b[0;34m\u001b[0m\u001b[0m\n",
            "\u001b[0;32m/usr/local/lib/python3.6/dist-packages/PIL/Image.py\u001b[0m in \u001b[0;36mopen\u001b[0;34m(fp, mode)\u001b[0m\n\u001b[1;32m   2816\u001b[0m         \u001b[0mexclusive_fp\u001b[0m \u001b[0;34m=\u001b[0m \u001b[0;32mTrue\u001b[0m\u001b[0;34m\u001b[0m\u001b[0;34m\u001b[0m\u001b[0m\n\u001b[1;32m   2817\u001b[0m \u001b[0;34m\u001b[0m\u001b[0m\n\u001b[0;32m-> 2818\u001b[0;31m     \u001b[0mprefix\u001b[0m \u001b[0;34m=\u001b[0m \u001b[0mfp\u001b[0m\u001b[0;34m.\u001b[0m\u001b[0mread\u001b[0m\u001b[0;34m(\u001b[0m\u001b[0;36m16\u001b[0m\u001b[0;34m)\u001b[0m\u001b[0;34m\u001b[0m\u001b[0;34m\u001b[0m\u001b[0m\n\u001b[0m\u001b[1;32m   2819\u001b[0m \u001b[0;34m\u001b[0m\u001b[0m\n\u001b[1;32m   2820\u001b[0m     \u001b[0mpreinit\u001b[0m\u001b[0;34m(\u001b[0m\u001b[0;34m)\u001b[0m\u001b[0;34m\u001b[0m\u001b[0;34m\u001b[0m\u001b[0m\n",
            "\u001b[0;31mKeyboardInterrupt\u001b[0m: "
          ]
        }
      ]
    },
    {
      "cell_type": "code",
      "metadata": {
        "colab": {
          "base_uri": "https://localhost:8080/"
        },
        "id": "8eYP4mC87zrO",
        "outputId": "ad91b475-13e9-435a-b004-45bccc78d354"
      },
      "source": [
        "x = nn.MSELoss()\n",
        "input = torch.randn(3, 1)\n",
        "print(input)\n",
        "target = torch.randn(3, 1)\n",
        "print(target)\n",
        "output = x(input, target)\n",
        "print(output)"
      ],
      "execution_count": 114,
      "outputs": [
        {
          "output_type": "stream",
          "text": [
            "tensor([[-0.1007],\n",
            "        [-0.5077],\n",
            "        [ 0.1106]])\n",
            "tensor([[-0.2910],\n",
            "        [ 0.8666],\n",
            "        [-1.2814]])\n",
            "tensor(1.2876)\n"
          ],
          "name": "stdout"
        }
      ]
    },
    {
      "cell_type": "markdown",
      "metadata": {
        "id": "8Ghp4SZCm85F"
      },
      "source": [
        "具体例確認"
      ]
    },
    {
      "cell_type": "code",
      "metadata": {
        "colab": {
          "base_uri": "https://localhost:8080/",
          "height": 320
        },
        "id": "jXAdSYVvm9VR",
        "outputId": "a9c9c728-94fa-4186-f789-016203787b66"
      },
      "source": [
        "index = random.randint(0, test_size-1)\n",
        "image, price, category_label, brand_label = test_dataset[index]\n",
        "image = image.reshape(1, 3, 256, 256).to(device)\n",
        "\n",
        "model.eval()\n",
        "with torch.no_grad():\n",
        "    pred_price, pred_category, pred_brand = model(image)\n",
        "\n",
        "image = image.reshape(3, 256, 256)\n",
        "image = image.cpu()\n",
        "pred_category = pred_category.cpu()\n",
        "pred_brand = pred_brand.cpu()\n",
        "\n",
        "pred_category_label = np.argmax(pred_category.numpy().copy())\n",
        "pred_brand_label = np.argmax(pred_brand.numpy().copy())\n",
        "\n",
        "plt.imshow(np.asarray(image.numpy().copy().transpose(1, 2, 0)))\n",
        "\n",
        "print(\"predicted price : {}, true price : {}\".format(pred_price.item()*price_div, price))\n",
        "print(\"predicted category : {}, true category : {}\".format(label_to_category[pred_category_label], label_to_category[category_label]))\n",
        "print(\"predicted brand : {}, true brand : {}\".format(label_to_brand[pred_brand_label], label_to_brand[brand_label]))"
      ],
      "execution_count": 111,
      "outputs": [
        {
          "output_type": "stream",
          "text": [
            "predicted price : 4244.0009117126465, true price : 6490\n",
            "predicted category : パンプス, true category : パンプス\n",
            "predicted brand : その他, true brand : ORiental TRaffic\n"
          ],
          "name": "stdout"
        },
        {
          "output_type": "display_data",
          "data": {
            "image/png": "[encoded data removed]",
            "text/plain": [
              "<Figure size 432x288 with 1 Axes>"
            ]
          },
          "metadata": {
            "tags": [],
            "needs_background": "light"
          }
        }
      ]
    },
    {
      "cell_type": "markdown",
      "metadata": {
        "id": "FywiEYeqOt4Y"
      },
      "source": [
        "## パラメータの保存"
      ]
    },
    {
      "cell_type": "code",
      "metadata": {
        "id": "UoKwxXfgO1DD"
      },
      "source": [
        "torch.save(model.state_dict(), '/content/drive/MyDrive/deep/params/multi.pth')"
      ],
      "execution_count": 52,
      "outputs": []
    }
  ]
}