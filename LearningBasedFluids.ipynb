{
  "nbformat": 4,
  "nbformat_minor": 0,
  "metadata": {
    "colab": {
      "name": "LearningBasedFluids.ipynb",
      "provenance": [],
      "mount_file_id": "16Xzv4ZiebTVDXGk42mqoWm02I5wbqEky",
      "authorship_tag": "ABX9TyOEGzhhR7XWXW3MykoqE/3r",
      "include_colab_link": true
    },
    "kernelspec": {
      "name": "python3",
      "display_name": "Python 3"
    },
    "language_info": {
      "name": "python"
    }
  },
  "cells": [
    {
      "cell_type": "markdown",
      "metadata": {
        "id": "view-in-github",
        "colab_type": "text"
      },
      "source": [
        "<a href=\"https://colab.research.google.com/github/yukilost/googlecolab/blob/main/LearningBasedFluids.ipynb\" target=\"_parent\"><img src=\"https://colab.research.google.com/assets/colab-badge.svg\" alt=\"Open In Colab\"/></a>"
      ]
    },
    {
      "cell_type": "markdown",
      "metadata": {
        "id": "3J45gdjXRstA"
      },
      "source": [
        "<h1>GraphNeruralNetworkを用いた非圧縮性流体の教師なし学習</h1>"
      ]
    },
    {
      "cell_type": "markdown",
      "metadata": {
        "id": "2oeoePJYi5LW"
      },
      "source": [
        "TODO\n",
        "- Encoder\n",
        "- Decoder\n",
        "- Processor\n",
        "- NNS\n",
        "- Train\n",
        "- Valid\n",
        "- Test\n",
        "- Refactor"
      ]
    },
    {
      "cell_type": "markdown",
      "metadata": {
        "id": "IMRdlYPJTyPZ"
      },
      "source": [
        "MEMO\n",
        "- 基本的にはlistを使用\n",
        "- ベクトル演算などはndarray"
      ]
    },
    {
      "cell_type": "markdown",
      "metadata": {
        "id": "xNE79n9rQnIy"
      },
      "source": [
        "#初期設定"
      ]
    },
    {
      "cell_type": "markdown",
      "metadata": {
        "id": "ZUi44cJiRH1H"
      },
      "source": [
        "##ライブラリのインポート"
      ]
    },
    {
      "cell_type": "code",
      "metadata": {
        "id": "5E29pODaRHBq"
      },
      "source": [
        "from google.colab import drive\n",
        "import pandas as pd\n",
        "import numpy as np\n",
        "from sklearn import neighbors\n",
        "import torch"
      ],
      "execution_count": 1,
      "outputs": []
    },
    {
      "cell_type": "markdown",
      "metadata": {
        "id": "8MZTzd_BSNjH"
      },
      "source": [
        "##GoogleDriveのマウント"
      ]
    },
    {
      "cell_type": "code",
      "metadata": {
        "colab": {
          "base_uri": "https://localhost:8080/"
        },
        "id": "Mz6V5pGYSRwh",
        "outputId": "67c6661d-1011-481b-e1c0-3c02240d458b"
      },
      "source": [
        "drive.mount(\"/content/drive\")"
      ],
      "execution_count": 8,
      "outputs": [
        {
          "output_type": "stream",
          "text": [
            "Mounted at /content/drive\n"
          ],
          "name": "stdout"
        }
      ]
    },
    {
      "cell_type": "markdown",
      "metadata": {
        "id": "eX_Oc5uYSfO5"
      },
      "source": [
        "##デバイス設定"
      ]
    },
    {
      "cell_type": "code",
      "metadata": {
        "colab": {
          "base_uri": "https://localhost:8080/"
        },
        "id": "qFul_1cfSj0c",
        "outputId": "fd7d1b7a-7a8f-4fd3-a34a-a2dde533011d"
      },
      "source": [
        "device = torch.device(\"cuda\") if torch.cuda.is_available() else torch.device(\"cpu\")\n",
        "print(device)"
      ],
      "execution_count": 4,
      "outputs": [
        {
          "output_type": "stream",
          "text": [
            "cpu\n"
          ],
          "name": "stdout"
        }
      ]
    },
    {
      "cell_type": "markdown",
      "metadata": {
        "id": "ejrbv6B7TPx_"
      },
      "source": [
        "##定数"
      ]
    },
    {
      "cell_type": "markdown",
      "metadata": {
        "id": "0BrmR_G9Tb7a"
      },
      "source": [
        ""
      ]
    },
    {
      "cell_type": "markdown",
      "metadata": {
        "id": "1k9m-94ARO22"
      },
      "source": [
        "#データセット"
      ]
    },
    {
      "cell_type": "code",
      "metadata": {
        "colab": {
          "base_uri": "https://localhost:8080/"
        },
        "id": "UsjCUqwznOzY",
        "outputId": "18e6a716-99d0-492a-b511-b0780df26df7"
      },
      "source": [
        "!unzip /content/drive/MyDrive/LearningBasedFluids/data.zip -d /content/graph_neural_network/"
      ],
      "execution_count": 9,
      "outputs": [
        {
          "output_type": "stream",
          "text": [
            "Archive:  /content/drive/MyDrive/LearningBasedFluids/data.zip\n",
            "   creating: /content/graph_neural_network/data/\n",
            "   creating: /content/graph_neural_network/data/20/\n",
            "  inflating: /content/graph_neural_network/data/20/20.json  \n",
            "  inflating: /content/graph_neural_network/data/20/20.csv  \n",
            "   creating: /content/graph_neural_network/data/18/\n",
            "  inflating: /content/graph_neural_network/data/18/18.csv  \n",
            "  inflating: /content/graph_neural_network/data/18/18.json  \n",
            "   creating: /content/graph_neural_network/data/27/\n",
            "  inflating: /content/graph_neural_network/data/27/27.json  \n",
            "  inflating: /content/graph_neural_network/data/27/27.csv  \n",
            "   creating: /content/graph_neural_network/data/9/\n",
            "  inflating: /content/graph_neural_network/data/9/9.csv  \n",
            "  inflating: /content/graph_neural_network/data/9/9.json  \n",
            "   creating: /content/graph_neural_network/data/11/\n",
            "  inflating: /content/graph_neural_network/data/11/11.json  \n",
            "  inflating: /content/graph_neural_network/data/11/11.csv  \n",
            "   creating: /content/graph_neural_network/data/7/\n",
            "  inflating: /content/graph_neural_network/data/7/7.csv  \n",
            "  inflating: /content/graph_neural_network/data/7/7.json  \n",
            "   creating: /content/graph_neural_network/data/29/\n",
            "  inflating: /content/graph_neural_network/data/29/29.csv  \n",
            "  inflating: /content/graph_neural_network/data/29/29.json  \n",
            "   creating: /content/graph_neural_network/data/16/\n",
            "  inflating: /content/graph_neural_network/data/16/16.json  \n",
            "  inflating: /content/graph_neural_network/data/16/16.csv  \n",
            "   creating: /content/graph_neural_network/data/6/\n",
            "  inflating: /content/graph_neural_network/data/6/6.csv  \n",
            "  inflating: /content/graph_neural_network/data/6/6.json  \n",
            "   creating: /content/graph_neural_network/data/28/\n",
            "  inflating: /content/graph_neural_network/data/28/28.json  \n",
            "  inflating: /content/graph_neural_network/data/28/28.csv  \n",
            "   creating: /content/graph_neural_network/data/17/\n",
            "  inflating: /content/graph_neural_network/data/17/17.json  \n",
            "  inflating: /content/graph_neural_network/data/17/17.csv  \n",
            "   creating: /content/graph_neural_network/data/1/\n",
            "  inflating: /content/graph_neural_network/data/1/1.csv  \n",
            "  inflating: /content/graph_neural_network/data/1/1.json  \n",
            "   creating: /content/graph_neural_network/data/10/\n",
            "  inflating: /content/graph_neural_network/data/10/10.json  \n",
            "  inflating: /content/graph_neural_network/data/10/10.csv  \n",
            "   creating: /content/graph_neural_network/data/19/\n",
            "  inflating: /content/graph_neural_network/data/19/19.csv  \n",
            "  inflating: /content/graph_neural_network/data/19/19.json  \n",
            "   creating: /content/graph_neural_network/data/26/\n",
            "  inflating: /content/graph_neural_network/data/26/26.json  \n",
            "  inflating: /content/graph_neural_network/data/26/26.csv  \n",
            "   creating: /content/graph_neural_network/data/8/\n",
            "  inflating: /content/graph_neural_network/data/8/8.json  \n",
            "  inflating: /content/graph_neural_network/data/8/8.csv  \n",
            "   creating: /content/graph_neural_network/data/21/\n",
            "  inflating: /content/graph_neural_network/data/21/21.json  \n",
            "  inflating: /content/graph_neural_network/data/21/21.csv  \n",
            "   creating: /content/graph_neural_network/data/30/\n",
            "  inflating: /content/graph_neural_network/data/30/30.json  \n",
            "  inflating: /content/graph_neural_network/data/30/30.csv  \n",
            "   creating: /content/graph_neural_network/data/24/\n",
            "  inflating: /content/graph_neural_network/data/24/24.csv  \n",
            "  inflating: /content/graph_neural_network/data/24/24.json  \n",
            "   creating: /content/graph_neural_network/data/23/\n",
            "  inflating: /content/graph_neural_network/data/23/23.csv  \n",
            "  inflating: /content/graph_neural_network/data/23/23.json  \n",
            "   creating: /content/graph_neural_network/data/4/\n",
            "  inflating: /content/graph_neural_network/data/4/4.csv  \n",
            "  inflating: /content/graph_neural_network/data/4/4.json  \n",
            "   creating: /content/graph_neural_network/data/15/\n",
            "  inflating: /content/graph_neural_network/data/15/15.csv  \n",
            "  inflating: /content/graph_neural_network/data/15/15.json  \n",
            "   creating: /content/graph_neural_network/data/3/\n",
            "  inflating: /content/graph_neural_network/data/3/3.csv  \n",
            "  inflating: /content/graph_neural_network/data/3/3.json  \n",
            "   creating: /content/graph_neural_network/data/12/\n",
            "  inflating: /content/graph_neural_network/data/12/12.json  \n",
            "  inflating: /content/graph_neural_network/data/12/12.csv  \n",
            "   creating: /content/graph_neural_network/data/2/\n",
            "  inflating: /content/graph_neural_network/data/2/2.csv  \n",
            "  inflating: /content/graph_neural_network/data/2/2.json  \n",
            "   creating: /content/graph_neural_network/data/13/\n",
            "  inflating: /content/graph_neural_network/data/13/13.json  \n",
            "  inflating: /content/graph_neural_network/data/13/13.csv  \n",
            "   creating: /content/graph_neural_network/data/5/\n",
            "  inflating: /content/graph_neural_network/data/5/5.csv  \n",
            "  inflating: /content/graph_neural_network/data/5/5.json  \n",
            "   creating: /content/graph_neural_network/data/14/\n",
            "  inflating: /content/graph_neural_network/data/14/14.csv  \n",
            "  inflating: /content/graph_neural_network/data/14/14.json  \n",
            "   creating: /content/graph_neural_network/data/22/\n",
            "  inflating: /content/graph_neural_network/data/22/22.csv  \n",
            "  inflating: /content/graph_neural_network/data/22/22.json  \n",
            "   creating: /content/graph_neural_network/data/25/\n",
            "  inflating: /content/graph_neural_network/data/25/25.csv  \n",
            "  inflating: /content/graph_neural_network/data/25/25.json  \n"
          ],
          "name": "stdout"
        }
      ]
    },
    {
      "cell_type": "code",
      "metadata": {
        "colab": {
          "base_uri": "https://localhost:8080/",
          "height": 419
        },
        "id": "Ed-q2pmgQ2qr",
        "outputId": "31dbfd30-60d8-4655-aa2c-7ded2183210e"
      },
      "source": [
        "df = pd.read_csv(\"graph_neural_network/data/1/1.csv\")\n",
        "df"
      ],
      "execution_count": 10,
      "outputs": [
        {
          "output_type": "execute_result",
          "data": {
            "text/html": [
              "<div>\n",
              "<style scoped>\n",
              "    .dataframe tbody tr th:only-of-type {\n",
              "        vertical-align: middle;\n",
              "    }\n",
              "\n",
              "    .dataframe tbody tr th {\n",
              "        vertical-align: top;\n",
              "    }\n",
              "\n",
              "    .dataframe thead th {\n",
              "        text-align: right;\n",
              "    }\n",
              "</style>\n",
              "<table border=\"1\" class=\"dataframe\">\n",
              "  <thead>\n",
              "    <tr style=\"text-align: right;\">\n",
              "      <th></th>\n",
              "      <th>idx</th>\n",
              "      <th>timestep</th>\n",
              "      <th>label</th>\n",
              "      <th>volume</th>\n",
              "      <th>mass</th>\n",
              "      <th>density</th>\n",
              "      <th>position.x</th>\n",
              "      <th>position.y</th>\n",
              "      <th>position.z</th>\n",
              "      <th>velocity.x</th>\n",
              "      <th>velocity.y</th>\n",
              "      <th>velocity.z</th>\n",
              "    </tr>\n",
              "  </thead>\n",
              "  <tbody>\n",
              "    <tr>\n",
              "      <th>0</th>\n",
              "      <td>0</td>\n",
              "      <td>1</td>\n",
              "      <td>0</td>\n",
              "      <td>0.000065</td>\n",
              "      <td>0.062089</td>\n",
              "      <td>899.017</td>\n",
              "      <td>0.017109</td>\n",
              "      <td>0.017109</td>\n",
              "      <td>0.017109</td>\n",
              "      <td>0.000000</td>\n",
              "      <td>0.000000</td>\n",
              "      <td>0.000000</td>\n",
              "    </tr>\n",
              "    <tr>\n",
              "      <th>1</th>\n",
              "      <td>1</td>\n",
              "      <td>1</td>\n",
              "      <td>0</td>\n",
              "      <td>0.000056</td>\n",
              "      <td>0.053663</td>\n",
              "      <td>974.240</td>\n",
              "      <td>0.017109</td>\n",
              "      <td>0.017109</td>\n",
              "      <td>0.051329</td>\n",
              "      <td>0.000000</td>\n",
              "      <td>0.000000</td>\n",
              "      <td>0.000000</td>\n",
              "    </tr>\n",
              "    <tr>\n",
              "      <th>2</th>\n",
              "      <td>2</td>\n",
              "      <td>1</td>\n",
              "      <td>0</td>\n",
              "      <td>0.000056</td>\n",
              "      <td>0.053663</td>\n",
              "      <td>957.703</td>\n",
              "      <td>0.017109</td>\n",
              "      <td>0.017109</td>\n",
              "      <td>0.085548</td>\n",
              "      <td>0.000000</td>\n",
              "      <td>0.000000</td>\n",
              "      <td>0.000000</td>\n",
              "    </tr>\n",
              "    <tr>\n",
              "      <th>3</th>\n",
              "      <td>3</td>\n",
              "      <td>1</td>\n",
              "      <td>0</td>\n",
              "      <td>0.000056</td>\n",
              "      <td>0.053663</td>\n",
              "      <td>957.957</td>\n",
              "      <td>0.017109</td>\n",
              "      <td>0.017109</td>\n",
              "      <td>0.119767</td>\n",
              "      <td>0.000000</td>\n",
              "      <td>0.000000</td>\n",
              "      <td>0.000000</td>\n",
              "    </tr>\n",
              "    <tr>\n",
              "      <th>4</th>\n",
              "      <td>4</td>\n",
              "      <td>1</td>\n",
              "      <td>0</td>\n",
              "      <td>0.000056</td>\n",
              "      <td>0.053663</td>\n",
              "      <td>957.957</td>\n",
              "      <td>0.017109</td>\n",
              "      <td>0.017109</td>\n",
              "      <td>0.153986</td>\n",
              "      <td>0.000000</td>\n",
              "      <td>0.000000</td>\n",
              "      <td>0.000000</td>\n",
              "    </tr>\n",
              "    <tr>\n",
              "      <th>...</th>\n",
              "      <td>...</td>\n",
              "      <td>...</td>\n",
              "      <td>...</td>\n",
              "      <td>...</td>\n",
              "      <td>...</td>\n",
              "      <td>...</td>\n",
              "      <td>...</td>\n",
              "      <td>...</td>\n",
              "      <td>...</td>\n",
              "      <td>...</td>\n",
              "      <td>...</td>\n",
              "      <td>...</td>\n",
              "    </tr>\n",
              "    <tr>\n",
              "      <th>791995</th>\n",
              "      <td>3163</td>\n",
              "      <td>250</td>\n",
              "      <td>1</td>\n",
              "      <td>0.000042</td>\n",
              "      <td>0.040000</td>\n",
              "      <td>1028.830</td>\n",
              "      <td>0.608688</td>\n",
              "      <td>0.085820</td>\n",
              "      <td>0.351352</td>\n",
              "      <td>0.042495</td>\n",
              "      <td>0.019862</td>\n",
              "      <td>0.054630</td>\n",
              "    </tr>\n",
              "    <tr>\n",
              "      <th>791996</th>\n",
              "      <td>3164</td>\n",
              "      <td>250</td>\n",
              "      <td>1</td>\n",
              "      <td>0.000042</td>\n",
              "      <td>0.040000</td>\n",
              "      <td>956.616</td>\n",
              "      <td>0.599913</td>\n",
              "      <td>0.119947</td>\n",
              "      <td>0.355292</td>\n",
              "      <td>-0.028329</td>\n",
              "      <td>0.028179</td>\n",
              "      <td>0.050579</td>\n",
              "    </tr>\n",
              "    <tr>\n",
              "      <th>791997</th>\n",
              "      <td>3165</td>\n",
              "      <td>250</td>\n",
              "      <td>1</td>\n",
              "      <td>0.000042</td>\n",
              "      <td>0.040000</td>\n",
              "      <td>1085.280</td>\n",
              "      <td>0.575361</td>\n",
              "      <td>0.051333</td>\n",
              "      <td>0.549272</td>\n",
              "      <td>0.041591</td>\n",
              "      <td>-0.000683</td>\n",
              "      <td>0.025245</td>\n",
              "    </tr>\n",
              "    <tr>\n",
              "      <th>791998</th>\n",
              "      <td>3166</td>\n",
              "      <td>250</td>\n",
              "      <td>1</td>\n",
              "      <td>0.000042</td>\n",
              "      <td>0.040000</td>\n",
              "      <td>970.343</td>\n",
              "      <td>0.562462</td>\n",
              "      <td>0.116581</td>\n",
              "      <td>0.490510</td>\n",
              "      <td>0.054284</td>\n",
              "      <td>0.032399</td>\n",
              "      <td>0.002483</td>\n",
              "    </tr>\n",
              "    <tr>\n",
              "      <th>791999</th>\n",
              "      <td>3167</td>\n",
              "      <td>250</td>\n",
              "      <td>1</td>\n",
              "      <td>0.000042</td>\n",
              "      <td>0.040000</td>\n",
              "      <td>1031.040</td>\n",
              "      <td>0.598868</td>\n",
              "      <td>0.084078</td>\n",
              "      <td>0.485884</td>\n",
              "      <td>-0.022252</td>\n",
              "      <td>0.025656</td>\n",
              "      <td>0.061458</td>\n",
              "    </tr>\n",
              "  </tbody>\n",
              "</table>\n",
              "<p>792000 rows × 12 columns</p>\n",
              "</div>"
            ],
            "text/plain": [
              "         idx  timestep  label  ...  velocity.x  velocity.y  velocity.z\n",
              "0          0         1      0  ...    0.000000    0.000000    0.000000\n",
              "1          1         1      0  ...    0.000000    0.000000    0.000000\n",
              "2          2         1      0  ...    0.000000    0.000000    0.000000\n",
              "3          3         1      0  ...    0.000000    0.000000    0.000000\n",
              "4          4         1      0  ...    0.000000    0.000000    0.000000\n",
              "...      ...       ...    ...  ...         ...         ...         ...\n",
              "791995  3163       250      1  ...    0.042495    0.019862    0.054630\n",
              "791996  3164       250      1  ...   -0.028329    0.028179    0.050579\n",
              "791997  3165       250      1  ...    0.041591   -0.000683    0.025245\n",
              "791998  3166       250      1  ...    0.054284    0.032399    0.002483\n",
              "791999  3167       250      1  ...   -0.022252    0.025656    0.061458\n",
              "\n",
              "[792000 rows x 12 columns]"
            ]
          },
          "metadata": {
            "tags": []
          },
          "execution_count": 10
        }
      ]
    },
    {
      "cell_type": "code",
      "metadata": {
        "colab": {
          "base_uri": "https://localhost:8080/",
          "height": 1000
        },
        "id": "c1u4WeOHUUDN",
        "outputId": "26a84a08-f612-4d3e-eb5a-e32910d012e0"
      },
      "source": [
        "config = pd.read_json(\"graph_neural_network/data/1/1.json\")\n",
        "config"
      ],
      "execution_count": 17,
      "outputs": [
        {
          "output_type": "execute_result",
          "data": {
            "text/html": [
              "<div>\n",
              "<style scoped>\n",
              "    .dataframe tbody tr th:only-of-type {\n",
              "        vertical-align: middle;\n",
              "    }\n",
              "\n",
              "    .dataframe tbody tr th {\n",
              "        vertical-align: top;\n",
              "    }\n",
              "\n",
              "    .dataframe thead th {\n",
              "        text-align: right;\n",
              "    }\n",
              "</style>\n",
              "<table border=\"1\" class=\"dataframe\">\n",
              "  <thead>\n",
              "    <tr style=\"text-align: right;\">\n",
              "      <th></th>\n",
              "      <th>Camera</th>\n",
              "      <th>Light</th>\n",
              "      <th>OpenGL</th>\n",
              "      <th>PBF</th>\n",
              "      <th>Shader</th>\n",
              "      <th>Simulation</th>\n",
              "      <th>Window</th>\n",
              "    </tr>\n",
              "  </thead>\n",
              "  <tbody>\n",
              "    <tr>\n",
              "      <th>ClippingFar</th>\n",
              "      <td>50</td>\n",
              "      <td>NaN</td>\n",
              "      <td>NaN</td>\n",
              "      <td>NaN</td>\n",
              "      <td>NaN</td>\n",
              "      <td>NaN</td>\n",
              "      <td>NaN</td>\n",
              "    </tr>\n",
              "    <tr>\n",
              "      <th>ClippingNear</th>\n",
              "      <td>0.1</td>\n",
              "      <td>NaN</td>\n",
              "      <td>NaN</td>\n",
              "      <td>NaN</td>\n",
              "      <td>NaN</td>\n",
              "      <td>NaN</td>\n",
              "      <td>NaN</td>\n",
              "    </tr>\n",
              "    <tr>\n",
              "      <th>FieldOfView</th>\n",
              "      <td>45</td>\n",
              "      <td>NaN</td>\n",
              "      <td>NaN</td>\n",
              "      <td>NaN</td>\n",
              "      <td>NaN</td>\n",
              "      <td>NaN</td>\n",
              "      <td>NaN</td>\n",
              "    </tr>\n",
              "    <tr>\n",
              "      <th>Position</th>\n",
              "      <td>{'x': 1.0, 'y': 1.5, 'z': 2.0}</td>\n",
              "      <td>NaN</td>\n",
              "      <td>NaN</td>\n",
              "      <td>NaN</td>\n",
              "      <td>NaN</td>\n",
              "      <td>NaN</td>\n",
              "      <td>NaN</td>\n",
              "    </tr>\n",
              "    <tr>\n",
              "      <th>Target</th>\n",
              "      <td>{'x': 0.0, 'y': 0.0, 'z': 0.0}</td>\n",
              "      <td>NaN</td>\n",
              "      <td>NaN</td>\n",
              "      <td>NaN</td>\n",
              "      <td>NaN</td>\n",
              "      <td>NaN</td>\n",
              "      <td>NaN</td>\n",
              "    </tr>\n",
              "    <tr>\n",
              "      <th>WorldUp</th>\n",
              "      <td>{'x': 0.0, 'y': 1.0, 'z': 0.0}</td>\n",
              "      <td>NaN</td>\n",
              "      <td>NaN</td>\n",
              "      <td>NaN</td>\n",
              "      <td>NaN</td>\n",
              "      <td>NaN</td>\n",
              "      <td>NaN</td>\n",
              "    </tr>\n",
              "    <tr>\n",
              "      <th>Color</th>\n",
              "      <td>NaN</td>\n",
              "      <td>{'x': 1.0, 'y': 1.0, 'z': 1.0}</td>\n",
              "      <td>NaN</td>\n",
              "      <td>NaN</td>\n",
              "      <td>NaN</td>\n",
              "      <td>NaN</td>\n",
              "      <td>NaN</td>\n",
              "    </tr>\n",
              "    <tr>\n",
              "      <th>Direction</th>\n",
              "      <td>NaN</td>\n",
              "      <td>{'x': 1.0, 'y': 1.0, 'z': 1.0}</td>\n",
              "      <td>NaN</td>\n",
              "      <td>NaN</td>\n",
              "      <td>NaN</td>\n",
              "      <td>NaN</td>\n",
              "      <td>NaN</td>\n",
              "    </tr>\n",
              "    <tr>\n",
              "      <th>IsCoreProfile</th>\n",
              "      <td>NaN</td>\n",
              "      <td>NaN</td>\n",
              "      <td>1.0</td>\n",
              "      <td>NaN</td>\n",
              "      <td>NaN</td>\n",
              "      <td>NaN</td>\n",
              "      <td>NaN</td>\n",
              "    </tr>\n",
              "    <tr>\n",
              "      <th>VersionMejor</th>\n",
              "      <td>NaN</td>\n",
              "      <td>NaN</td>\n",
              "      <td>3.0</td>\n",
              "      <td>NaN</td>\n",
              "      <td>NaN</td>\n",
              "      <td>NaN</td>\n",
              "      <td>NaN</td>\n",
              "    </tr>\n",
              "    <tr>\n",
              "      <th>VersionMinor</th>\n",
              "      <td>NaN</td>\n",
              "      <td>NaN</td>\n",
              "      <td>3.0</td>\n",
              "      <td>NaN</td>\n",
              "      <td>NaN</td>\n",
              "      <td>NaN</td>\n",
              "      <td>NaN</td>\n",
              "    </tr>\n",
              "    <tr>\n",
              "      <th>ArtificialPressureCoefficientK</th>\n",
              "      <td>NaN</td>\n",
              "      <td>NaN</td>\n",
              "      <td>NaN</td>\n",
              "      <td>0.100</td>\n",
              "      <td>NaN</td>\n",
              "      <td>NaN</td>\n",
              "      <td>NaN</td>\n",
              "    </tr>\n",
              "    <tr>\n",
              "      <th>ArtificialPressureCoefficientN</th>\n",
              "      <td>NaN</td>\n",
              "      <td>NaN</td>\n",
              "      <td>NaN</td>\n",
              "      <td>4.000</td>\n",
              "      <td>NaN</td>\n",
              "      <td>NaN</td>\n",
              "      <td>NaN</td>\n",
              "    </tr>\n",
              "    <tr>\n",
              "      <th>ArtificialPressureCoefficientQ</th>\n",
              "      <td>NaN</td>\n",
              "      <td>NaN</td>\n",
              "      <td>NaN</td>\n",
              "      <td>0.200</td>\n",
              "      <td>NaN</td>\n",
              "      <td>NaN</td>\n",
              "      <td>NaN</td>\n",
              "    </tr>\n",
              "    <tr>\n",
              "      <th>Epsilon</th>\n",
              "      <td>NaN</td>\n",
              "      <td>NaN</td>\n",
              "      <td>NaN</td>\n",
              "      <td>0.001</td>\n",
              "      <td>NaN</td>\n",
              "      <td>NaN</td>\n",
              "      <td>NaN</td>\n",
              "    </tr>\n",
              "    <tr>\n",
              "      <th>Eta</th>\n",
              "      <td>NaN</td>\n",
              "      <td>NaN</td>\n",
              "      <td>NaN</td>\n",
              "      <td>0.050</td>\n",
              "      <td>NaN</td>\n",
              "      <td>NaN</td>\n",
              "      <td>NaN</td>\n",
              "    </tr>\n",
              "    <tr>\n",
              "      <th>MaxIteration</th>\n",
              "      <td>NaN</td>\n",
              "      <td>NaN</td>\n",
              "      <td>NaN</td>\n",
              "      <td>10.000</td>\n",
              "      <td>NaN</td>\n",
              "      <td>NaN</td>\n",
              "      <td>NaN</td>\n",
              "    </tr>\n",
              "    <tr>\n",
              "      <th>MinIteration</th>\n",
              "      <td>NaN</td>\n",
              "      <td>NaN</td>\n",
              "      <td>NaN</td>\n",
              "      <td>2.000</td>\n",
              "      <td>NaN</td>\n",
              "      <td>NaN</td>\n",
              "      <td>NaN</td>\n",
              "    </tr>\n",
              "    <tr>\n",
              "      <th>BoundaryColor</th>\n",
              "      <td>NaN</td>\n",
              "      <td>NaN</td>\n",
              "      <td>NaN</td>\n",
              "      <td>NaN</td>\n",
              "      <td>{'x': 0.7000000000000001, 'y': 0.2, 'z': 0.2}</td>\n",
              "      <td>NaN</td>\n",
              "      <td>NaN</td>\n",
              "    </tr>\n",
              "    <tr>\n",
              "      <th>FluidColor</th>\n",
              "      <td>NaN</td>\n",
              "      <td>NaN</td>\n",
              "      <td>NaN</td>\n",
              "      <td>NaN</td>\n",
              "      <td>{'x': 0.2, 'y': 0.30000000000000004, 'z': 0.8}</td>\n",
              "      <td>NaN</td>\n",
              "      <td>NaN</td>\n",
              "    </tr>\n",
              "    <tr>\n",
              "      <th>FragmentPath</th>\n",
              "      <td>NaN</td>\n",
              "      <td>NaN</td>\n",
              "      <td>NaN</td>\n",
              "      <td>NaN</td>\n",
              "      <td>shaders/fragment.glsl</td>\n",
              "      <td>NaN</td>\n",
              "      <td>NaN</td>\n",
              "    </tr>\n",
              "    <tr>\n",
              "      <th>VertexPath</th>\n",
              "      <td>NaN</td>\n",
              "      <td>NaN</td>\n",
              "      <td>NaN</td>\n",
              "      <td>NaN</td>\n",
              "      <td>shaders/vertex.glsl</td>\n",
              "      <td>NaN</td>\n",
              "      <td>NaN</td>\n",
              "    </tr>\n",
              "    <tr>\n",
              "      <th>BoundarySize</th>\n",
              "      <td>NaN</td>\n",
              "      <td>NaN</td>\n",
              "      <td>NaN</td>\n",
              "      <td>NaN</td>\n",
              "      <td>NaN</td>\n",
              "      <td>{'x': 20, 'y': 20, 'z': 20}</td>\n",
              "      <td>NaN</td>\n",
              "    </tr>\n",
              "    <tr>\n",
              "      <th>DeltaTime</th>\n",
              "      <td>NaN</td>\n",
              "      <td>NaN</td>\n",
              "      <td>NaN</td>\n",
              "      <td>NaN</td>\n",
              "      <td>NaN</td>\n",
              "      <td>0.01</td>\n",
              "      <td>NaN</td>\n",
              "    </tr>\n",
              "    <tr>\n",
              "      <th>FluidPosition</th>\n",
              "      <td>NaN</td>\n",
              "      <td>NaN</td>\n",
              "      <td>NaN</td>\n",
              "      <td>NaN</td>\n",
              "      <td>NaN</td>\n",
              "      <td>{'x': 0.297284507125519, 'y': 0.23550155160006...</td>\n",
              "      <td>NaN</td>\n",
              "    </tr>\n",
              "    <tr>\n",
              "      <th>FluidSize</th>\n",
              "      <td>NaN</td>\n",
              "      <td>NaN</td>\n",
              "      <td>NaN</td>\n",
              "      <td>NaN</td>\n",
              "      <td>NaN</td>\n",
              "      <td>{'x': 10, 'y': 10, 'z': 10}</td>\n",
              "      <td>NaN</td>\n",
              "    </tr>\n",
              "    <tr>\n",
              "      <th>FluidVelocity</th>\n",
              "      <td>NaN</td>\n",
              "      <td>NaN</td>\n",
              "      <td>NaN</td>\n",
              "      <td>NaN</td>\n",
              "      <td>NaN</td>\n",
              "      <td>{'x': -0.21998363563040402, 'y': -0.2552654221...</td>\n",
              "      <td>NaN</td>\n",
              "    </tr>\n",
              "    <tr>\n",
              "      <th>GenerateData</th>\n",
              "      <td>NaN</td>\n",
              "      <td>NaN</td>\n",
              "      <td>NaN</td>\n",
              "      <td>NaN</td>\n",
              "      <td>NaN</td>\n",
              "      <td>True</td>\n",
              "      <td>NaN</td>\n",
              "    </tr>\n",
              "    <tr>\n",
              "      <th>KernelParticles</th>\n",
              "      <td>NaN</td>\n",
              "      <td>NaN</td>\n",
              "      <td>NaN</td>\n",
              "      <td>NaN</td>\n",
              "      <td>NaN</td>\n",
              "      <td>20</td>\n",
              "      <td>NaN</td>\n",
              "    </tr>\n",
              "    <tr>\n",
              "      <th>MaxTimestep</th>\n",
              "      <td>NaN</td>\n",
              "      <td>NaN</td>\n",
              "      <td>NaN</td>\n",
              "      <td>NaN</td>\n",
              "      <td>NaN</td>\n",
              "      <td>250</td>\n",
              "      <td>NaN</td>\n",
              "    </tr>\n",
              "    <tr>\n",
              "      <th>ParticleMass</th>\n",
              "      <td>NaN</td>\n",
              "      <td>NaN</td>\n",
              "      <td>NaN</td>\n",
              "      <td>NaN</td>\n",
              "      <td>NaN</td>\n",
              "      <td>0.04</td>\n",
              "      <td>NaN</td>\n",
              "    </tr>\n",
              "    <tr>\n",
              "      <th>RestDensity</th>\n",
              "      <td>NaN</td>\n",
              "      <td>NaN</td>\n",
              "      <td>NaN</td>\n",
              "      <td>NaN</td>\n",
              "      <td>NaN</td>\n",
              "      <td>998.29</td>\n",
              "      <td>NaN</td>\n",
              "    </tr>\n",
              "    <tr>\n",
              "      <th>SolverType</th>\n",
              "      <td>NaN</td>\n",
              "      <td>NaN</td>\n",
              "      <td>NaN</td>\n",
              "      <td>NaN</td>\n",
              "      <td>NaN</td>\n",
              "      <td>PBF</td>\n",
              "      <td>NaN</td>\n",
              "    </tr>\n",
              "    <tr>\n",
              "      <th>BackgroundColor</th>\n",
              "      <td>NaN</td>\n",
              "      <td>NaN</td>\n",
              "      <td>NaN</td>\n",
              "      <td>NaN</td>\n",
              "      <td>NaN</td>\n",
              "      <td>NaN</td>\n",
              "      <td>{'x': 0.2, 'y': 0.2, 'z': 0.2}</td>\n",
              "    </tr>\n",
              "    <tr>\n",
              "      <th>Height</th>\n",
              "      <td>NaN</td>\n",
              "      <td>NaN</td>\n",
              "      <td>NaN</td>\n",
              "      <td>NaN</td>\n",
              "      <td>NaN</td>\n",
              "      <td>NaN</td>\n",
              "      <td>600</td>\n",
              "    </tr>\n",
              "    <tr>\n",
              "      <th>Title</th>\n",
              "      <td>NaN</td>\n",
              "      <td>NaN</td>\n",
              "      <td>NaN</td>\n",
              "      <td>NaN</td>\n",
              "      <td>NaN</td>\n",
              "      <td>NaN</td>\n",
              "      <td>Position Based Fluids</td>\n",
              "    </tr>\n",
              "    <tr>\n",
              "      <th>Width</th>\n",
              "      <td>NaN</td>\n",
              "      <td>NaN</td>\n",
              "      <td>NaN</td>\n",
              "      <td>NaN</td>\n",
              "      <td>NaN</td>\n",
              "      <td>NaN</td>\n",
              "      <td>800</td>\n",
              "    </tr>\n",
              "  </tbody>\n",
              "</table>\n",
              "</div>"
            ],
            "text/plain": [
              "                                                        Camera  ...                          Window\n",
              "ClippingFar                                                 50  ...                             NaN\n",
              "ClippingNear                                               0.1  ...                             NaN\n",
              "FieldOfView                                                 45  ...                             NaN\n",
              "Position                        {'x': 1.0, 'y': 1.5, 'z': 2.0}  ...                             NaN\n",
              "Target                          {'x': 0.0, 'y': 0.0, 'z': 0.0}  ...                             NaN\n",
              "WorldUp                         {'x': 0.0, 'y': 1.0, 'z': 0.0}  ...                             NaN\n",
              "Color                                                      NaN  ...                             NaN\n",
              "Direction                                                  NaN  ...                             NaN\n",
              "IsCoreProfile                                              NaN  ...                             NaN\n",
              "VersionMejor                                               NaN  ...                             NaN\n",
              "VersionMinor                                               NaN  ...                             NaN\n",
              "ArtificialPressureCoefficientK                             NaN  ...                             NaN\n",
              "ArtificialPressureCoefficientN                             NaN  ...                             NaN\n",
              "ArtificialPressureCoefficientQ                             NaN  ...                             NaN\n",
              "Epsilon                                                    NaN  ...                             NaN\n",
              "Eta                                                        NaN  ...                             NaN\n",
              "MaxIteration                                               NaN  ...                             NaN\n",
              "MinIteration                                               NaN  ...                             NaN\n",
              "BoundaryColor                                              NaN  ...                             NaN\n",
              "FluidColor                                                 NaN  ...                             NaN\n",
              "FragmentPath                                               NaN  ...                             NaN\n",
              "VertexPath                                                 NaN  ...                             NaN\n",
              "BoundarySize                                               NaN  ...                             NaN\n",
              "DeltaTime                                                  NaN  ...                             NaN\n",
              "FluidPosition                                              NaN  ...                             NaN\n",
              "FluidSize                                                  NaN  ...                             NaN\n",
              "FluidVelocity                                              NaN  ...                             NaN\n",
              "GenerateData                                               NaN  ...                             NaN\n",
              "KernelParticles                                            NaN  ...                             NaN\n",
              "MaxTimestep                                                NaN  ...                             NaN\n",
              "ParticleMass                                               NaN  ...                             NaN\n",
              "RestDensity                                                NaN  ...                             NaN\n",
              "SolverType                                                 NaN  ...                             NaN\n",
              "BackgroundColor                                            NaN  ...  {'x': 0.2, 'y': 0.2, 'z': 0.2}\n",
              "Height                                                     NaN  ...                             600\n",
              "Title                                                      NaN  ...           Position Based Fluids\n",
              "Width                                                      NaN  ...                             800\n",
              "\n",
              "[37 rows x 7 columns]"
            ]
          },
          "metadata": {
            "tags": []
          },
          "execution_count": 17
        }
      ]
    },
    {
      "cell_type": "code",
      "metadata": {
        "colab": {
          "base_uri": "https://localhost:8080/"
        },
        "id": "OmfvbsYPW-ll",
        "outputId": "e4b7d3c6-396e-437d-b60a-134e7657f0b2"
      },
      "source": [
        "df.keys()"
      ],
      "execution_count": 12,
      "outputs": [
        {
          "output_type": "execute_result",
          "data": {
            "text/plain": [
              "Index(['idx', 'timestep', 'label', 'volume', 'mass', 'density', 'position.x',\n",
              "       'position.y', 'position.z', 'velocity.x', 'velocity.y', 'velocity.z'],\n",
              "      dtype='object')"
            ]
          },
          "metadata": {
            "tags": []
          },
          "execution_count": 12
        }
      ]
    },
    {
      "cell_type": "code",
      "metadata": {
        "colab": {
          "base_uri": "https://localhost:8080/"
        },
        "id": "uMpQjTuyYlbG",
        "outputId": "0457f8fd-c829-4ef3-f136-ed303540b547"
      },
      "source": [
        "df[\"volume\"]"
      ],
      "execution_count": 13,
      "outputs": [
        {
          "output_type": "execute_result",
          "data": {
            "text/plain": [
              "0         0.000065\n",
              "1         0.000056\n",
              "2         0.000056\n",
              "3         0.000056\n",
              "4         0.000056\n",
              "            ...   \n",
              "791995    0.000042\n",
              "791996    0.000042\n",
              "791997    0.000042\n",
              "791998    0.000042\n",
              "791999    0.000042\n",
              "Name: volume, Length: 792000, dtype: float64"
            ]
          },
          "metadata": {
            "tags": []
          },
          "execution_count": 13
        }
      ]
    },
    {
      "cell_type": "markdown",
      "metadata": {
        "id": "r-Yx396MQzR9"
      },
      "source": [
        "#グラフニューラルネットワーク"
      ]
    },
    {
      "cell_type": "code",
      "metadata": {
        "colab": {
          "base_uri": "https://localhost:8080/",
          "height": 419
        },
        "id": "pjBSfWWyRmpR",
        "outputId": "600fe906-2f91-4e68-9903-9c389e515382"
      },
      "source": [
        "df[df[\"timestep\"] == 1]"
      ],
      "execution_count": 14,
      "outputs": [
        {
          "output_type": "execute_result",
          "data": {
            "text/html": [
              "<div>\n",
              "<style scoped>\n",
              "    .dataframe tbody tr th:only-of-type {\n",
              "        vertical-align: middle;\n",
              "    }\n",
              "\n",
              "    .dataframe tbody tr th {\n",
              "        vertical-align: top;\n",
              "    }\n",
              "\n",
              "    .dataframe thead th {\n",
              "        text-align: right;\n",
              "    }\n",
              "</style>\n",
              "<table border=\"1\" class=\"dataframe\">\n",
              "  <thead>\n",
              "    <tr style=\"text-align: right;\">\n",
              "      <th></th>\n",
              "      <th>idx</th>\n",
              "      <th>timestep</th>\n",
              "      <th>label</th>\n",
              "      <th>volume</th>\n",
              "      <th>mass</th>\n",
              "      <th>density</th>\n",
              "      <th>position.x</th>\n",
              "      <th>position.y</th>\n",
              "      <th>position.z</th>\n",
              "      <th>velocity.x</th>\n",
              "      <th>velocity.y</th>\n",
              "      <th>velocity.z</th>\n",
              "    </tr>\n",
              "  </thead>\n",
              "  <tbody>\n",
              "    <tr>\n",
              "      <th>0</th>\n",
              "      <td>0</td>\n",
              "      <td>1</td>\n",
              "      <td>0</td>\n",
              "      <td>0.000065</td>\n",
              "      <td>0.062089</td>\n",
              "      <td>899.017</td>\n",
              "      <td>0.017109</td>\n",
              "      <td>0.017109</td>\n",
              "      <td>0.017109</td>\n",
              "      <td>0.000000</td>\n",
              "      <td>0.000000</td>\n",
              "      <td>0.000000</td>\n",
              "    </tr>\n",
              "    <tr>\n",
              "      <th>1</th>\n",
              "      <td>1</td>\n",
              "      <td>1</td>\n",
              "      <td>0</td>\n",
              "      <td>0.000056</td>\n",
              "      <td>0.053663</td>\n",
              "      <td>974.240</td>\n",
              "      <td>0.017109</td>\n",
              "      <td>0.017109</td>\n",
              "      <td>0.051329</td>\n",
              "      <td>0.000000</td>\n",
              "      <td>0.000000</td>\n",
              "      <td>0.000000</td>\n",
              "    </tr>\n",
              "    <tr>\n",
              "      <th>2</th>\n",
              "      <td>2</td>\n",
              "      <td>1</td>\n",
              "      <td>0</td>\n",
              "      <td>0.000056</td>\n",
              "      <td>0.053663</td>\n",
              "      <td>957.703</td>\n",
              "      <td>0.017109</td>\n",
              "      <td>0.017109</td>\n",
              "      <td>0.085548</td>\n",
              "      <td>0.000000</td>\n",
              "      <td>0.000000</td>\n",
              "      <td>0.000000</td>\n",
              "    </tr>\n",
              "    <tr>\n",
              "      <th>3</th>\n",
              "      <td>3</td>\n",
              "      <td>1</td>\n",
              "      <td>0</td>\n",
              "      <td>0.000056</td>\n",
              "      <td>0.053663</td>\n",
              "      <td>957.957</td>\n",
              "      <td>0.017109</td>\n",
              "      <td>0.017109</td>\n",
              "      <td>0.119767</td>\n",
              "      <td>0.000000</td>\n",
              "      <td>0.000000</td>\n",
              "      <td>0.000000</td>\n",
              "    </tr>\n",
              "    <tr>\n",
              "      <th>4</th>\n",
              "      <td>4</td>\n",
              "      <td>1</td>\n",
              "      <td>0</td>\n",
              "      <td>0.000056</td>\n",
              "      <td>0.053663</td>\n",
              "      <td>957.957</td>\n",
              "      <td>0.017109</td>\n",
              "      <td>0.017109</td>\n",
              "      <td>0.153986</td>\n",
              "      <td>0.000000</td>\n",
              "      <td>0.000000</td>\n",
              "      <td>0.000000</td>\n",
              "    </tr>\n",
              "    <tr>\n",
              "      <th>...</th>\n",
              "      <td>...</td>\n",
              "      <td>...</td>\n",
              "      <td>...</td>\n",
              "      <td>...</td>\n",
              "      <td>...</td>\n",
              "      <td>...</td>\n",
              "      <td>...</td>\n",
              "      <td>...</td>\n",
              "      <td>...</td>\n",
              "      <td>...</td>\n",
              "      <td>...</td>\n",
              "      <td>...</td>\n",
              "    </tr>\n",
              "    <tr>\n",
              "      <th>3163</th>\n",
              "      <td>3163</td>\n",
              "      <td>1</td>\n",
              "      <td>1</td>\n",
              "      <td>0.000042</td>\n",
              "      <td>0.040000</td>\n",
              "      <td>751.114</td>\n",
              "      <td>0.622365</td>\n",
              "      <td>0.560582</td>\n",
              "      <td>0.258867</td>\n",
              "      <td>-0.219984</td>\n",
              "      <td>-0.255265</td>\n",
              "      <td>0.412969</td>\n",
              "    </tr>\n",
              "    <tr>\n",
              "      <th>3164</th>\n",
              "      <td>3164</td>\n",
              "      <td>1</td>\n",
              "      <td>1</td>\n",
              "      <td>0.000042</td>\n",
              "      <td>0.040000</td>\n",
              "      <td>751.114</td>\n",
              "      <td>0.622365</td>\n",
              "      <td>0.560582</td>\n",
              "      <td>0.293086</td>\n",
              "      <td>-0.219984</td>\n",
              "      <td>-0.255265</td>\n",
              "      <td>0.412969</td>\n",
              "    </tr>\n",
              "    <tr>\n",
              "      <th>3165</th>\n",
              "      <td>3165</td>\n",
              "      <td>1</td>\n",
              "      <td>1</td>\n",
              "      <td>0.000042</td>\n",
              "      <td>0.040000</td>\n",
              "      <td>751.114</td>\n",
              "      <td>0.622365</td>\n",
              "      <td>0.560582</td>\n",
              "      <td>0.327305</td>\n",
              "      <td>-0.219984</td>\n",
              "      <td>-0.255265</td>\n",
              "      <td>0.412969</td>\n",
              "    </tr>\n",
              "    <tr>\n",
              "      <th>3166</th>\n",
              "      <td>3166</td>\n",
              "      <td>1</td>\n",
              "      <td>1</td>\n",
              "      <td>0.000042</td>\n",
              "      <td>0.040000</td>\n",
              "      <td>751.114</td>\n",
              "      <td>0.622365</td>\n",
              "      <td>0.560582</td>\n",
              "      <td>0.361524</td>\n",
              "      <td>-0.219984</td>\n",
              "      <td>-0.255265</td>\n",
              "      <td>0.412969</td>\n",
              "    </tr>\n",
              "    <tr>\n",
              "      <th>3167</th>\n",
              "      <td>3167</td>\n",
              "      <td>1</td>\n",
              "      <td>1</td>\n",
              "      <td>0.000042</td>\n",
              "      <td>0.040000</td>\n",
              "      <td>645.503</td>\n",
              "      <td>0.622365</td>\n",
              "      <td>0.560582</td>\n",
              "      <td>0.395743</td>\n",
              "      <td>-0.219984</td>\n",
              "      <td>-0.255265</td>\n",
              "      <td>0.412969</td>\n",
              "    </tr>\n",
              "  </tbody>\n",
              "</table>\n",
              "<p>3168 rows × 12 columns</p>\n",
              "</div>"
            ],
            "text/plain": [
              "       idx  timestep  label  ...  velocity.x  velocity.y  velocity.z\n",
              "0        0         1      0  ...    0.000000    0.000000    0.000000\n",
              "1        1         1      0  ...    0.000000    0.000000    0.000000\n",
              "2        2         1      0  ...    0.000000    0.000000    0.000000\n",
              "3        3         1      0  ...    0.000000    0.000000    0.000000\n",
              "4        4         1      0  ...    0.000000    0.000000    0.000000\n",
              "...    ...       ...    ...  ...         ...         ...         ...\n",
              "3163  3163         1      1  ...   -0.219984   -0.255265    0.412969\n",
              "3164  3164         1      1  ...   -0.219984   -0.255265    0.412969\n",
              "3165  3165         1      1  ...   -0.219984   -0.255265    0.412969\n",
              "3166  3166         1      1  ...   -0.219984   -0.255265    0.412969\n",
              "3167  3167         1      1  ...   -0.219984   -0.255265    0.412969\n",
              "\n",
              "[3168 rows x 12 columns]"
            ]
          },
          "metadata": {
            "tags": []
          },
          "execution_count": 14
        }
      ]
    },
    {
      "cell_type": "code",
      "metadata": {
        "colab": {
          "base_uri": "https://localhost:8080/"
        },
        "id": "uO6qhv3erL5k",
        "outputId": "048c0b27-0475-42a0-fc7c-42fa08af3828"
      },
      "source": [
        "df[df[\"timestep\"] == 1][[\"position.x\", \"position.y\", \"position.z\"]].values"
      ],
      "execution_count": 15,
      "outputs": [
        {
          "output_type": "execute_result",
          "data": {
            "text/plain": [
              "array([[0.0171095, 0.0171095, 0.0171095],\n",
              "       [0.0171095, 0.0171095, 0.0513286],\n",
              "       [0.0171095, 0.0171095, 0.0855476],\n",
              "       ...,\n",
              "       [0.622365 , 0.560582 , 0.327305 ],\n",
              "       [0.622365 , 0.560582 , 0.361524 ],\n",
              "       [0.622365 , 0.560582 , 0.395743 ]])"
            ]
          },
          "metadata": {
            "tags": []
          },
          "execution_count": 15
        }
      ]
    },
    {
      "cell_type": "code",
      "metadata": {
        "id": "Tp_9LN5VwDRc"
      },
      "source": [
        "# TODO: leaf_sizeについて調べる\n",
        "# TODO: ハッシュ値を使った実装に変更\n",
        "\n",
        "def NearestNeighborSearch(pos, radius):\n",
        "  tree = neighbors.KDTree(pos, leaf_size=2)\n",
        "  idx = tree.query_radius(pos[:], r=radius)\n",
        "  return idx"
      ],
      "execution_count": 19,
      "outputs": []
    },
    {
      "cell_type": "code",
      "metadata": {
        "colab": {
          "base_uri": "https://localhost:8080/"
        },
        "id": "2XGDd7cJshp7",
        "outputId": "260c2042-f9d5-4732-c463-63a3361e9250"
      },
      "source": [
        "pos = df[df[\"timestep\"] == 1][[\" position.x\", \" position.y\", \" position.z\"]].values\n",
        "idx = NearestNeighborSearch(pos, 0.05)\n",
        "idx"
      ],
      "execution_count": 15,
      "outputs": [
        {
          "output_type": "execute_result",
          "data": {
            "text/plain": [
              "array([array([  0,   1, 401, 400,  21,  20, 420]),\n",
              "       array([  0,   1, 401, 400,   2, 402,  21,  20,  22]),\n",
              "       array([  1, 401,   2,   3, 403, 402,  21,  23,  22]), ...,\n",
              "       array([3156, 3164, 3154, 3064, 3155, 3055, 3065, 3166, 3066, 3165]),\n",
              "       array([3056, 3156, 3155, 3065, 3166, 3066, 3165, 3157, 3167, 3067]),\n",
              "       array([3156, 3166, 3066, 3057, 3157, 3167, 3067])], dtype=object)"
            ]
          },
          "metadata": {
            "tags": []
          },
          "execution_count": 15
        }
      ]
    },
    {
      "cell_type": "code",
      "metadata": {
        "id": "XHUn2SQYpo1W"
      },
      "source": [
        "def Encode(df, radius):\n",
        "  V = df[[\"position.x\", \"position.y\", \"position.z\", \"velocity.x\", \"velocity.y\", \"velocity.z\"]].values\n",
        "\n",
        "  neighbor_indices = NearestNeighborSearch(df[[\"position.x\", \"position.y\", \"position.z\"]].values, radius)\n",
        "\n",
        "  receivers = np.zeros()\n",
        "  senders = np.zeros()\n",
        "  relative_positions = np.zeros()\n",
        "  for receiver, neighbor in enumerate(neighbor_indices):\n",
        "    for sender in neighbor:\n",
        "      # 近傍粒子から自身を除く\n",
        "      if sender == receiver: continue\n",
        "      receivers = np.append(receivers, [receiver])\n",
        "      snders = np.append(senders, [sender])\n",
        "      r_ij = df[sender:sender+1][[\"position.x\", \"position.y\", \"position.z\"]].values - df[receiver:receiver+1][[\"position.x\", \"position.y\", \"position.z\"]].values\n",
        "      E = np.append(E, [r_ij, receiver, sender])\n",
        "  return [V, E]"
      ],
      "execution_count": 52,
      "outputs": []
    },
    {
      "cell_type": "code",
      "metadata": {
        "colab": {
          "base_uri": "https://localhost:8080/"
        },
        "id": "Q-4QV8i1H5PW",
        "outputId": "f10699b7-90c8-4d58-8787-b548272504bb"
      },
      "source": [
        "tmp = np.zeros(0)\n",
        "tmp = np.append(tmp, [np.array([1, 2]),])\n",
        "tmp"
      ],
      "execution_count": 81,
      "outputs": [
        {
          "output_type": "execute_result",
          "data": {
            "text/plain": [
              "array([1., 2., 2., 3.])"
            ]
          },
          "metadata": {
            "tags": []
          },
          "execution_count": 81
        }
      ]
    },
    {
      "cell_type": "code",
      "metadata": {
        "colab": {
          "base_uri": "https://localhost:8080/",
          "height": 426
        },
        "id": "-O9eUwnudFhq",
        "outputId": "97849253-fabf-47da-e64c-8adb6e9e433f"
      },
      "source": [
        "V0, E0 = Encode(df[df[\"timestep\"] == 1], 0.05)\n",
        "E0"
      ],
      "execution_count": 53,
      "outputs": [
        {
          "output_type": "stream",
          "text": [
            "/usr/local/lib/python3.7/dist-packages/ipykernel_launcher.py:11: VisibleDeprecationWarning: Creating an ndarray from ragged nested sequences (which is a list-or-tuple of lists-or-tuples-or ndarrays with different lengths or shapes) is deprecated. If you meant to do this, you must specify 'dtype=object' when creating the ndarray\n",
            "  # This is added back by InteractiveShellApp.init_path()\n"
          ],
          "name": "stderr"
        },
        {
          "output_type": "error",
          "ename": "ValueError",
          "evalue": "ignored",
          "traceback": [
            "\u001b[0;31m---------------------------------------------------------------------------\u001b[0m",
            "\u001b[0;31mTypeError\u001b[0m                                 Traceback (most recent call last)",
            "\u001b[0;31mTypeError\u001b[0m: only size-1 arrays can be converted to Python scalars",
            "\nThe above exception was the direct cause of the following exception:\n",
            "\u001b[0;31mValueError\u001b[0m                                Traceback (most recent call last)",
            "\u001b[0;32m<ipython-input-53-1e2c0ba564d7>\u001b[0m in \u001b[0;36m<module>\u001b[0;34m()\u001b[0m\n\u001b[0;32m----> 1\u001b[0;31m \u001b[0mV0\u001b[0m\u001b[0;34m,\u001b[0m \u001b[0mE0\u001b[0m \u001b[0;34m=\u001b[0m \u001b[0mEncode\u001b[0m\u001b[0;34m(\u001b[0m\u001b[0mdf\u001b[0m\u001b[0;34m[\u001b[0m\u001b[0mdf\u001b[0m\u001b[0;34m[\u001b[0m\u001b[0;34m\"timestep\"\u001b[0m\u001b[0;34m]\u001b[0m \u001b[0;34m==\u001b[0m \u001b[0;36m1\u001b[0m\u001b[0;34m]\u001b[0m\u001b[0;34m,\u001b[0m \u001b[0;36m0.05\u001b[0m\u001b[0;34m)\u001b[0m\u001b[0;34m\u001b[0m\u001b[0;34m\u001b[0m\u001b[0m\n\u001b[0m\u001b[1;32m      2\u001b[0m \u001b[0mE0\u001b[0m\u001b[0;34m\u001b[0m\u001b[0;34m\u001b[0m\u001b[0m\n",
            "\u001b[0;32m<ipython-input-52-bdd3d475ee01>\u001b[0m in \u001b[0;36mEncode\u001b[0;34m(df, radius)\u001b[0m\n\u001b[1;32m      9\u001b[0m       \u001b[0;32mif\u001b[0m \u001b[0msender\u001b[0m \u001b[0;34m==\u001b[0m \u001b[0mreceiver\u001b[0m\u001b[0;34m:\u001b[0m \u001b[0;32mcontinue\u001b[0m\u001b[0;34m\u001b[0m\u001b[0;34m\u001b[0m\u001b[0m\n\u001b[1;32m     10\u001b[0m       \u001b[0mr_ij\u001b[0m \u001b[0;34m=\u001b[0m \u001b[0mdf\u001b[0m\u001b[0;34m[\u001b[0m\u001b[0msender\u001b[0m\u001b[0;34m:\u001b[0m\u001b[0msender\u001b[0m\u001b[0;34m+\u001b[0m\u001b[0;36m1\u001b[0m\u001b[0;34m]\u001b[0m\u001b[0;34m[\u001b[0m\u001b[0;34m[\u001b[0m\u001b[0;34m\"position.x\"\u001b[0m\u001b[0;34m,\u001b[0m \u001b[0;34m\"position.y\"\u001b[0m\u001b[0;34m,\u001b[0m \u001b[0;34m\"position.z\"\u001b[0m\u001b[0;34m]\u001b[0m\u001b[0;34m]\u001b[0m\u001b[0;34m.\u001b[0m\u001b[0mvalues\u001b[0m \u001b[0;34m-\u001b[0m \u001b[0mdf\u001b[0m\u001b[0;34m[\u001b[0m\u001b[0mreceiver\u001b[0m\u001b[0;34m:\u001b[0m\u001b[0mreceiver\u001b[0m\u001b[0;34m+\u001b[0m\u001b[0;36m1\u001b[0m\u001b[0;34m]\u001b[0m\u001b[0;34m[\u001b[0m\u001b[0;34m[\u001b[0m\u001b[0;34m\"position.x\"\u001b[0m\u001b[0;34m,\u001b[0m \u001b[0;34m\"position.y\"\u001b[0m\u001b[0;34m,\u001b[0m \u001b[0;34m\"position.z\"\u001b[0m\u001b[0;34m]\u001b[0m\u001b[0;34m]\u001b[0m\u001b[0;34m.\u001b[0m\u001b[0mvalues\u001b[0m\u001b[0;34m\u001b[0m\u001b[0;34m\u001b[0m\u001b[0m\n\u001b[0;32m---> 11\u001b[0;31m       \u001b[0mE\u001b[0m\u001b[0;34m[\u001b[0m\u001b[0mreceiver\u001b[0m\u001b[0;34m]\u001b[0m \u001b[0;34m=\u001b[0m \u001b[0mnp\u001b[0m\u001b[0;34m.\u001b[0m\u001b[0marray\u001b[0m\u001b[0;34m(\u001b[0m\u001b[0;34m[\u001b[0m\u001b[0mr_ij\u001b[0m\u001b[0;34m,\u001b[0m \u001b[0mreceiver\u001b[0m\u001b[0;34m,\u001b[0m \u001b[0msender\u001b[0m\u001b[0;34m]\u001b[0m\u001b[0;34m)\u001b[0m\u001b[0;34m\u001b[0m\u001b[0;34m\u001b[0m\u001b[0m\n\u001b[0m\u001b[1;32m     12\u001b[0m   \u001b[0;32mreturn\u001b[0m \u001b[0;34m[\u001b[0m\u001b[0mV\u001b[0m\u001b[0;34m,\u001b[0m \u001b[0mE\u001b[0m\u001b[0;34m]\u001b[0m\u001b[0;34m\u001b[0m\u001b[0;34m\u001b[0m\u001b[0m\n",
            "\u001b[0;31mValueError\u001b[0m: setting an array element with a sequence."
          ]
        }
      ]
    }
  ]
}